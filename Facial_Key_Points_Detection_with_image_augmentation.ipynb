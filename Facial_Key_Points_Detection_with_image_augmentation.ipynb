{
  "nbformat": 4,
  "nbformat_minor": 0,
  "metadata": {
    "colab": {
      "name": "Facial Key Points Detection with image augmentation.ipynb",
      "provenance": [],
      "toc_visible": true,
      "machine_shape": "hm",
      "authorship_tag": "ABX9TyPixKykiJu+6ol2CKI4QAWo",
      "include_colab_link": true
    },
    "kernelspec": {
      "name": "python3",
      "display_name": "Python 3"
    },
    "accelerator": "GPU"
  },
  "cells": [
    {
      "cell_type": "markdown",
      "metadata": {
        "id": "view-in-github",
        "colab_type": "text"
      },
      "source": [
        "<a href=\"https://colab.research.google.com/github/vaibhavsundharam/Facial-Key-Points-Detection/blob/master/Facial_Key_Points_Detection_with_image_augmentation.ipynb\" target=\"_parent\"><img src=\"https://colab.research.google.com/assets/colab-badge.svg\" alt=\"Open In Colab\"/></a>"
      ]
    },
    {
      "cell_type": "markdown",
      "metadata": {
        "id": "cNWcZ67MDTga",
        "colab_type": "text"
      },
      "source": [
        "#Facial Key Point Detection with Image Augmentation\n",
        "\n",
        "This work builds on the previous work with the addition of data augmentation. \n",
        "\n",
        "Acknowledgements:\n",
        "The data set for this competition was graciously provided by Dr. Yoshua Bengio of the University of Montreal. James Petterson."
      ]
    },
    {
      "cell_type": "markdown",
      "metadata": {
        "id": "RT_ajy7zEB6T",
        "colab_type": "text"
      },
      "source": [
        "#Data\n",
        "\n",
        "Each predicted keypoint is specified by an (x,y) real-valued pair in the space of pixel indices. There are 15 keypoints, which represent the following elements of the face:\n",
        "\n",
        "left_eye_center, right_eye_center, left_eye_inner_corner, left_eye_outer_corner, right_eye_inner_corner, right_eye_outer_corner, left_eyebrow_inner_end, left_eyebrow_outer_end, right_eyebrow_inner_end, right_eyebrow_outer_end, nose_tip, mouth_left_corner, mouth_right_corner, mouth_center_top_lip, mouth_center_bottom_lip\n",
        "\n",
        "Left and right here refers to the point of view of the subject.\n",
        "\n",
        "In some examples, some of the target keypoint positions are misssing (encoded as missing entries in the csv, i.e., with nothing between two commas).\n",
        "\n",
        "The input image is given in the last field of the data files, and consists of a list of pixels (ordered by row), as integers in (0,255). The images are 96x96 pixels.\n",
        "\n",
        "Data Files: kaggle competitions download -c facial-keypoints-detection\n",
        "\n",
        "\n",
        "*   training.csv: list of training 7049 images. Each row contains the (x,y) coordinates for 15 keypoints, and image data as row-ordered list of pixels.\n",
        "*   test.csv: list of 1783 test images. Each row contains ImageId and image data as row-ordered list of pixels\n",
        "\n"
      ]
    },
    {
      "cell_type": "code",
      "metadata": {
        "id": "w0O-z72HFCfF",
        "colab_type": "code",
        "colab": {
          "base_uri": "https://localhost:8080/",
          "height": 124
        },
        "outputId": "3b69d658-23e7-4975-96a0-00f2d5539018"
      },
      "source": [
        "# Mounting drive\n",
        "from google.colab import drive\n",
        "drive.mount('/content/gdrive/')"
      ],
      "execution_count": 1,
      "outputs": [
        {
          "output_type": "stream",
          "text": [
            "Go to this URL in a browser: https://accounts.google.com/o/oauth2/auth?client_id=947318989803-6bn6qk8qdgf4n4g3pfee6491hc0brc4i.apps.googleusercontent.com&redirect_uri=urn%3aietf%3awg%3aoauth%3a2.0%3aoob&response_type=code&scope=email%20https%3a%2f%2fwww.googleapis.com%2fauth%2fdocs.test%20https%3a%2f%2fwww.googleapis.com%2fauth%2fdrive%20https%3a%2f%2fwww.googleapis.com%2fauth%2fdrive.photos.readonly%20https%3a%2f%2fwww.googleapis.com%2fauth%2fpeopleapi.readonly\n",
            "\n",
            "Enter your authorization code:\n",
            "··········\n",
            "Mounted at /content/gdrive/\n"
          ],
          "name": "stdout"
        }
      ]
    },
    {
      "cell_type": "code",
      "metadata": {
        "id": "TxUfjUBjFwdy",
        "colab_type": "code",
        "colab": {
          "base_uri": "https://localhost:8080/",
          "height": 35
        },
        "outputId": "5797b003-af12-45fa-ea4d-6df20292b45e"
      },
      "source": [
        "#changing the working directory\n",
        "%cd /content/gdrive/My Drive/Machine Learning/Kaggle/Facial Key Points Detection"
      ],
      "execution_count": 2,
      "outputs": [
        {
          "output_type": "stream",
          "text": [
            "/content/gdrive/My Drive/Machine Learning/Kaggle/Facial Key Points Detection\n"
          ],
          "name": "stdout"
        }
      ]
    },
    {
      "cell_type": "code",
      "metadata": {
        "id": "yyCMhYFbFQu8",
        "colab_type": "code",
        "colab": {}
      },
      "source": [
        "#Run the following code to provide the config path to kaggle.json\n",
        "import os\n",
        "os.environ['KAGGLE_CONFIG_DIR'] = \"/content/gdrive/My Drive/Machine Learning/Kaggle\""
      ],
      "execution_count": 3,
      "outputs": []
    },
    {
      "cell_type": "code",
      "metadata": {
        "id": "_KAO16MyF07v",
        "colab_type": "code",
        "colab": {
          "base_uri": "https://localhost:8080/",
          "height": 173
        },
        "outputId": "8489a065-db90-410e-97b5-9a16f4433c0c"
      },
      "source": [
        "# download the dataset\n",
        "! kaggle competitions download -c facial-keypoints-detection"
      ],
      "execution_count": null,
      "outputs": [
        {
          "output_type": "stream",
          "text": [
            "Warning: Looks like you're using an outdated API Version, please consider updating (server 1.5.6 / client 1.5.4)\n",
            "SampleSubmission.csv: Skipping, found more recently modified local copy (use --force to force download)\n",
            "IdLookupTable.csv: Skipping, found more recently modified local copy (use --force to force download)\n",
            "Downloading training.zip to /content/gdrive/My Drive/Machine Learning/Kaggle/Facial Key Points Detection\n",
            " 72% 43.0M/60.1M [00:00<00:00, 75.3MB/s]\n",
            "100% 60.1M/60.1M [00:00<00:00, 122MB/s] \n",
            "Downloading test.zip to /content/gdrive/My Drive/Machine Learning/Kaggle/Facial Key Points Detection\n",
            " 44% 7.00M/16.0M [00:00<00:00, 69.5MB/s]\n",
            "100% 16.0M/16.0M [00:00<00:00, 77.9MB/s]\n"
          ],
          "name": "stdout"
        }
      ]
    },
    {
      "cell_type": "code",
      "metadata": {
        "id": "Zbq2IPqBI7Sf",
        "colab_type": "code",
        "colab": {
          "base_uri": "https://localhost:8080/",
          "height": 156
        },
        "outputId": "578b5135-87ea-4b2e-8e9f-cb34991e9030"
      },
      "source": [
        "#unzipping the zip files and deleting the zip files\n",
        "!unzip \\*.zip  && rm *.zip"
      ],
      "execution_count": null,
      "outputs": [
        {
          "output_type": "stream",
          "text": [
            "Archive:  training.zip\n",
            "replace training.csv? [y]es, [n]o, [A]ll, [N]one, [r]ename: A\n",
            "  inflating: training.csv            \n",
            "\n",
            "Archive:  test.zip\n",
            "  inflating: test.csv                \n",
            "\n",
            "2 archives were successfully processed.\n"
          ],
          "name": "stdout"
        }
      ]
    },
    {
      "cell_type": "markdown",
      "metadata": {
        "id": "wXFnM1WPE7gX",
        "colab_type": "text"
      },
      "source": [
        "#General initializations"
      ]
    },
    {
      "cell_type": "code",
      "metadata": {
        "id": "GxrhnWndE-K2",
        "colab_type": "code",
        "colab": {}
      },
      "source": [
        "import torch\n",
        "import sys\n",
        "import os\n",
        "from __future__ import print_function, division\n",
        "import matplotlib.pyplot as plt\n",
        "from torchvision import transforms, utils\n",
        "import torchvision.transforms as transforms\n",
        "import torchvision.models as models\n",
        "from skimage.transform import resize\n",
        "import torch.nn as nn\n",
        "import torch.nn.functional as F\n",
        "import cv2\n",
        "import re\n",
        "import pandas as pd\n",
        "import numpy as np\n",
        "\n",
        "# Ignore warnings\n",
        "import warnings\n",
        "warnings.filterwarnings(\"ignore\")\n",
        "plt.ion()   # interactive mode"
      ],
      "execution_count": 4,
      "outputs": []
    },
    {
      "cell_type": "code",
      "metadata": {
        "id": "QQZpoTl-E6-D",
        "colab_type": "code",
        "colab": {
          "base_uri": "https://localhost:8080/",
          "height": 35
        },
        "outputId": "07609675-4ad3-4999-9258-1e5749214d66"
      },
      "source": [
        "torch.cuda.is_available()"
      ],
      "execution_count": 5,
      "outputs": [
        {
          "output_type": "execute_result",
          "data": {
            "text/plain": [
              "True"
            ]
          },
          "metadata": {
            "tags": []
          },
          "execution_count": 5
        }
      ]
    },
    {
      "cell_type": "code",
      "metadata": {
        "id": "JWOO4NSFDQot",
        "colab_type": "code",
        "colab": {
          "base_uri": "https://localhost:8080/",
          "height": 35
        },
        "outputId": "9bcbc250-1ab8-4d24-f57e-87228a998811"
      },
      "source": [
        "# Set device on GPU if available, else CPU\n",
        "device = torch.device('cuda' if torch.cuda.is_available() else 'cpu')\n",
        "print(device)"
      ],
      "execution_count": 6,
      "outputs": [
        {
          "output_type": "stream",
          "text": [
            "cuda\n"
          ],
          "name": "stdout"
        }
      ]
    },
    {
      "cell_type": "markdown",
      "metadata": {
        "id": "oanXylzOZPVN",
        "colab_type": "text"
      },
      "source": [
        "#Data Preprocessing"
      ]
    },
    {
      "cell_type": "code",
      "metadata": {
        "id": "7e1kwj1tZTO7",
        "colab_type": "code",
        "colab": {}
      },
      "source": [
        "# Loading the csv files (give path to your cvs files)\n",
        "train_csv=pd.read_csv(\"/content/gdrive/My Drive/Machine Learning/Kaggle/Facial Key Points Detection/training.csv\")\n",
        "test_csv=pd.read_csv(\"/content/gdrive/My Drive/Machine Learning/Kaggle/Facial Key Points Detection/test.csv\")\n",
        "IdLookupTable_csv=pd.read_csv(\"/content/gdrive/My Drive/Machine Learning/Kaggle/Facial Key Points Detection/IdLookupTable.csv\")"
      ],
      "execution_count": 7,
      "outputs": []
    },
    {
      "cell_type": "code",
      "metadata": {
        "id": "38dOIqUh2xJ5",
        "colab_type": "code",
        "colab": {
          "base_uri": "https://localhost:8080/",
          "height": 1000
        },
        "outputId": "4fa1666a-0be7-44f8-a989-ebf40c4bc850"
      },
      "source": [
        "# exploring the train data, each row is an example\n",
        "train_csv.head()"
      ],
      "execution_count": null,
      "outputs": [
        {
          "output_type": "execute_result",
          "data": {
            "text/html": [
              "<div>\n",
              "<style scoped>\n",
              "    .dataframe tbody tr th:only-of-type {\n",
              "        vertical-align: middle;\n",
              "    }\n",
              "\n",
              "    .dataframe tbody tr th {\n",
              "        vertical-align: top;\n",
              "    }\n",
              "\n",
              "    .dataframe thead th {\n",
              "        text-align: right;\n",
              "    }\n",
              "</style>\n",
              "<table border=\"1\" class=\"dataframe\">\n",
              "  <thead>\n",
              "    <tr style=\"text-align: right;\">\n",
              "      <th></th>\n",
              "      <th>left_eye_center_x</th>\n",
              "      <th>left_eye_center_y</th>\n",
              "      <th>right_eye_center_x</th>\n",
              "      <th>right_eye_center_y</th>\n",
              "      <th>left_eye_inner_corner_x</th>\n",
              "      <th>left_eye_inner_corner_y</th>\n",
              "      <th>left_eye_outer_corner_x</th>\n",
              "      <th>left_eye_outer_corner_y</th>\n",
              "      <th>right_eye_inner_corner_x</th>\n",
              "      <th>right_eye_inner_corner_y</th>\n",
              "      <th>right_eye_outer_corner_x</th>\n",
              "      <th>right_eye_outer_corner_y</th>\n",
              "      <th>left_eyebrow_inner_end_x</th>\n",
              "      <th>left_eyebrow_inner_end_y</th>\n",
              "      <th>left_eyebrow_outer_end_x</th>\n",
              "      <th>left_eyebrow_outer_end_y</th>\n",
              "      <th>right_eyebrow_inner_end_x</th>\n",
              "      <th>right_eyebrow_inner_end_y</th>\n",
              "      <th>right_eyebrow_outer_end_x</th>\n",
              "      <th>right_eyebrow_outer_end_y</th>\n",
              "      <th>nose_tip_x</th>\n",
              "      <th>nose_tip_y</th>\n",
              "      <th>mouth_left_corner_x</th>\n",
              "      <th>mouth_left_corner_y</th>\n",
              "      <th>mouth_right_corner_x</th>\n",
              "      <th>mouth_right_corner_y</th>\n",
              "      <th>mouth_center_top_lip_x</th>\n",
              "      <th>mouth_center_top_lip_y</th>\n",
              "      <th>mouth_center_bottom_lip_x</th>\n",
              "      <th>mouth_center_bottom_lip_y</th>\n",
              "      <th>Image</th>\n",
              "    </tr>\n",
              "  </thead>\n",
              "  <tbody>\n",
              "    <tr>\n",
              "      <th>0</th>\n",
              "      <td>66.033564</td>\n",
              "      <td>39.002274</td>\n",
              "      <td>30.227008</td>\n",
              "      <td>36.421678</td>\n",
              "      <td>59.582075</td>\n",
              "      <td>39.647423</td>\n",
              "      <td>73.130346</td>\n",
              "      <td>39.969997</td>\n",
              "      <td>36.356571</td>\n",
              "      <td>37.389402</td>\n",
              "      <td>23.452872</td>\n",
              "      <td>37.389402</td>\n",
              "      <td>56.953263</td>\n",
              "      <td>29.033648</td>\n",
              "      <td>80.227128</td>\n",
              "      <td>32.228138</td>\n",
              "      <td>40.227609</td>\n",
              "      <td>29.002322</td>\n",
              "      <td>16.356379</td>\n",
              "      <td>29.647471</td>\n",
              "      <td>44.420571</td>\n",
              "      <td>57.066803</td>\n",
              "      <td>61.195308</td>\n",
              "      <td>79.970165</td>\n",
              "      <td>28.614496</td>\n",
              "      <td>77.388992</td>\n",
              "      <td>43.312602</td>\n",
              "      <td>72.935459</td>\n",
              "      <td>43.130707</td>\n",
              "      <td>84.485774</td>\n",
              "      <td>238 236 237 238 240 240 239 241 241 243 240 23...</td>\n",
              "    </tr>\n",
              "    <tr>\n",
              "      <th>1</th>\n",
              "      <td>64.332936</td>\n",
              "      <td>34.970077</td>\n",
              "      <td>29.949277</td>\n",
              "      <td>33.448715</td>\n",
              "      <td>58.856170</td>\n",
              "      <td>35.274349</td>\n",
              "      <td>70.722723</td>\n",
              "      <td>36.187166</td>\n",
              "      <td>36.034723</td>\n",
              "      <td>34.361532</td>\n",
              "      <td>24.472511</td>\n",
              "      <td>33.144443</td>\n",
              "      <td>53.987404</td>\n",
              "      <td>28.275949</td>\n",
              "      <td>78.634213</td>\n",
              "      <td>30.405923</td>\n",
              "      <td>42.728851</td>\n",
              "      <td>26.146043</td>\n",
              "      <td>16.865362</td>\n",
              "      <td>27.058860</td>\n",
              "      <td>48.206298</td>\n",
              "      <td>55.660936</td>\n",
              "      <td>56.421447</td>\n",
              "      <td>76.352000</td>\n",
              "      <td>35.122383</td>\n",
              "      <td>76.047660</td>\n",
              "      <td>46.684596</td>\n",
              "      <td>70.266553</td>\n",
              "      <td>45.467915</td>\n",
              "      <td>85.480170</td>\n",
              "      <td>219 215 204 196 204 211 212 200 180 168 178 19...</td>\n",
              "    </tr>\n",
              "    <tr>\n",
              "      <th>2</th>\n",
              "      <td>65.057053</td>\n",
              "      <td>34.909642</td>\n",
              "      <td>30.903789</td>\n",
              "      <td>34.909642</td>\n",
              "      <td>59.412000</td>\n",
              "      <td>36.320968</td>\n",
              "      <td>70.984421</td>\n",
              "      <td>36.320968</td>\n",
              "      <td>37.678105</td>\n",
              "      <td>36.320968</td>\n",
              "      <td>24.976421</td>\n",
              "      <td>36.603221</td>\n",
              "      <td>55.742526</td>\n",
              "      <td>27.570947</td>\n",
              "      <td>78.887368</td>\n",
              "      <td>32.651621</td>\n",
              "      <td>42.193895</td>\n",
              "      <td>28.135453</td>\n",
              "      <td>16.791158</td>\n",
              "      <td>32.087116</td>\n",
              "      <td>47.557263</td>\n",
              "      <td>53.538947</td>\n",
              "      <td>60.822947</td>\n",
              "      <td>73.014316</td>\n",
              "      <td>33.726316</td>\n",
              "      <td>72.732000</td>\n",
              "      <td>47.274947</td>\n",
              "      <td>70.191789</td>\n",
              "      <td>47.274947</td>\n",
              "      <td>78.659368</td>\n",
              "      <td>144 142 159 180 188 188 184 180 167 132 84 59 ...</td>\n",
              "    </tr>\n",
              "    <tr>\n",
              "      <th>3</th>\n",
              "      <td>65.225739</td>\n",
              "      <td>37.261774</td>\n",
              "      <td>32.023096</td>\n",
              "      <td>37.261774</td>\n",
              "      <td>60.003339</td>\n",
              "      <td>39.127179</td>\n",
              "      <td>72.314713</td>\n",
              "      <td>38.380967</td>\n",
              "      <td>37.618643</td>\n",
              "      <td>38.754115</td>\n",
              "      <td>25.307270</td>\n",
              "      <td>38.007903</td>\n",
              "      <td>56.433809</td>\n",
              "      <td>30.929864</td>\n",
              "      <td>77.910261</td>\n",
              "      <td>31.665725</td>\n",
              "      <td>41.671513</td>\n",
              "      <td>31.049990</td>\n",
              "      <td>20.458017</td>\n",
              "      <td>29.909343</td>\n",
              "      <td>51.885078</td>\n",
              "      <td>54.166539</td>\n",
              "      <td>65.598887</td>\n",
              "      <td>72.703722</td>\n",
              "      <td>37.245496</td>\n",
              "      <td>74.195478</td>\n",
              "      <td>50.303165</td>\n",
              "      <td>70.091687</td>\n",
              "      <td>51.561183</td>\n",
              "      <td>78.268383</td>\n",
              "      <td>193 192 193 194 194 194 193 192 168 111 50 12 ...</td>\n",
              "    </tr>\n",
              "    <tr>\n",
              "      <th>4</th>\n",
              "      <td>66.725301</td>\n",
              "      <td>39.621261</td>\n",
              "      <td>32.244810</td>\n",
              "      <td>38.042032</td>\n",
              "      <td>58.565890</td>\n",
              "      <td>39.621261</td>\n",
              "      <td>72.515926</td>\n",
              "      <td>39.884466</td>\n",
              "      <td>36.982380</td>\n",
              "      <td>39.094852</td>\n",
              "      <td>22.506110</td>\n",
              "      <td>38.305237</td>\n",
              "      <td>57.249571</td>\n",
              "      <td>30.672177</td>\n",
              "      <td>77.762945</td>\n",
              "      <td>31.737247</td>\n",
              "      <td>38.035436</td>\n",
              "      <td>30.935382</td>\n",
              "      <td>15.925870</td>\n",
              "      <td>30.672177</td>\n",
              "      <td>43.299534</td>\n",
              "      <td>64.889521</td>\n",
              "      <td>60.671411</td>\n",
              "      <td>77.523239</td>\n",
              "      <td>31.191755</td>\n",
              "      <td>76.997301</td>\n",
              "      <td>44.962748</td>\n",
              "      <td>73.707387</td>\n",
              "      <td>44.227141</td>\n",
              "      <td>86.871166</td>\n",
              "      <td>147 148 160 196 215 214 216 217 219 220 206 18...</td>\n",
              "    </tr>\n",
              "  </tbody>\n",
              "</table>\n",
              "</div>"
            ],
            "text/plain": [
              "   left_eye_center_x  ...                                              Image\n",
              "0          66.033564  ...  238 236 237 238 240 240 239 241 241 243 240 23...\n",
              "1          64.332936  ...  219 215 204 196 204 211 212 200 180 168 178 19...\n",
              "2          65.057053  ...  144 142 159 180 188 188 184 180 167 132 84 59 ...\n",
              "3          65.225739  ...  193 192 193 194 194 194 193 192 168 111 50 12 ...\n",
              "4          66.725301  ...  147 148 160 196 215 214 216 217 219 220 206 18...\n",
              "\n",
              "[5 rows x 31 columns]"
            ]
          },
          "metadata": {
            "tags": []
          },
          "execution_count": 8
        }
      ]
    },
    {
      "cell_type": "markdown",
      "metadata": {
        "id": "PU5uydzZ5NLH",
        "colab_type": "text"
      },
      "source": [
        "As mentiones in the data section the training file has some data missing. So the nect step is to figure out the number of missing values. The following code does that.\n"
      ]
    },
    {
      "cell_type": "code",
      "metadata": {
        "id": "VehZ_9MG4yel",
        "colab_type": "code",
        "colab": {
          "base_uri": "https://localhost:8080/",
          "height": 35
        },
        "outputId": "30e10a3b-cac6-46d4-e99d-d9d23c2c8d08"
      },
      "source": [
        "# total number of missing values\n",
        "print(f\"The total number of missing values in the train dataset is/are: {train_csv.isnull().sum().sum()}\")"
      ],
      "execution_count": null,
      "outputs": [
        {
          "output_type": "stream",
          "text": [
            "The total number of missing values in the train dataset is/are: 105412\n"
          ],
          "name": "stdout"
        }
      ]
    },
    {
      "cell_type": "markdown",
      "metadata": {
        "id": "6NnLHc--5u-R",
        "colab_type": "text"
      },
      "source": [
        "Some of the most common ways of dealing with missing data are.\n",
        "\n",
        "\n",
        "*   Replacing\n",
        "*   Deleting entries with missing values (in is not usually preferred as it reduced the number of training examples)\n",
        "\n",
        "We perform replacement, in which we replace the missing value with mean.\n"
      ]
    },
    {
      "cell_type": "code",
      "metadata": {
        "id": "dF4DvVPv5HKO",
        "colab_type": "code",
        "colab": {
          "base_uri": "https://localhost:8080/",
          "height": 55
        },
        "outputId": "bc0fecc1-4253-40dc-cb3f-98e6c9d47c08"
      },
      "source": [
        "# Replace using mean and getting feature list\n",
        "key_points=list()\n",
        "for column in train_csv: # itterating over each column\n",
        "  if column!=\"Image\":      \n",
        "    key_points.append(column)\n",
        "    mean=train_csv[column].mean() \n",
        "    train_csv[column].fillna(mean, inplace=True) # replacing empty value with the mean \n",
        "   \n",
        "\n",
        "print(f\"The key point  list is: {key_points}\")"
      ],
      "execution_count": null,
      "outputs": [
        {
          "output_type": "stream",
          "text": [
            "The key point  list is: ['left_eye_center_x', 'left_eye_center_y', 'right_eye_center_x', 'right_eye_center_y', 'left_eye_inner_corner_x', 'left_eye_inner_corner_y', 'left_eye_outer_corner_x', 'left_eye_outer_corner_y', 'right_eye_inner_corner_x', 'right_eye_inner_corner_y', 'right_eye_outer_corner_x', 'right_eye_outer_corner_y', 'left_eyebrow_inner_end_x', 'left_eyebrow_inner_end_y', 'left_eyebrow_outer_end_x', 'left_eyebrow_outer_end_y', 'right_eyebrow_inner_end_x', 'right_eyebrow_inner_end_y', 'right_eyebrow_outer_end_x', 'right_eyebrow_outer_end_y', 'nose_tip_x', 'nose_tip_y', 'mouth_left_corner_x', 'mouth_left_corner_y', 'mouth_right_corner_x', 'mouth_right_corner_y', 'mouth_center_top_lip_x', 'mouth_center_top_lip_y', 'mouth_center_bottom_lip_x', 'mouth_center_bottom_lip_y']\n"
          ],
          "name": "stdout"
        }
      ]
    },
    {
      "cell_type": "code",
      "metadata": {
        "id": "gfIyZ8rYDTBs",
        "colab_type": "code",
        "colab": {
          "base_uri": "https://localhost:8080/",
          "height": 35
        },
        "outputId": "feb30e51-dec7-452e-85ef-245742aa3242"
      },
      "source": [
        "#  Checking again to see the number of missing values\n",
        "print(f\"The total number of missing values in the train dataset is/are: {train_csv.isnull().sum().sum()}\")"
      ],
      "execution_count": null,
      "outputs": [
        {
          "output_type": "stream",
          "text": [
            "The total number of missing values in the train dataset is/are: 0\n"
          ],
          "name": "stdout"
        }
      ]
    },
    {
      "cell_type": "markdown",
      "metadata": {
        "id": "Rkx-owxeXTXx",
        "colab_type": "text"
      },
      "source": [
        "Now we will split the training data into two parts, one will be used for training the neural network and the other will be used for validation. \n"
      ]
    },
    {
      "cell_type": "code",
      "metadata": {
        "id": "TUw9rtF8XpCV",
        "colab_type": "code",
        "colab": {}
      },
      "source": [
        "mask = np.random.rand(len(train_csv)) <=0.8  # approx 80% in training and 20% in validation\n",
        "train_split=train_csv[mask]\n",
        "val_split=train_csv[~mask]\n",
        "\n",
        "# saving the train and validation split (the files will be saved in your working directory)\n",
        "train_split.to_csv(\"train_split.csv\", index= False)\n",
        "val_split.to_csv(\"val_split.csv\", index= False)"
      ],
      "execution_count": null,
      "outputs": []
    },
    {
      "cell_type": "markdown",
      "metadata": {
        "id": "IGCSfLiMhhOq",
        "colab_type": "text"
      },
      "source": [
        "#Data Loading and Data Augmentation"
      ]
    },
    {
      "cell_type": "code",
      "metadata": {
        "id": "mYI2-BZenQT4",
        "colab_type": "code",
        "colab": {}
      },
      "source": [
        "# custom dataset \n",
        "from torch.utils.data import Dataset, DataLoader\n",
        "\n",
        "\n",
        "class faces(Dataset):\n",
        "  def __init__(self, csv_loc, p=0.5, transforms = None):\n",
        "    self.csv=pd.read_csv(csv_loc)   \n",
        "    self.transforms =  transforms\n",
        "    self.p=p  \n",
        "\n",
        "  def __len__(self):\n",
        "    return len(self.csv)\n",
        "\n",
        "  def image_normalize(self, sample): # image normalization\n",
        "    mu     = 0      # mean value\n",
        "    sigma  = 0      # standard deviation        \n",
        "    X_norm = 0\n",
        "    mu=np.mean(sample)\n",
        "    sigma=np.std(sample)\n",
        "    X_norm=(sample-mu)/sigma      \n",
        "    return X_norm\n",
        "\n",
        "  def flip(self, image, key_points): # horizontal flipping\n",
        "    image_flip=np.flip(image, axis=1)\n",
        "    \n",
        "    return image_flip.copy(),   \n",
        "\n",
        "  def __getitem__(self, idx):\n",
        "    image=self.image_normalize(np.array(self.csv.iloc[idx][-1].split(\" \"), dtype=\"float\").reshape(96,96))  # normalization\n",
        "    key_points=np.array(self.csv.iloc[idx][:-1], dtype=\"float\")       \n",
        "\n",
        "    if torch.rand(1) < self.p: # flipping\n",
        "      image, key_points= self.flip(image=image, key_points=key_points)\n",
        "      return self.transforms(image), key_points\n",
        "    \n",
        "    return self.transforms(image), key_points            \n",
        "    "
      ],
      "execution_count": 19,
      "outputs": []
    },
    {
      "cell_type": "code",
      "metadata": {
        "id": "A88bdWOhmv1E",
        "colab_type": "code",
        "colab": {}
      },
      "source": [
        "train_dataset=faces(csv_loc=\"/content/gdrive/My Drive/Machine Learning/Kaggle/Facial Key Points Detection/train_split.csv\", p=0.5, transforms = transforms.Compose([transforms.ToTensor()]))\n",
        "val_dataset= faces(csv_loc=\"/content/gdrive/My Drive/Machine Learning/Kaggle/Facial Key Points Detection/val_split.csv\", p=0.5, transforms = transforms.Compose([transforms.ToTensor()]))"
      ],
      "execution_count": 20,
      "outputs": []
    },
    {
      "cell_type": "code",
      "metadata": {
        "id": "vro0Gws8n8Hv",
        "colab_type": "code",
        "colab": {
          "base_uri": "https://localhost:8080/",
          "height": 52
        },
        "outputId": "3dc48c2c-586e-4e69-eeae-5ab9f9428057"
      },
      "source": [
        "print(f\"Number of examples in training dataset: {len(train_dataset)}\")\n",
        "print(f\"Number of examples in validation dataset: {len(val_dataset)}\")"
      ],
      "execution_count": 21,
      "outputs": [
        {
          "output_type": "stream",
          "text": [
            "Number of examples in training dataset: 5657\n",
            "Number of examples in validation dataset: 1392\n"
          ],
          "name": "stdout"
        }
      ]
    },
    {
      "cell_type": "markdown",
      "metadata": {
        "id": "FvaU_zFGdsH-",
        "colab_type": "text"
      },
      "source": [
        "#Data Exploration\n",
        "\n",
        "Let us look at an image in the traing dataset."
      ]
    },
    {
      "cell_type": "code",
      "metadata": {
        "id": "J5NJBYGXYly3",
        "colab_type": "code",
        "colab": {}
      },
      "source": [
        "def flip(image, key_points_x, key_points_y): # horizontal flipping\n",
        "    image=np.flip(image, axis=1)\n",
        "    x_y=zip(96-key_points_x, key_points_y)\n",
        "    for x, y in x_y:\n",
        "      image[y][x]=255\n",
        "    return image    "
      ],
      "execution_count": 47,
      "outputs": []
    },
    {
      "cell_type": "code",
      "metadata": {
        "id": "5izJFkykZCeZ",
        "colab_type": "code",
        "colab": {}
      },
      "source": [
        "def image_features(image, key_points_x, key_points_y): # image features\n",
        "  x_y=zip(key_points_x, key_points_y)\n",
        "  for x, y in x_y:\n",
        "    image[y][x]=255\n",
        "  return image"
      ],
      "execution_count": 48,
      "outputs": []
    },
    {
      "cell_type": "code",
      "metadata": {
        "id": "hifY4QWE6BRH",
        "colab_type": "code",
        "colab": {}
      },
      "source": [
        "def image_show(sample, csv_loc):\n",
        "  fig, axs= plt.subplots(1, 3) \n",
        "  csv=pd.read_csv(csv_loc)\n",
        "  image=np.array(csv.iloc[sample][-1].split(\" \"), dtype=\"float\").reshape(96,96)\n",
        "  key_points = np.array(csv.iloc[sample][:-1], dtype=\"int32\")\n",
        "  key_points_x=np.take(key_points, range(0, 30, 2))\n",
        "  key_points_y=np.take(key_points, range(1, 30, 2))  \n",
        "  \n",
        "  image_with_key_points =  image_features(image=image, key_points_x=key_points_x, key_points_y=key_points_y)\n",
        "  image_flip = flip(image=image, key_points_x=key_points_x, key_points_y=key_points_y)\n",
        "\n",
        "  axs[0].imshow(image)\n",
        "  axs[0].set_title(\"Original Image\")\n",
        "  axs[1].imshow(image_with_key_points)  \n",
        "  axs[1].set_title(\"Image with key points\")\n",
        "  axs[2].imshow(image_flip)  \n",
        "  axs[2].set_title(\"Flipping\")\n",
        "\n",
        "  return image, key_points"
      ],
      "execution_count": 49,
      "outputs": []
    },
    {
      "cell_type": "code",
      "metadata": {
        "id": "HWE-913-7P_G",
        "colab_type": "code",
        "colab": {
          "base_uri": "https://localhost:8080/",
          "height": 197
        },
        "outputId": "662741f5-00cf-44b7-dc73-188ae5e9eebb"
      },
      "source": [
        "sample=np.random.randint(0, len(train_dataset)) # randomly selecting an example from train_split\n",
        "print(f\"Sample image number: {sample}\\n\")\n",
        "image ,feature=image_show(sample, csv_loc=\"/content/gdrive/My Drive/Machine Learning/Kaggle/Facial Key Points Detection/train_split.csv\")"
      ],
      "execution_count": 52,
      "outputs": [
        {
          "output_type": "stream",
          "text": [
            "Sample image number: 2578\n",
            "\n"
          ],
          "name": "stdout"
        },
        {
          "output_type": "display_data",
          "data": {
            "image/png": "[encoded data removed]",
            "text/plain": [
              "<Figure size 432x288 with 3 Axes>"
            ]
          },
          "metadata": {
            "tags": [],
            "needs_background": "light"
          }
        }
      ]
    },
    {
      "cell_type": "markdown",
      "metadata": {
        "id": "3uJ52XXEWjxU",
        "colab_type": "text"
      },
      "source": [
        "#Helper functions"
      ]
    },
    {
      "cell_type": "code",
      "metadata": {
        "id": "p4turugtcWCq",
        "colab_type": "code",
        "colab": {}
      },
      "source": [
        "def cal_loss(model, loader, criterion, eps=1e-6):\n",
        "  loss_total=0 \n",
        "  total_step=len(loader)\n",
        "\n",
        "  for x, y in loader:\n",
        "    x=x.to(device=device, dtype=torch.float)\n",
        "    y=y.to(device=device, dtype=torch.long)\n",
        "    y_pred=model(x)                  \n",
        "    loss=torch.sqrt(criterion(y_pred, y) + eps) \n",
        "    loss_total+=loss.item()\n",
        "  \n",
        "  return (loss_total/total_step)"
      ],
      "execution_count": 22,
      "outputs": []
    },
    {
      "cell_type": "code",
      "metadata": {
        "id": "2Wm-Y9wFWnrf",
        "colab_type": "code",
        "colab": {}
      },
      "source": [
        "# solver function for Neural Network\n",
        "\n",
        "def Solver_NN(model, train_loader, val_loader, optim, criterion, device, scheduler, print_every=10, epoch=51, lr=1e-1):\n",
        "  print(\"Solver Initiated\")  \n",
        "  model=model.to(device) # sending model to GPU\n",
        "  if device ==\"cpu\":\n",
        "    print(\"Cuda unavailable, model successfully sent to the CPU\\n\")\n",
        "  else:\n",
        "    print(\"Model successfully sent to the GPU\\n\")\n",
        "\n",
        "  print_every=print_every\n",
        "  total_step = len(train_loader)\n",
        "  counter=0\n",
        "\n",
        "  for e in range(epoch):\n",
        "    running_loss = 0.0    \n",
        "    epoch_loss=0.0\n",
        "    for i, (x,y) in enumerate(train_loader):\n",
        "      optim.zero_grad()\n",
        "          \n",
        "      x=x.to(device=device, dtype=torch.float)\n",
        "      y=y.to(device=device, dtype=torch.float)\n",
        "     \n",
        "      #forward pass########\n",
        "      y_pred=model(x)                  \n",
        "      loss=criterion(y_pred, y)   \n",
        "      ####################\n",
        "      \n",
        "      # backward pass#######     \n",
        "      loss.backward()\n",
        "      optim.step()\n",
        "      ####################      \n",
        "      running_loss += loss.item()      \n",
        "      if (i+1) % print_every == 0:       # print every 10\n",
        "        print (\"Epoch [{}/{}], Step [{}/{}] Loss: {}\".format(counter+1, epoch, i+1, total_step, running_loss/print_every))\n",
        "        running_loss = 0.0    \n",
        "    counter+=1     \n",
        "\n",
        "    with torch.no_grad():            \n",
        "      train_loss= cal_loss(model, train_loader, criterion)\n",
        "      val_loss= cal_loss(model, val_loader, criterion)\n",
        "      scheduler.step(val_loss)\n",
        "      print(f\"Train loss in epoch {e+1} is {train_loss}\") \n",
        "      print(f\"Validation loss in epoch {e+1} is {val_loss}\\n \")         \n",
        "  return model"
      ],
      "execution_count": 23,
      "outputs": []
    },
    {
      "cell_type": "markdown",
      "metadata": {
        "id": "4BuEtrSKfU2E",
        "colab_type": "text"
      },
      "source": [
        "# Neural Network"
      ]
    },
    {
      "cell_type": "code",
      "metadata": {
        "id": "gby0iCi_fXUd",
        "colab_type": "code",
        "colab": {}
      },
      "source": [
        "class Resnet(nn.Module):\n",
        "  def __init__(self, inp_channels, output, model):\n",
        "    super().__init__()\n",
        "    self.inp_channels=inp_channels\n",
        "    self.output=output\n",
        "    self.first=nn.Sequential(nn.Conv2d(self.inp_channels, 64, kernel_size=(7, 7), stride=(2, 2), padding=(3, 3), bias=False), nn.ReLU(inplace=True))\n",
        "    self.cnn=nn.Sequential(*(list(model.children())[1:-1]), nn.Flatten())    \n",
        "    self.fc = nn.Sequential(nn.Linear(512, 512), nn.ReLU(inplace= True), nn.Linear(512, 128), nn.ReLU(inplace=True), nn.Linear(128, self.output))\n",
        "      \n",
        "\n",
        "  def forward(self, x):  \n",
        "\n",
        "    x=self.first(x)\n",
        "    #print(f\"1: {x.shape}\")\n",
        "\n",
        "    x=self.cnn(x)\n",
        "   #print(f\"2: {x.shape}\")\n",
        "\n",
        "    x=self.fc(x)\n",
        "    #print(f\"3 {x.shape}\")\n",
        "\n",
        "    return x"
      ],
      "execution_count": 24,
      "outputs": []
    },
    {
      "cell_type": "code",
      "metadata": {
        "id": "FiS_QCULfbDy",
        "colab_type": "code",
        "colab": {
          "base_uri": "https://localhost:8080/",
          "height": 1000
        },
        "outputId": "6a704351-26c5-4daf-8ed6-c9f1a9f91bb7"
      },
      "source": [
        "resnet=torch.hub.load('pytorch/vision:v0.6.0', 'resnet18', pretrained=False)\n",
        "num_input_channels=1 # since it's a black and white image\n",
        "output= 30  # number of keypoints\n",
        "model= Resnet(num_input_channels, output, resnet)\n",
        "print(model)\n"
      ],
      "execution_count": 25,
      "outputs": [
        {
          "output_type": "stream",
          "text": [
            "Resnet(\n",
            "  (first): Sequential(\n",
            "    (0): Conv2d(1, 64, kernel_size=(7, 7), stride=(2, 2), padding=(3, 3), bias=False)\n",
            "    (1): ReLU(inplace=True)\n",
            "  )\n",
            "  (cnn): Sequential(\n",
            "    (0): BatchNorm2d(64, eps=1e-05, momentum=0.1, affine=True, track_running_stats=True)\n",
            "    (1): ReLU(inplace=True)\n",
            "    (2): MaxPool2d(kernel_size=3, stride=2, padding=1, dilation=1, ceil_mode=False)\n",
            "    (3): Sequential(\n",
            "      (0): BasicBlock(\n",
            "        (conv1): Conv2d(64, 64, kernel_size=(3, 3), stride=(1, 1), padding=(1, 1), bias=False)\n",
            "        (bn1): BatchNorm2d(64, eps=1e-05, momentum=0.1, affine=True, track_running_stats=True)\n",
            "        (relu): ReLU(inplace=True)\n",
            "        (conv2): Conv2d(64, 64, kernel_size=(3, 3), stride=(1, 1), padding=(1, 1), bias=False)\n",
            "        (bn2): BatchNorm2d(64, eps=1e-05, momentum=0.1, affine=True, track_running_stats=True)\n",
            "      )\n",
            "      (1): BasicBlock(\n",
            "        (conv1): Conv2d(64, 64, kernel_size=(3, 3), stride=(1, 1), padding=(1, 1), bias=False)\n",
            "        (bn1): BatchNorm2d(64, eps=1e-05, momentum=0.1, affine=True, track_running_stats=True)\n",
            "        (relu): ReLU(inplace=True)\n",
            "        (conv2): Conv2d(64, 64, kernel_size=(3, 3), stride=(1, 1), padding=(1, 1), bias=False)\n",
            "        (bn2): BatchNorm2d(64, eps=1e-05, momentum=0.1, affine=True, track_running_stats=True)\n",
            "      )\n",
            "    )\n",
            "    (4): Sequential(\n",
            "      (0): BasicBlock(\n",
            "        (conv1): Conv2d(64, 128, kernel_size=(3, 3), stride=(2, 2), padding=(1, 1), bias=False)\n",
            "        (bn1): BatchNorm2d(128, eps=1e-05, momentum=0.1, affine=True, track_running_stats=True)\n",
            "        (relu): ReLU(inplace=True)\n",
            "        (conv2): Conv2d(128, 128, kernel_size=(3, 3), stride=(1, 1), padding=(1, 1), bias=False)\n",
            "        (bn2): BatchNorm2d(128, eps=1e-05, momentum=0.1, affine=True, track_running_stats=True)\n",
            "        (downsample): Sequential(\n",
            "          (0): Conv2d(64, 128, kernel_size=(1, 1), stride=(2, 2), bias=False)\n",
            "          (1): BatchNorm2d(128, eps=1e-05, momentum=0.1, affine=True, track_running_stats=True)\n",
            "        )\n",
            "      )\n",
            "      (1): BasicBlock(\n",
            "        (conv1): Conv2d(128, 128, kernel_size=(3, 3), stride=(1, 1), padding=(1, 1), bias=False)\n",
            "        (bn1): BatchNorm2d(128, eps=1e-05, momentum=0.1, affine=True, track_running_stats=True)\n",
            "        (relu): ReLU(inplace=True)\n",
            "        (conv2): Conv2d(128, 128, kernel_size=(3, 3), stride=(1, 1), padding=(1, 1), bias=False)\n",
            "        (bn2): BatchNorm2d(128, eps=1e-05, momentum=0.1, affine=True, track_running_stats=True)\n",
            "      )\n",
            "    )\n",
            "    (5): Sequential(\n",
            "      (0): BasicBlock(\n",
            "        (conv1): Conv2d(128, 256, kernel_size=(3, 3), stride=(2, 2), padding=(1, 1), bias=False)\n",
            "        (bn1): BatchNorm2d(256, eps=1e-05, momentum=0.1, affine=True, track_running_stats=True)\n",
            "        (relu): ReLU(inplace=True)\n",
            "        (conv2): Conv2d(256, 256, kernel_size=(3, 3), stride=(1, 1), padding=(1, 1), bias=False)\n",
            "        (bn2): BatchNorm2d(256, eps=1e-05, momentum=0.1, affine=True, track_running_stats=True)\n",
            "        (downsample): Sequential(\n",
            "          (0): Conv2d(128, 256, kernel_size=(1, 1), stride=(2, 2), bias=False)\n",
            "          (1): BatchNorm2d(256, eps=1e-05, momentum=0.1, affine=True, track_running_stats=True)\n",
            "        )\n",
            "      )\n",
            "      (1): BasicBlock(\n",
            "        (conv1): Conv2d(256, 256, kernel_size=(3, 3), stride=(1, 1), padding=(1, 1), bias=False)\n",
            "        (bn1): BatchNorm2d(256, eps=1e-05, momentum=0.1, affine=True, track_running_stats=True)\n",
            "        (relu): ReLU(inplace=True)\n",
            "        (conv2): Conv2d(256, 256, kernel_size=(3, 3), stride=(1, 1), padding=(1, 1), bias=False)\n",
            "        (bn2): BatchNorm2d(256, eps=1e-05, momentum=0.1, affine=True, track_running_stats=True)\n",
            "      )\n",
            "    )\n",
            "    (6): Sequential(\n",
            "      (0): BasicBlock(\n",
            "        (conv1): Conv2d(256, 512, kernel_size=(3, 3), stride=(2, 2), padding=(1, 1), bias=False)\n",
            "        (bn1): BatchNorm2d(512, eps=1e-05, momentum=0.1, affine=True, track_running_stats=True)\n",
            "        (relu): ReLU(inplace=True)\n",
            "        (conv2): Conv2d(512, 512, kernel_size=(3, 3), stride=(1, 1), padding=(1, 1), bias=False)\n",
            "        (bn2): BatchNorm2d(512, eps=1e-05, momentum=0.1, affine=True, track_running_stats=True)\n",
            "        (downsample): Sequential(\n",
            "          (0): Conv2d(256, 512, kernel_size=(1, 1), stride=(2, 2), bias=False)\n",
            "          (1): BatchNorm2d(512, eps=1e-05, momentum=0.1, affine=True, track_running_stats=True)\n",
            "        )\n",
            "      )\n",
            "      (1): BasicBlock(\n",
            "        (conv1): Conv2d(512, 512, kernel_size=(3, 3), stride=(1, 1), padding=(1, 1), bias=False)\n",
            "        (bn1): BatchNorm2d(512, eps=1e-05, momentum=0.1, affine=True, track_running_stats=True)\n",
            "        (relu): ReLU(inplace=True)\n",
            "        (conv2): Conv2d(512, 512, kernel_size=(3, 3), stride=(1, 1), padding=(1, 1), bias=False)\n",
            "        (bn2): BatchNorm2d(512, eps=1e-05, momentum=0.1, affine=True, track_running_stats=True)\n",
            "      )\n",
            "    )\n",
            "    (7): AdaptiveAvgPool2d(output_size=(1, 1))\n",
            "    (8): Flatten()\n",
            "  )\n",
            "  (fc): Sequential(\n",
            "    (0): Linear(in_features=512, out_features=512, bias=True)\n",
            "    (1): ReLU(inplace=True)\n",
            "    (2): Linear(in_features=512, out_features=128, bias=True)\n",
            "    (3): ReLU(inplace=True)\n",
            "    (4): Linear(in_features=128, out_features=30, bias=True)\n",
            "  )\n",
            ")\n"
          ],
          "name": "stdout"
        },
        {
          "output_type": "stream",
          "text": [
            "Using cache found in /root/.cache/torch/hub/pytorch_vision_v0.6.0\n"
          ],
          "name": "stderr"
        }
      ]
    },
    {
      "cell_type": "code",
      "metadata": {
        "id": "B_ATQLQNn8BS",
        "colab_type": "code",
        "colab": {
          "base_uri": "https://localhost:8080/",
          "height": 35
        },
        "outputId": "31ddb8d3-6053-4f39-8cfc-fc09c7e9479b"
      },
      "source": [
        "#  model parameters\n",
        "\n",
        "model_parameters = filter(lambda p: p.requires_grad, model.parameters())\n",
        "params = sum([np.prod(p.size()) for p in model_parameters])\n",
        "print(\"Learnable parameters:\",params)"
      ],
      "execution_count": 26,
      "outputs": [
        {
          "output_type": "stream",
          "text": [
            "Learnable parameters: 11502430\n"
          ],
          "name": "stdout"
        }
      ]
    },
    {
      "cell_type": "code",
      "metadata": {
        "id": "Iu7vs3CzgZhQ",
        "colab_type": "code",
        "colab": {}
      },
      "source": [
        "#criterion and optimizer\n",
        "from torch.optim.lr_scheduler import ReduceLROnPlateau\n",
        "\n",
        "lr=0.01\n",
        "criterion=nn.MSELoss(reduction=\"mean\") # loss criterion \n",
        "optim=torch.optim.Adam(model.parameters(), lr=lr, weight_decay=0.01) # optimizer \n",
        "scheduler= ReduceLROnPlateau(optim, mode=\"min\", factor=0.1, patience=5, verbose=True)"
      ],
      "execution_count": 27,
      "outputs": []
    },
    {
      "cell_type": "code",
      "metadata": {
        "id": "77_ziQm4gcKV",
        "colab_type": "code",
        "colab": {}
      },
      "source": [
        "# loading training and validation data for the neural network\n",
        "\n",
        "train_loader=DataLoader(train_dataset, batch_size=1024, shuffle=True, num_workers=16) \n",
        "val_loader=DataLoader(val_dataset, batch_size=1024, shuffle=True, num_workers=16) "
      ],
      "execution_count": 28,
      "outputs": []
    },
    {
      "cell_type": "code",
      "metadata": {
        "id": "yPFguuAIhAVw",
        "colab_type": "code",
        "colab": {
          "base_uri": "https://localhost:8080/",
          "height": 1000
        },
        "outputId": "cb769aef-1a79-4cd0-fa05-28d7c1f4fff3"
      },
      "source": [
        "model=Solver_NN(model, train_loader, val_loader, optim, criterion, device, scheduler, print_every=3, epoch=101, lr=lr)"
      ],
      "execution_count": 29,
      "outputs": [
        {
          "output_type": "stream",
          "text": [
            "Solver Initiated\n",
            "Model successfully sent to the GPU\n",
            "\n",
            "Epoch [1/101], Step [3/6] Loss: 1792.1094156901042\n",
            "Epoch [1/101], Step [6/6] Loss: 804.8651326497396\n",
            "Train loss in epoch 1 is 21.774787267049152\n",
            "Validation loss in epoch 1 is 21.813053131103516\n",
            " \n",
            "Epoch [2/101], Step [3/6] Loss: 479.8160095214844\n",
            "Epoch [2/101], Step [6/6] Loss: 280.00649007161456\n",
            "Train loss in epoch 2 is 15.735926946004232\n",
            "Validation loss in epoch 2 is 15.71250057220459\n",
            " \n",
            "Epoch [3/101], Step [3/6] Loss: 279.5066426595052\n",
            "Epoch [3/101], Step [6/6] Loss: 224.02587381998697\n",
            "Train loss in epoch 3 is 13.920916557312012\n",
            "Validation loss in epoch 3 is 13.947671890258789\n",
            " \n",
            "Epoch [4/101], Step [3/6] Loss: 208.09412638346353\n",
            "Epoch [4/101], Step [6/6] Loss: 196.02310689290366\n",
            "Train loss in epoch 4 is 13.587401866912842\n",
            "Validation loss in epoch 4 is 13.615402221679688\n",
            " \n",
            "Epoch [5/101], Step [3/6] Loss: 187.74108378092447\n",
            "Epoch [5/101], Step [6/6] Loss: 182.12787373860678\n",
            "Train loss in epoch 5 is 13.569340070088705\n",
            "Validation loss in epoch 5 is 13.560867309570312\n",
            " \n",
            "Epoch [6/101], Step [3/6] Loss: 179.22774759928384\n",
            "Epoch [6/101], Step [6/6] Loss: 178.537841796875\n",
            "Train loss in epoch 6 is 13.388523896535238\n",
            "Validation loss in epoch 6 is 13.38622760772705\n",
            " \n",
            "Epoch [7/101], Step [3/6] Loss: 177.60210164388022\n",
            "Epoch [7/101], Step [6/6] Loss: 176.7649180094401\n",
            "Train loss in epoch 7 is 13.390343030293783\n",
            "Validation loss in epoch 7 is 13.372394561767578\n",
            " \n",
            "Epoch [8/101], Step [3/6] Loss: 177.10462951660156\n",
            "Epoch [8/101], Step [6/6] Loss: 176.79764811197916\n",
            "Train loss in epoch 8 is 13.361770629882812\n",
            "Validation loss in epoch 8 is 13.392239570617676\n",
            " \n",
            "Epoch [9/101], Step [3/6] Loss: 177.05394999186197\n",
            "Epoch [9/101], Step [6/6] Loss: 176.45817057291666\n",
            "Train loss in epoch 9 is 13.392311731974283\n",
            "Validation loss in epoch 9 is 13.375399112701416\n",
            " \n",
            "Epoch [10/101], Step [3/6] Loss: 177.19595845540366\n",
            "Epoch [10/101], Step [6/6] Loss: 176.37368774414062\n",
            "Train loss in epoch 10 is 13.372550328572592\n",
            "Validation loss in epoch 10 is 13.370265483856201\n",
            " \n",
            "Epoch [11/101], Step [3/6] Loss: 176.8633829752604\n",
            "Epoch [11/101], Step [6/6] Loss: 176.69839477539062\n",
            "Train loss in epoch 11 is 13.419999440511068\n",
            "Validation loss in epoch 11 is 13.412746906280518\n",
            " \n",
            "Epoch [12/101], Step [3/6] Loss: 176.22183227539062\n",
            "Epoch [12/101], Step [6/6] Loss: 177.38347880045572\n",
            "Train loss in epoch 12 is 13.413858890533447\n",
            "Validation loss in epoch 12 is 13.391147136688232\n",
            " \n"
          ],
          "name": "stdout"
        },
        {
          "output_type": "error",
          "ename": "KeyboardInterrupt",
          "evalue": "ignored",
          "traceback": [
            "\u001b[0;31m---------------------------------------------------------------------------\u001b[0m",
            "\u001b[0;31mKeyboardInterrupt\u001b[0m                         Traceback (most recent call last)",
            "\u001b[0;32m<ipython-input-29-bc09fe79ad5d>\u001b[0m in \u001b[0;36m<module>\u001b[0;34m()\u001b[0m\n\u001b[0;32m----> 1\u001b[0;31m \u001b[0mmodel\u001b[0m\u001b[0;34m=\u001b[0m\u001b[0mSolver_NN\u001b[0m\u001b[0;34m(\u001b[0m\u001b[0mmodel\u001b[0m\u001b[0;34m,\u001b[0m \u001b[0mtrain_loader\u001b[0m\u001b[0;34m,\u001b[0m \u001b[0mval_loader\u001b[0m\u001b[0;34m,\u001b[0m \u001b[0moptim\u001b[0m\u001b[0;34m,\u001b[0m \u001b[0mcriterion\u001b[0m\u001b[0;34m,\u001b[0m \u001b[0mdevice\u001b[0m\u001b[0;34m,\u001b[0m \u001b[0mscheduler\u001b[0m\u001b[0;34m,\u001b[0m \u001b[0mprint_every\u001b[0m\u001b[0;34m=\u001b[0m\u001b[0;36m3\u001b[0m\u001b[0;34m,\u001b[0m \u001b[0mepoch\u001b[0m\u001b[0;34m=\u001b[0m\u001b[0;36m101\u001b[0m\u001b[0;34m,\u001b[0m \u001b[0mlr\u001b[0m\u001b[0;34m=\u001b[0m\u001b[0mlr\u001b[0m\u001b[0;34m)\u001b[0m\u001b[0;34m\u001b[0m\u001b[0;34m\u001b[0m\u001b[0m\n\u001b[0m",
            "\u001b[0;32m<ipython-input-23-ff34f54cf91e>\u001b[0m in \u001b[0;36mSolver_NN\u001b[0;34m(model, train_loader, val_loader, optim, criterion, device, scheduler, print_every, epoch, lr)\u001b[0m\n\u001b[1;32m     31\u001b[0m       \u001b[0moptim\u001b[0m\u001b[0;34m.\u001b[0m\u001b[0mstep\u001b[0m\u001b[0;34m(\u001b[0m\u001b[0;34m)\u001b[0m\u001b[0;34m\u001b[0m\u001b[0;34m\u001b[0m\u001b[0m\n\u001b[1;32m     32\u001b[0m       \u001b[0;31m####################\u001b[0m\u001b[0;34m\u001b[0m\u001b[0;34m\u001b[0m\u001b[0;34m\u001b[0m\u001b[0m\n\u001b[0;32m---> 33\u001b[0;31m       \u001b[0mrunning_loss\u001b[0m \u001b[0;34m+=\u001b[0m \u001b[0mloss\u001b[0m\u001b[0;34m.\u001b[0m\u001b[0mitem\u001b[0m\u001b[0;34m(\u001b[0m\u001b[0;34m)\u001b[0m\u001b[0;34m\u001b[0m\u001b[0;34m\u001b[0m\u001b[0m\n\u001b[0m\u001b[1;32m     34\u001b[0m       \u001b[0;32mif\u001b[0m \u001b[0;34m(\u001b[0m\u001b[0mi\u001b[0m\u001b[0;34m+\u001b[0m\u001b[0;36m1\u001b[0m\u001b[0;34m)\u001b[0m \u001b[0;34m%\u001b[0m \u001b[0mprint_every\u001b[0m \u001b[0;34m==\u001b[0m \u001b[0;36m0\u001b[0m\u001b[0;34m:\u001b[0m       \u001b[0;31m# print every 10\u001b[0m\u001b[0;34m\u001b[0m\u001b[0;34m\u001b[0m\u001b[0m\n\u001b[1;32m     35\u001b[0m         \u001b[0mprint\u001b[0m \u001b[0;34m(\u001b[0m\u001b[0;34m\"Epoch [{}/{}], Step [{}/{}] Loss: {}\"\u001b[0m\u001b[0;34m.\u001b[0m\u001b[0mformat\u001b[0m\u001b[0;34m(\u001b[0m\u001b[0mcounter\u001b[0m\u001b[0;34m+\u001b[0m\u001b[0;36m1\u001b[0m\u001b[0;34m,\u001b[0m \u001b[0mepoch\u001b[0m\u001b[0;34m,\u001b[0m \u001b[0mi\u001b[0m\u001b[0;34m+\u001b[0m\u001b[0;36m1\u001b[0m\u001b[0;34m,\u001b[0m \u001b[0mtotal_step\u001b[0m\u001b[0;34m,\u001b[0m \u001b[0mrunning_loss\u001b[0m\u001b[0;34m/\u001b[0m\u001b[0mprint_every\u001b[0m\u001b[0;34m)\u001b[0m\u001b[0;34m)\u001b[0m\u001b[0;34m\u001b[0m\u001b[0;34m\u001b[0m\u001b[0m\n",
            "\u001b[0;31mKeyboardInterrupt\u001b[0m: "
          ]
        }
      ]
    },
    {
      "cell_type": "code",
      "metadata": {
        "id": "12gFOXqIWErf",
        "colab_type": "code",
        "colab": {}
      },
      "source": [
        "torch.save(model.state_dict(), '/content/gdrive/My Drive/Machine Learning/Kaggle/Facial Key Points Detection/weights_2.pkl') "
      ],
      "execution_count": null,
      "outputs": []
    },
    {
      "cell_type": "markdown",
      "metadata": {
        "id": "GRWbTQmhoP5u",
        "colab_type": "text"
      },
      "source": [
        "#Testing "
      ]
    },
    {
      "cell_type": "markdown",
      "metadata": {
        "id": "HYM4QP7fohgH",
        "colab_type": "text"
      },
      "source": [
        "Lets look at the testing data"
      ]
    },
    {
      "cell_type": "code",
      "metadata": {
        "id": "CXTnlPMbokNA",
        "colab_type": "code",
        "colab": {
          "base_uri": "https://localhost:8080/",
          "height": 202
        },
        "outputId": "53fcdad3-15f5-4e48-8b67-526c2163a3b5"
      },
      "source": [
        "test_csv.head()"
      ],
      "execution_count": null,
      "outputs": [
        {
          "output_type": "execute_result",
          "data": {
            "text/html": [
              "<div>\n",
              "<style scoped>\n",
              "    .dataframe tbody tr th:only-of-type {\n",
              "        vertical-align: middle;\n",
              "    }\n",
              "\n",
              "    .dataframe tbody tr th {\n",
              "        vertical-align: top;\n",
              "    }\n",
              "\n",
              "    .dataframe thead th {\n",
              "        text-align: right;\n",
              "    }\n",
              "</style>\n",
              "<table border=\"1\" class=\"dataframe\">\n",
              "  <thead>\n",
              "    <tr style=\"text-align: right;\">\n",
              "      <th></th>\n",
              "      <th>ImageId</th>\n",
              "      <th>Image</th>\n",
              "    </tr>\n",
              "  </thead>\n",
              "  <tbody>\n",
              "    <tr>\n",
              "      <th>0</th>\n",
              "      <td>1</td>\n",
              "      <td>182 183 182 182 180 180 176 169 156 137 124 10...</td>\n",
              "    </tr>\n",
              "    <tr>\n",
              "      <th>1</th>\n",
              "      <td>2</td>\n",
              "      <td>76 87 81 72 65 59 64 76 69 42 31 38 49 58 58 4...</td>\n",
              "    </tr>\n",
              "    <tr>\n",
              "      <th>2</th>\n",
              "      <td>3</td>\n",
              "      <td>177 176 174 170 169 169 168 166 166 166 161 14...</td>\n",
              "    </tr>\n",
              "    <tr>\n",
              "      <th>3</th>\n",
              "      <td>4</td>\n",
              "      <td>176 174 174 175 174 174 176 176 175 171 165 15...</td>\n",
              "    </tr>\n",
              "    <tr>\n",
              "      <th>4</th>\n",
              "      <td>5</td>\n",
              "      <td>50 47 44 101 144 149 120 58 48 42 35 35 37 39 ...</td>\n",
              "    </tr>\n",
              "  </tbody>\n",
              "</table>\n",
              "</div>"
            ],
            "text/plain": [
              "   ImageId                                              Image\n",
              "0        1  182 183 182 182 180 180 176 169 156 137 124 10...\n",
              "1        2  76 87 81 72 65 59 64 76 69 42 31 38 49 58 58 4...\n",
              "2        3  177 176 174 170 169 169 168 166 166 166 161 14...\n",
              "3        4  176 174 174 175 174 174 176 176 175 171 165 15...\n",
              "4        5  50 47 44 101 144 149 120 58 48 42 35 35 37 39 ..."
            ]
          },
          "metadata": {
            "tags": []
          },
          "execution_count": 42
        }
      ]
    },
    {
      "cell_type": "code",
      "metadata": {
        "id": "0QGSnjF9oRyj",
        "colab_type": "code",
        "colab": {}
      },
      "source": [
        "test_loader= DataLoader(test_dataset, batch_size= 512, shuffle=True, num_workers=16) "
      ],
      "execution_count": null,
      "outputs": []
    },
    {
      "cell_type": "code",
      "metadata": {
        "id": "Li1gkER3Emp3",
        "colab_type": "code",
        "colab": {}
      },
      "source": [
        "with torch.no_grad():\n",
        "  Y_preds=list()\n",
        "  for x in test_loader:\n",
        "    x=x=x.to(device=device, dtype=torch.float)\n",
        "    y_pred=model(x).to(device=\"cpu\")\n",
        "    Y_preds.append(y_pred)\n",
        "    \n",
        "  Y= torch.cat(Y_preds, dim=0).tolist()\n",
        "  \n",
        "  "
      ],
      "execution_count": null,
      "outputs": []
    },
    {
      "cell_type": "code",
      "metadata": {
        "id": "jPmhHHjqXoy4",
        "colab_type": "code",
        "colab": {}
      },
      "source": [
        "lookid_list = list(IdLookupTable_csv['FeatureName'])\n",
        "imageID = list(IdLookupTable_csv['ImageId']-1)\n",
        "pre_list = list(Y)"
      ],
      "execution_count": null,
      "outputs": []
    },
    {
      "cell_type": "code",
      "metadata": {
        "id": "6uVVv_J9aBSa",
        "colab_type": "code",
        "colab": {}
      },
      "source": [
        "rowid = IdLookupTable_csv['RowId']\n",
        "rowid=list(rowid)"
      ],
      "execution_count": null,
      "outputs": []
    },
    {
      "cell_type": "code",
      "metadata": {
        "id": "kEcwR1cdaOl0",
        "colab_type": "code",
        "colab": {}
      },
      "source": [
        "feature = []\n",
        "for f in list(IdLookupTable_csv['FeatureName']):\n",
        "    feature.append(lookid_list.index(f))"
      ],
      "execution_count": null,
      "outputs": []
    },
    {
      "cell_type": "code",
      "metadata": {
        "id": "HGV1v7QHap6C",
        "colab_type": "code",
        "colab": {}
      },
      "source": [
        "preded = []\n",
        "for x,y in zip(imageID,feature):\n",
        "    preded.append(pre_list[x][y])"
      ],
      "execution_count": null,
      "outputs": []
    },
    {
      "cell_type": "code",
      "metadata": {
        "id": "pz_7N8iQbGEl",
        "colab_type": "code",
        "colab": {}
      },
      "source": [
        "rowid = pd.Series(rowid,name = 'RowId')"
      ],
      "execution_count": null,
      "outputs": []
    },
    {
      "cell_type": "code",
      "metadata": {
        "id": "1KTRxG2_bJYZ",
        "colab_type": "code",
        "colab": {}
      },
      "source": [
        "loc = pd.Series(preded,name = 'Location')"
      ],
      "execution_count": null,
      "outputs": []
    },
    {
      "cell_type": "code",
      "metadata": {
        "id": "GntgJLqSbL5i",
        "colab_type": "code",
        "colab": {}
      },
      "source": [
        "submission = pd.concat([rowid,loc],axis = 1)"
      ],
      "execution_count": null,
      "outputs": []
    },
    {
      "cell_type": "code",
      "metadata": {
        "id": "1RjAewTFf8av",
        "colab_type": "code",
        "colab": {}
      },
      "source": [
        "submission.to_csv('face_key_detection_submission.csv', index = False)\n"
      ],
      "execution_count": null,
      "outputs": []
    }
  ]
}