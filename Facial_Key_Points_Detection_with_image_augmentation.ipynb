{
  "nbformat": 4,
  "nbformat_minor": 0,
  "metadata": {
    "colab": {
      "name": "Facial Key Points Detection with image augmentation.ipynb",
      "provenance": [],
      "toc_visible": true,
      "machine_shape": "hm",
      "authorship_tag": "ABX9TyNws9rMix4ozlEgppYCpKOE",
      "include_colab_link": true
    },
    "kernelspec": {
      "name": "python3",
      "display_name": "Python 3"
    },
    "accelerator": "GPU"
  },
  "cells": [
    {
      "cell_type": "markdown",
      "metadata": {
        "id": "view-in-github",
        "colab_type": "text"
      },
      "source": [
        "<a href=\"https://colab.research.google.com/github/vaibhavsundharam/Facial-Key-Points-Detection/blob/master/Facial_Key_Points_Detection_with_image_augmentation.ipynb\" target=\"_parent\"><img src=\"https://colab.research.google.com/assets/colab-badge.svg\" alt=\"Open In Colab\"/></a>"
      ]
    },
    {
      "cell_type": "markdown",
      "metadata": {
        "id": "cNWcZ67MDTga",
        "colab_type": "text"
      },
      "source": [
        "#Facial Key Point Detection with Image Augmentation\n",
        "\n",
        "This work builds on the previous work with the addition of data augmentation. \n",
        "\n",
        "Acknowledgements:\n",
        "The data set for this competition was graciously provided by Dr. Yoshua Bengio of the University of Montreal. James Petterson."
      ]
    },
    {
      "cell_type": "markdown",
      "metadata": {
        "id": "RT_ajy7zEB6T",
        "colab_type": "text"
      },
      "source": [
        "#Data\n",
        "\n",
        "Each predicted keypoint is specified by an (x,y) real-valued pair in the space of pixel indices. There are 15 keypoints, which represent the following elements of the face:\n",
        "\n",
        "left_eye_center, right_eye_center, left_eye_inner_corner, left_eye_outer_corner, right_eye_inner_corner, right_eye_outer_corner, left_eyebrow_inner_end, left_eyebrow_outer_end, right_eyebrow_inner_end, right_eyebrow_outer_end, nose_tip, mouth_left_corner, mouth_right_corner, mouth_center_top_lip, mouth_center_bottom_lip\n",
        "\n",
        "Left and right here refers to the point of view of the subject.\n",
        "\n",
        "In some examples, some of the target keypoint positions are misssing (encoded as missing entries in the csv, i.e., with nothing between two commas).\n",
        "\n",
        "The input image is given in the last field of the data files, and consists of a list of pixels (ordered by row), as integers in (0,255). The images are 96x96 pixels.\n",
        "\n",
        "Data Files: kaggle competitions download -c facial-keypoints-detection\n",
        "\n",
        "\n",
        "*   training.csv: list of training 7049 images. Each row contains the (x,y) coordinates for 15 keypoints, and image data as row-ordered list of pixels.\n",
        "*   test.csv: list of 1783 test images. Each row contains ImageId and image data as row-ordered list of pixels\n",
        "\n"
      ]
    },
    {
      "cell_type": "code",
      "metadata": {
        "id": "w0O-z72HFCfF",
        "colab_type": "code",
        "colab": {
          "base_uri": "https://localhost:8080/",
          "height": 35
        },
        "outputId": "5f6f2d35-9873-40b3-fc70-ba9fb49126a2"
      },
      "source": [
        "# Mounting drive\n",
        "from google.colab import drive\n",
        "drive.mount('/content/gdrive/')"
      ],
      "execution_count": null,
      "outputs": [
        {
          "output_type": "stream",
          "text": [
            "Drive already mounted at /content/gdrive/; to attempt to forcibly remount, call drive.mount(\"/content/gdrive/\", force_remount=True).\n"
          ],
          "name": "stdout"
        }
      ]
    },
    {
      "cell_type": "code",
      "metadata": {
        "id": "TxUfjUBjFwdy",
        "colab_type": "code",
        "colab": {
          "base_uri": "https://localhost:8080/",
          "height": 35
        },
        "outputId": "8379532c-e157-46c2-bde8-b90e279c0e1f"
      },
      "source": [
        "#changing the working directory\n",
        "%cd /content/gdrive/My Drive/Machine Learning/Kaggle/Facial Key Points Detection"
      ],
      "execution_count": null,
      "outputs": [
        {
          "output_type": "stream",
          "text": [
            "/content/gdrive/My Drive/Machine Learning/Kaggle/Facial Key Points Detection\n"
          ],
          "name": "stdout"
        }
      ]
    },
    {
      "cell_type": "code",
      "metadata": {
        "id": "yyCMhYFbFQu8",
        "colab_type": "code",
        "colab": {}
      },
      "source": [
        "#Run the following code to provide the config path to kaggle.json\n",
        "import os\n",
        "os.environ['KAGGLE_CONFIG_DIR'] = \"/content/gdrive/My Drive/Machine Learning/Kaggle\""
      ],
      "execution_count": null,
      "outputs": []
    },
    {
      "cell_type": "code",
      "metadata": {
        "id": "_KAO16MyF07v",
        "colab_type": "code",
        "colab": {
          "base_uri": "https://localhost:8080/",
          "height": 173
        },
        "outputId": "8489a065-db90-410e-97b5-9a16f4433c0c"
      },
      "source": [
        "# download the dataset\n",
        "! kaggle competitions download -c facial-keypoints-detection"
      ],
      "execution_count": null,
      "outputs": [
        {
          "output_type": "stream",
          "text": [
            "Warning: Looks like you're using an outdated API Version, please consider updating (server 1.5.6 / client 1.5.4)\n",
            "SampleSubmission.csv: Skipping, found more recently modified local copy (use --force to force download)\n",
            "IdLookupTable.csv: Skipping, found more recently modified local copy (use --force to force download)\n",
            "Downloading training.zip to /content/gdrive/My Drive/Machine Learning/Kaggle/Facial Key Points Detection\n",
            " 72% 43.0M/60.1M [00:00<00:00, 75.3MB/s]\n",
            "100% 60.1M/60.1M [00:00<00:00, 122MB/s] \n",
            "Downloading test.zip to /content/gdrive/My Drive/Machine Learning/Kaggle/Facial Key Points Detection\n",
            " 44% 7.00M/16.0M [00:00<00:00, 69.5MB/s]\n",
            "100% 16.0M/16.0M [00:00<00:00, 77.9MB/s]\n"
          ],
          "name": "stdout"
        }
      ]
    },
    {
      "cell_type": "code",
      "metadata": {
        "id": "Zbq2IPqBI7Sf",
        "colab_type": "code",
        "colab": {
          "base_uri": "https://localhost:8080/",
          "height": 156
        },
        "outputId": "578b5135-87ea-4b2e-8e9f-cb34991e9030"
      },
      "source": [
        "#unzipping the zip files and deleting the zip files\n",
        "!unzip \\*.zip  && rm *.zip"
      ],
      "execution_count": null,
      "outputs": [
        {
          "output_type": "stream",
          "text": [
            "Archive:  training.zip\n",
            "replace training.csv? [y]es, [n]o, [A]ll, [N]one, [r]ename: A\n",
            "  inflating: training.csv            \n",
            "\n",
            "Archive:  test.zip\n",
            "  inflating: test.csv                \n",
            "\n",
            "2 archives were successfully processed.\n"
          ],
          "name": "stdout"
        }
      ]
    },
    {
      "cell_type": "markdown",
      "metadata": {
        "id": "wXFnM1WPE7gX",
        "colab_type": "text"
      },
      "source": [
        "#General initializations"
      ]
    },
    {
      "cell_type": "code",
      "metadata": {
        "id": "GxrhnWndE-K2",
        "colab_type": "code",
        "colab": {}
      },
      "source": [
        "import torch\n",
        "import sys\n",
        "import os\n",
        "from __future__ import print_function, division\n",
        "import matplotlib.pyplot as plt\n",
        "from torchvision import transforms, utils\n",
        "import torchvision.transforms as transforms\n",
        "import torchvision.models as models\n",
        "from skimage.transform import resize\n",
        "import torch.nn as nn\n",
        "import torch.nn.functional as F\n",
        "from PIL import Image\n",
        "import re\n",
        "import pandas as pd\n",
        "import numpy as np\n",
        "\n",
        "\n",
        "# Ignore warnings\n",
        "import warnings\n",
        "warnings.filterwarnings(\"ignore\")\n",
        "plt.ion()   # interactive mode\n"
      ],
      "execution_count": null,
      "outputs": []
    },
    {
      "cell_type": "code",
      "metadata": {
        "id": "QQZpoTl-E6-D",
        "colab_type": "code",
        "colab": {
          "base_uri": "https://localhost:8080/",
          "height": 35
        },
        "outputId": "b859655f-2082-4a96-c990-ac658d812653"
      },
      "source": [
        "torch.cuda.is_available()"
      ],
      "execution_count": null,
      "outputs": [
        {
          "output_type": "execute_result",
          "data": {
            "text/plain": [
              "True"
            ]
          },
          "metadata": {
            "tags": []
          },
          "execution_count": 5
        }
      ]
    },
    {
      "cell_type": "code",
      "metadata": {
        "id": "JWOO4NSFDQot",
        "colab_type": "code",
        "colab": {
          "base_uri": "https://localhost:8080/",
          "height": 35
        },
        "outputId": "e95763bd-75e1-42d5-b837-e44e205dc890"
      },
      "source": [
        "# Set device on GPU if available, else CPU\n",
        "device = torch.device('cuda' if torch.cuda.is_available() else 'cpu')\n",
        "print(device)"
      ],
      "execution_count": null,
      "outputs": [
        {
          "output_type": "stream",
          "text": [
            "cuda\n"
          ],
          "name": "stdout"
        }
      ]
    },
    {
      "cell_type": "markdown",
      "metadata": {
        "id": "oanXylzOZPVN",
        "colab_type": "text"
      },
      "source": [
        "#Data Preprocessing"
      ]
    },
    {
      "cell_type": "code",
      "metadata": {
        "id": "7e1kwj1tZTO7",
        "colab_type": "code",
        "colab": {}
      },
      "source": [
        "# Loading the csv files (give path to your cvs files)\n",
        "train_csv=pd.read_csv(\"/content/gdrive/My Drive/Machine Learning/Kaggle/Facial Key Points Detection/training.csv\")\n",
        "test_csv=pd.read_csv(\"/content/gdrive/My Drive/Machine Learning/Kaggle/Facial Key Points Detection/test.csv\")\n",
        "IdLookupTable_csv=pd.read_csv(\"/content/gdrive/My Drive/Machine Learning/Kaggle/Facial Key Points Detection/IdLookupTable.csv\")"
      ],
      "execution_count": null,
      "outputs": []
    },
    {
      "cell_type": "code",
      "metadata": {
        "id": "38dOIqUh2xJ5",
        "colab_type": "code",
        "colab": {
          "base_uri": "https://localhost:8080/",
          "height": 1000
        },
        "outputId": "4fa1666a-0be7-44f8-a989-ebf40c4bc850"
      },
      "source": [
        "# exploring the train data, each row is an example\n",
        "train_csv.head()"
      ],
      "execution_count": null,
      "outputs": [
        {
          "output_type": "execute_result",
          "data": {
            "text/html": [
              "<div>\n",
              "<style scoped>\n",
              "    .dataframe tbody tr th:only-of-type {\n",
              "        vertical-align: middle;\n",
              "    }\n",
              "\n",
              "    .dataframe tbody tr th {\n",
              "        vertical-align: top;\n",
              "    }\n",
              "\n",
              "    .dataframe thead th {\n",
              "        text-align: right;\n",
              "    }\n",
              "</style>\n",
              "<table border=\"1\" class=\"dataframe\">\n",
              "  <thead>\n",
              "    <tr style=\"text-align: right;\">\n",
              "      <th></th>\n",
              "      <th>left_eye_center_x</th>\n",
              "      <th>left_eye_center_y</th>\n",
              "      <th>right_eye_center_x</th>\n",
              "      <th>right_eye_center_y</th>\n",
              "      <th>left_eye_inner_corner_x</th>\n",
              "      <th>left_eye_inner_corner_y</th>\n",
              "      <th>left_eye_outer_corner_x</th>\n",
              "      <th>left_eye_outer_corner_y</th>\n",
              "      <th>right_eye_inner_corner_x</th>\n",
              "      <th>right_eye_inner_corner_y</th>\n",
              "      <th>right_eye_outer_corner_x</th>\n",
              "      <th>right_eye_outer_corner_y</th>\n",
              "      <th>left_eyebrow_inner_end_x</th>\n",
              "      <th>left_eyebrow_inner_end_y</th>\n",
              "      <th>left_eyebrow_outer_end_x</th>\n",
              "      <th>left_eyebrow_outer_end_y</th>\n",
              "      <th>right_eyebrow_inner_end_x</th>\n",
              "      <th>right_eyebrow_inner_end_y</th>\n",
              "      <th>right_eyebrow_outer_end_x</th>\n",
              "      <th>right_eyebrow_outer_end_y</th>\n",
              "      <th>nose_tip_x</th>\n",
              "      <th>nose_tip_y</th>\n",
              "      <th>mouth_left_corner_x</th>\n",
              "      <th>mouth_left_corner_y</th>\n",
              "      <th>mouth_right_corner_x</th>\n",
              "      <th>mouth_right_corner_y</th>\n",
              "      <th>mouth_center_top_lip_x</th>\n",
              "      <th>mouth_center_top_lip_y</th>\n",
              "      <th>mouth_center_bottom_lip_x</th>\n",
              "      <th>mouth_center_bottom_lip_y</th>\n",
              "      <th>Image</th>\n",
              "    </tr>\n",
              "  </thead>\n",
              "  <tbody>\n",
              "    <tr>\n",
              "      <th>0</th>\n",
              "      <td>66.033564</td>\n",
              "      <td>39.002274</td>\n",
              "      <td>30.227008</td>\n",
              "      <td>36.421678</td>\n",
              "      <td>59.582075</td>\n",
              "      <td>39.647423</td>\n",
              "      <td>73.130346</td>\n",
              "      <td>39.969997</td>\n",
              "      <td>36.356571</td>\n",
              "      <td>37.389402</td>\n",
              "      <td>23.452872</td>\n",
              "      <td>37.389402</td>\n",
              "      <td>56.953263</td>\n",
              "      <td>29.033648</td>\n",
              "      <td>80.227128</td>\n",
              "      <td>32.228138</td>\n",
              "      <td>40.227609</td>\n",
              "      <td>29.002322</td>\n",
              "      <td>16.356379</td>\n",
              "      <td>29.647471</td>\n",
              "      <td>44.420571</td>\n",
              "      <td>57.066803</td>\n",
              "      <td>61.195308</td>\n",
              "      <td>79.970165</td>\n",
              "      <td>28.614496</td>\n",
              "      <td>77.388992</td>\n",
              "      <td>43.312602</td>\n",
              "      <td>72.935459</td>\n",
              "      <td>43.130707</td>\n",
              "      <td>84.485774</td>\n",
              "      <td>238 236 237 238 240 240 239 241 241 243 240 23...</td>\n",
              "    </tr>\n",
              "    <tr>\n",
              "      <th>1</th>\n",
              "      <td>64.332936</td>\n",
              "      <td>34.970077</td>\n",
              "      <td>29.949277</td>\n",
              "      <td>33.448715</td>\n",
              "      <td>58.856170</td>\n",
              "      <td>35.274349</td>\n",
              "      <td>70.722723</td>\n",
              "      <td>36.187166</td>\n",
              "      <td>36.034723</td>\n",
              "      <td>34.361532</td>\n",
              "      <td>24.472511</td>\n",
              "      <td>33.144443</td>\n",
              "      <td>53.987404</td>\n",
              "      <td>28.275949</td>\n",
              "      <td>78.634213</td>\n",
              "      <td>30.405923</td>\n",
              "      <td>42.728851</td>\n",
              "      <td>26.146043</td>\n",
              "      <td>16.865362</td>\n",
              "      <td>27.058860</td>\n",
              "      <td>48.206298</td>\n",
              "      <td>55.660936</td>\n",
              "      <td>56.421447</td>\n",
              "      <td>76.352000</td>\n",
              "      <td>35.122383</td>\n",
              "      <td>76.047660</td>\n",
              "      <td>46.684596</td>\n",
              "      <td>70.266553</td>\n",
              "      <td>45.467915</td>\n",
              "      <td>85.480170</td>\n",
              "      <td>219 215 204 196 204 211 212 200 180 168 178 19...</td>\n",
              "    </tr>\n",
              "    <tr>\n",
              "      <th>2</th>\n",
              "      <td>65.057053</td>\n",
              "      <td>34.909642</td>\n",
              "      <td>30.903789</td>\n",
              "      <td>34.909642</td>\n",
              "      <td>59.412000</td>\n",
              "      <td>36.320968</td>\n",
              "      <td>70.984421</td>\n",
              "      <td>36.320968</td>\n",
              "      <td>37.678105</td>\n",
              "      <td>36.320968</td>\n",
              "      <td>24.976421</td>\n",
              "      <td>36.603221</td>\n",
              "      <td>55.742526</td>\n",
              "      <td>27.570947</td>\n",
              "      <td>78.887368</td>\n",
              "      <td>32.651621</td>\n",
              "      <td>42.193895</td>\n",
              "      <td>28.135453</td>\n",
              "      <td>16.791158</td>\n",
              "      <td>32.087116</td>\n",
              "      <td>47.557263</td>\n",
              "      <td>53.538947</td>\n",
              "      <td>60.822947</td>\n",
              "      <td>73.014316</td>\n",
              "      <td>33.726316</td>\n",
              "      <td>72.732000</td>\n",
              "      <td>47.274947</td>\n",
              "      <td>70.191789</td>\n",
              "      <td>47.274947</td>\n",
              "      <td>78.659368</td>\n",
              "      <td>144 142 159 180 188 188 184 180 167 132 84 59 ...</td>\n",
              "    </tr>\n",
              "    <tr>\n",
              "      <th>3</th>\n",
              "      <td>65.225739</td>\n",
              "      <td>37.261774</td>\n",
              "      <td>32.023096</td>\n",
              "      <td>37.261774</td>\n",
              "      <td>60.003339</td>\n",
              "      <td>39.127179</td>\n",
              "      <td>72.314713</td>\n",
              "      <td>38.380967</td>\n",
              "      <td>37.618643</td>\n",
              "      <td>38.754115</td>\n",
              "      <td>25.307270</td>\n",
              "      <td>38.007903</td>\n",
              "      <td>56.433809</td>\n",
              "      <td>30.929864</td>\n",
              "      <td>77.910261</td>\n",
              "      <td>31.665725</td>\n",
              "      <td>41.671513</td>\n",
              "      <td>31.049990</td>\n",
              "      <td>20.458017</td>\n",
              "      <td>29.909343</td>\n",
              "      <td>51.885078</td>\n",
              "      <td>54.166539</td>\n",
              "      <td>65.598887</td>\n",
              "      <td>72.703722</td>\n",
              "      <td>37.245496</td>\n",
              "      <td>74.195478</td>\n",
              "      <td>50.303165</td>\n",
              "      <td>70.091687</td>\n",
              "      <td>51.561183</td>\n",
              "      <td>78.268383</td>\n",
              "      <td>193 192 193 194 194 194 193 192 168 111 50 12 ...</td>\n",
              "    </tr>\n",
              "    <tr>\n",
              "      <th>4</th>\n",
              "      <td>66.725301</td>\n",
              "      <td>39.621261</td>\n",
              "      <td>32.244810</td>\n",
              "      <td>38.042032</td>\n",
              "      <td>58.565890</td>\n",
              "      <td>39.621261</td>\n",
              "      <td>72.515926</td>\n",
              "      <td>39.884466</td>\n",
              "      <td>36.982380</td>\n",
              "      <td>39.094852</td>\n",
              "      <td>22.506110</td>\n",
              "      <td>38.305237</td>\n",
              "      <td>57.249571</td>\n",
              "      <td>30.672177</td>\n",
              "      <td>77.762945</td>\n",
              "      <td>31.737247</td>\n",
              "      <td>38.035436</td>\n",
              "      <td>30.935382</td>\n",
              "      <td>15.925870</td>\n",
              "      <td>30.672177</td>\n",
              "      <td>43.299534</td>\n",
              "      <td>64.889521</td>\n",
              "      <td>60.671411</td>\n",
              "      <td>77.523239</td>\n",
              "      <td>31.191755</td>\n",
              "      <td>76.997301</td>\n",
              "      <td>44.962748</td>\n",
              "      <td>73.707387</td>\n",
              "      <td>44.227141</td>\n",
              "      <td>86.871166</td>\n",
              "      <td>147 148 160 196 215 214 216 217 219 220 206 18...</td>\n",
              "    </tr>\n",
              "  </tbody>\n",
              "</table>\n",
              "</div>"
            ],
            "text/plain": [
              "   left_eye_center_x  ...                                              Image\n",
              "0          66.033564  ...  238 236 237 238 240 240 239 241 241 243 240 23...\n",
              "1          64.332936  ...  219 215 204 196 204 211 212 200 180 168 178 19...\n",
              "2          65.057053  ...  144 142 159 180 188 188 184 180 167 132 84 59 ...\n",
              "3          65.225739  ...  193 192 193 194 194 194 193 192 168 111 50 12 ...\n",
              "4          66.725301  ...  147 148 160 196 215 214 216 217 219 220 206 18...\n",
              "\n",
              "[5 rows x 31 columns]"
            ]
          },
          "metadata": {
            "tags": []
          },
          "execution_count": 8
        }
      ]
    },
    {
      "cell_type": "markdown",
      "metadata": {
        "id": "PU5uydzZ5NLH",
        "colab_type": "text"
      },
      "source": [
        "As mentiones in the data section the training file has some data missing. So the nect step is to figure out the number of missing values. The following code does that.\n"
      ]
    },
    {
      "cell_type": "code",
      "metadata": {
        "id": "VehZ_9MG4yel",
        "colab_type": "code",
        "colab": {
          "base_uri": "https://localhost:8080/",
          "height": 35
        },
        "outputId": "30e10a3b-cac6-46d4-e99d-d9d23c2c8d08"
      },
      "source": [
        "# total number of missing values\n",
        "print(f\"The total number of missing values in the train dataset is/are: {train_csv.isnull().sum().sum()}\")"
      ],
      "execution_count": null,
      "outputs": [
        {
          "output_type": "stream",
          "text": [
            "The total number of missing values in the train dataset is/are: 105412\n"
          ],
          "name": "stdout"
        }
      ]
    },
    {
      "cell_type": "markdown",
      "metadata": {
        "id": "6NnLHc--5u-R",
        "colab_type": "text"
      },
      "source": [
        "Some of the most common ways of dealing with missing data are.\n",
        "\n",
        "\n",
        "*   Replacing\n",
        "*   Deleting entries with missing values (in is not usually preferred as it reduced the number of training examples)\n",
        "\n",
        "We perform replacement, in which we replace the missing value with mean.\n"
      ]
    },
    {
      "cell_type": "code",
      "metadata": {
        "id": "dF4DvVPv5HKO",
        "colab_type": "code",
        "colab": {
          "base_uri": "https://localhost:8080/",
          "height": 55
        },
        "outputId": "bc0fecc1-4253-40dc-cb3f-98e6c9d47c08"
      },
      "source": [
        "# Replace using mean and getting feature list\n",
        "key_points=list()\n",
        "for column in train_csv: # itterating over each column\n",
        "  if column!=\"Image\":      \n",
        "    key_points.append(column)\n",
        "    mean=train_csv[column].mean() \n",
        "    train_csv[column].fillna(mean, inplace=True) # replacing empty value with the mean \n",
        "   \n",
        "\n",
        "print(f\"The key point  list is: {key_points}\")"
      ],
      "execution_count": null,
      "outputs": [
        {
          "output_type": "stream",
          "text": [
            "The key point  list is: ['left_eye_center_x', 'left_eye_center_y', 'right_eye_center_x', 'right_eye_center_y', 'left_eye_inner_corner_x', 'left_eye_inner_corner_y', 'left_eye_outer_corner_x', 'left_eye_outer_corner_y', 'right_eye_inner_corner_x', 'right_eye_inner_corner_y', 'right_eye_outer_corner_x', 'right_eye_outer_corner_y', 'left_eyebrow_inner_end_x', 'left_eyebrow_inner_end_y', 'left_eyebrow_outer_end_x', 'left_eyebrow_outer_end_y', 'right_eyebrow_inner_end_x', 'right_eyebrow_inner_end_y', 'right_eyebrow_outer_end_x', 'right_eyebrow_outer_end_y', 'nose_tip_x', 'nose_tip_y', 'mouth_left_corner_x', 'mouth_left_corner_y', 'mouth_right_corner_x', 'mouth_right_corner_y', 'mouth_center_top_lip_x', 'mouth_center_top_lip_y', 'mouth_center_bottom_lip_x', 'mouth_center_bottom_lip_y']\n"
          ],
          "name": "stdout"
        }
      ]
    },
    {
      "cell_type": "code",
      "metadata": {
        "id": "gfIyZ8rYDTBs",
        "colab_type": "code",
        "colab": {
          "base_uri": "https://localhost:8080/",
          "height": 35
        },
        "outputId": "feb30e51-dec7-452e-85ef-245742aa3242"
      },
      "source": [
        "#  Checking again to see the number of missing values\n",
        "print(f\"The total number of missing values in the train dataset is/are: {train_csv.isnull().sum().sum()}\")"
      ],
      "execution_count": null,
      "outputs": [
        {
          "output_type": "stream",
          "text": [
            "The total number of missing values in the train dataset is/are: 0\n"
          ],
          "name": "stdout"
        }
      ]
    },
    {
      "cell_type": "markdown",
      "metadata": {
        "id": "Rkx-owxeXTXx",
        "colab_type": "text"
      },
      "source": [
        "Now we will split the training data into two parts, one will be used for training the neural network and the other will be used for validation. \n"
      ]
    },
    {
      "cell_type": "code",
      "metadata": {
        "id": "TUw9rtF8XpCV",
        "colab_type": "code",
        "colab": {}
      },
      "source": [
        "mask = np.random.rand(len(train_csv)) <=0.8  # approx 80% in training and 20% in validation\n",
        "train_split=train_csv[mask]\n",
        "val_split=train_csv[~mask]\n",
        "\n",
        "# saving the train and validation split (the files will be saved in your working directory)\n",
        "train_split.to_csv(\"train_split.csv\", index= False)\n",
        "val_split.to_csv(\"val_split.csv\", index= False)"
      ],
      "execution_count": null,
      "outputs": []
    },
    {
      "cell_type": "markdown",
      "metadata": {
        "id": "IGCSfLiMhhOq",
        "colab_type": "text"
      },
      "source": [
        "#Data Loading and Data Augmentation"
      ]
    },
    {
      "cell_type": "code",
      "metadata": {
        "id": "mYI2-BZenQT4",
        "colab_type": "code",
        "colab": {}
      },
      "source": [
        "# custom dataset \n",
        "from torch.utils.data import Dataset, DataLoader\n",
        "\n",
        "\n",
        "class faces(Dataset):\n",
        "  def __init__(self, csv_loc, p=0.5, transform = None):\n",
        "    self.csv=pd.read_csv(csv_loc)   \n",
        "    self.transform =  transform\n",
        "    self.p=p  \n",
        "\n",
        "  def __len__(self):\n",
        "    return len(self.csv)\n",
        "\n",
        "  def image_normalize(self, sample): # image normalization\n",
        "    mu     = 0      # mean value\n",
        "    sigma  = 0      # standard deviation        \n",
        "    X_norm = 0\n",
        "    mu=np.mean(sample)\n",
        "    sigma=np.std(sample)\n",
        "    X_norm=(sample-mu)/sigma      \n",
        "    return X_norm\n",
        "\n",
        "  def flip(self, image, x, y): # horizontal flipping\n",
        "    image_flip=np.flip(image, axis=1)\n",
        "    x=96-x\n",
        "    y=y # flipping does not alter y axis\n",
        "    return image_flip.copy(), x, y     \n",
        "\n",
        "  def __getitem__(self, idx):\n",
        "    image=self.image_normalize(np.array(self.csv.iloc[idx][-1].split(\" \"), dtype=\"float\").reshape(96,96))  # normalization\n",
        "    \n",
        "    \n",
        "    key_points=np.array(self.csv.iloc[idx][:-1], dtype=\"float\")   # x, y key point pair of the features\n",
        "    key_points_x=np.take(key_points, range(0, 30, 2)) # taking x co-ordinate of the features\n",
        "    key_points_y=np.take(key_points, range(1, 30, 2)) # taking y co-ordinate of the features\n",
        "    key_points_x_y= np.concatenate([key_points_x, key_points_y])  # concatinating x and y features    \n",
        "\n",
        "    if torch.rand(1) < self.p: # flipping\n",
        "      image, key_points_x, key_points_y= self.flip(image=image, x=key_points_x, y= key_points_y)\n",
        "      key_points_x_y= np.concatenate([key_points_x, key_points_y])  # concatinating x and y features      \n",
        "      \n",
        "    \n",
        "    return self.transform(image), key_points_x_y  \n",
        "    "
      ],
      "execution_count": null,
      "outputs": []
    },
    {
      "cell_type": "code",
      "metadata": {
        "id": "A88bdWOhmv1E",
        "colab_type": "code",
        "colab": {}
      },
      "source": [
        "train_dataset=faces(csv_loc=\"/content/gdrive/My Drive/Machine Learning/Kaggle/Facial Key Points Detection/train_split.csv\", p=0.5, transform = transforms.Compose([transforms.ToTensor()]))\n",
        "val_dataset= faces(csv_loc=\"/content/gdrive/My Drive/Machine Learning/Kaggle/Facial Key Points Detection/val_split.csv\", p=0.5, transform = transforms.Compose([transforms.ToTensor()]))"
      ],
      "execution_count": null,
      "outputs": []
    },
    {
      "cell_type": "code",
      "metadata": {
        "id": "vro0Gws8n8Hv",
        "colab_type": "code",
        "colab": {
          "base_uri": "https://localhost:8080/",
          "height": 52
        },
        "outputId": "4e0bad0f-90de-44c9-969c-560ac447160c"
      },
      "source": [
        "print(f\"Number of examples in training dataset: {len(train_dataset)}\")\n",
        "print(f\"Number of examples in validation dataset: {len(val_dataset)}\")"
      ],
      "execution_count": null,
      "outputs": [
        {
          "output_type": "stream",
          "text": [
            "Number of examples in training dataset: 5657\n",
            "Number of examples in validation dataset: 1392\n"
          ],
          "name": "stdout"
        }
      ]
    },
    {
      "cell_type": "markdown",
      "metadata": {
        "id": "FvaU_zFGdsH-",
        "colab_type": "text"
      },
      "source": [
        "#Data Exploration\n",
        "\n",
        "Let us look at an image in the traing dataset."
      ]
    },
    {
      "cell_type": "code",
      "metadata": {
        "id": "J5NJBYGXYly3",
        "colab_type": "code",
        "colab": {}
      },
      "source": [
        "def flip_(sample, x, y): # horizontal flipping\n",
        "  image_flip = np.flip(sample, axis=1)\n",
        "  x=96-x\n",
        "  y=y\n",
        "  x_y = zip(x, y)\n",
        "  for x, y in x_y:\n",
        "    image_flip[y][x] = 1\n",
        "  return image_flip "
      ],
      "execution_count": null,
      "outputs": []
    },
    {
      "cell_type": "code",
      "metadata": {
        "id": "5izJFkykZCeZ",
        "colab_type": "code",
        "colab": {}
      },
      "source": [
        "def image_features(sample, x, y): # image features\n",
        "  x_y=zip(x, y)\n",
        "  for x, y in x_y:\n",
        "    sample[y][x]=1\n",
        "  return sample"
      ],
      "execution_count": null,
      "outputs": []
    },
    {
      "cell_type": "code",
      "metadata": {
        "id": "hifY4QWE6BRH",
        "colab_type": "code",
        "colab": {}
      },
      "source": [
        "def image_show(sample, csv_loc):\n",
        "  fig, axs= plt.subplots(1, 3, figsize=(15,15)) \n",
        "  csv=pd.read_csv(csv_loc)\n",
        "  Image=np.array(csv.iloc[sample][-1].split(\" \"), dtype=\"float\").reshape(96,96)\n",
        "  key_points = np.array(csv.iloc[sample][:-1], dtype=\"int32\")    \n",
        "\n",
        "  key_points_x=np.take(key_points, range(0, 30, 2))\n",
        "  key_points_y=np.take(key_points, range(1, 30, 2)) \n",
        "\n",
        "  image_with_key_points =  image_features(sample= Image.copy(), x= key_points_x, y= key_points_y)\n",
        "  image_flip = flip_(sample= Image.copy(), x= key_points_x, y= key_points_y)\n",
        "\n",
        "  axs[0].imshow(Image)\n",
        "  axs[0].set_title(\"Original Image\")\n",
        "  axs[1].imshow(image_with_key_points)  \n",
        "  axs[1].set_title(\"Image with key points\")\n",
        "  axs[2].imshow(image_flip)  \n",
        "  axs[2].set_title(\"Horizontal flipping\")\n",
        "\n",
        "  return Image, key_points"
      ],
      "execution_count": null,
      "outputs": []
    },
    {
      "cell_type": "code",
      "metadata": {
        "id": "HWE-913-7P_G",
        "colab_type": "code",
        "colab": {
          "base_uri": "https://localhost:8080/"
        },
        "outputId": "c1c89254-c6db-4caa-d0eb-9e8714c4c97a"
      },
      "source": [
        "sample=np.random.randint(0, len(train_dataset)) # randomly selecting an example from train_split\n",
        "print(f\"Sample image number: {sample}\\n\")\n",
        "image ,feature=image_show(sample, csv_loc=\"/content/gdrive/My Drive/Machine Learning/Kaggle/Facial Key Points Detection/train_split.csv\")"
      ],
      "execution_count": null,
      "outputs": [
        {
          "output_type": "stream",
          "text": [
            "Sample image number: 4065\n",
            "\n"
          ],
          "name": "stdout"
        },
        {
          "output_type": "display_data",
          "data": {
            "image/png": "[encoded data removed]",
            "text/plain": [
              "<Figure size 1080x1080 with 3 Axes>"
            ]
          },
          "metadata": {
            "tags": [],
            "needs_background": "light"
          }
        }
      ]
    },
    {
      "cell_type": "markdown",
      "metadata": {
        "id": "3uJ52XXEWjxU",
        "colab_type": "text"
      },
      "source": [
        "#Helper functions"
      ]
    },
    {
      "cell_type": "code",
      "metadata": {
        "id": "p4turugtcWCq",
        "colab_type": "code",
        "colab": {}
      },
      "source": [
        "def cal_loss(model, loader, criterion, eps=1e-6):\n",
        "  loss_total=0 \n",
        "  total_step=len(loader)\n",
        "\n",
        "  for x, y in loader:\n",
        "    x=x.to(device=device, dtype=torch.float)\n",
        "    y=y.to(device=device, dtype=torch.long)\n",
        "    y_pred=model(x)                  \n",
        "    loss=torch.sqrt(criterion(y_pred, y) + eps) \n",
        "    loss_total+=loss.item()\n",
        "  \n",
        "  return (loss_total/total_step)"
      ],
      "execution_count": null,
      "outputs": []
    },
    {
      "cell_type": "code",
      "metadata": {
        "id": "2Wm-Y9wFWnrf",
        "colab_type": "code",
        "colab": {}
      },
      "source": [
        "# solver function for Neural Network\n",
        "\n",
        "def Solver_NN(model, train_loader, val_loader, optim, criterion, device, scheduler, print_every=10, epoch=51, lr=1e-1):\n",
        "  print(\"Solver Initiated\")  \n",
        "  model=model.to(device) # sending model to GPU\n",
        "  if device ==\"cpu\":\n",
        "    print(\"Cuda unavailable, model successfully sent to the CPU\\n\")\n",
        "  else:\n",
        "    print(\"Model successfully sent to the GPU\\n\")\n",
        "\n",
        "  print_every=print_every\n",
        "  total_step = len(train_loader)\n",
        "  counter=0\n",
        "\n",
        "  for e in range(epoch):\n",
        "    running_loss = 0.0    \n",
        "    epoch_loss=0.0\n",
        "    for i, (x,y) in enumerate(train_loader):\n",
        "      optim.zero_grad()\n",
        "      \n",
        "      x=x.to(device=device, dtype=torch.float)\n",
        "      y=y.to(device=device, dtype=torch.float)\n",
        "     \n",
        "      #forward pass########\n",
        "      y_pred=model(x)                  \n",
        "      loss=torch.sqrt(criterion(y_pred, y))   \n",
        "      ####################\n",
        "      \n",
        "      # backward pass#######     \n",
        "      loss.backward()\n",
        "      optim.step()\n",
        "      ####################      \n",
        "      running_loss += loss.item()      \n",
        "      if (i+1) % print_every == 0:       # print every 10\n",
        "        print (\"Epoch [{}/{}], Step [{}/{}] Loss: {}\".format(counter+1, epoch, i+1, total_step, running_loss/print_every))\n",
        "        running_loss = 0.0    \n",
        "    counter+=1     \n",
        "\n",
        "    with torch.no_grad():            \n",
        "      train_loss= cal_loss(model, train_loader, criterion)\n",
        "      val_loss= cal_loss(model, val_loader, criterion)\n",
        "      scheduler.step(val_loss)\n",
        "      print(f\"Train loss in epoch {e+1} is {train_loss}\") \n",
        "      print(f\"Validation loss in epoch {e+1} is {val_loss}\\n \")         \n",
        "  return model"
      ],
      "execution_count": null,
      "outputs": []
    },
    {
      "cell_type": "markdown",
      "metadata": {
        "id": "4BuEtrSKfU2E",
        "colab_type": "text"
      },
      "source": [
        "# Neural Network"
      ]
    },
    {
      "cell_type": "markdown",
      "metadata": {
        "id": "J7IQGu_6YiCf",
        "colab_type": "text"
      },
      "source": [
        "##RESNET"
      ]
    },
    {
      "cell_type": "code",
      "metadata": {
        "id": "gby0iCi_fXUd",
        "colab_type": "code",
        "colab": {}
      },
      "source": [
        "class Resnet(nn.Module):\n",
        "  def __init__(self, inp_channels, output, model):\n",
        "    super().__init__()\n",
        "    self.inp_channels=inp_channels\n",
        "    self.output=output\n",
        "    self.first=nn.Sequential(nn.Conv2d(self.inp_channels, 64, kernel_size=(7, 7), stride=(2, 2), padding=(3, 3), bias=False), \n",
        "                                              nn.ReLU(inplace=True))\n",
        "    self.cnn=nn.Sequential(*(list(model.children())[1:-1]), nn.Flatten())    \n",
        "    self.fc = nn.Sequential(nn.Linear(512, 512), \n",
        "                            nn.ReLU(inplace= True),\n",
        "                            nn.Dropout(p=0.5), \n",
        "                            nn.Linear(512, 128), \n",
        "                            nn.ReLU(inplace=True), \n",
        "                            nn.Dropout(p=0.3), \n",
        "                            nn.Linear(128, self.output))\n",
        "      \n",
        "\n",
        "  def forward(self, x):  \n",
        "\n",
        "    x=self.first(x)\n",
        "    #print(f\"1: {x.shape}\")\n",
        "\n",
        "    x=self.cnn(x)\n",
        "   #print(f\"2: {x.shape}\")\n",
        "\n",
        "    x=self.fc(x)\n",
        "    #print(f\"3 {x.shape}\")\n",
        "\n",
        "    return x"
      ],
      "execution_count": null,
      "outputs": []
    },
    {
      "cell_type": "code",
      "metadata": {
        "id": "FiS_QCULfbDy",
        "colab_type": "code",
        "colab": {}
      },
      "source": [
        "resnet=torch.hub.load('pytorch/vision:v0.6.0', 'resnet34', pretrained=False)\n",
        "num_input_channels=1 # since it's a black and white image\n",
        "output= 30  # number of keypoints\n",
        "model= Resnet(num_input_channels, output, resnet)\n",
        "print(model)\n"
      ],
      "execution_count": null,
      "outputs": []
    },
    {
      "cell_type": "markdown",
      "metadata": {
        "id": "7qBsOTQlYma-",
        "colab_type": "text"
      },
      "source": [
        "##VGG"
      ]
    },
    {
      "cell_type": "code",
      "metadata": {
        "id": "6cIH8tXCYdDO",
        "colab_type": "code",
        "colab": {}
      },
      "source": [
        "class VGG(nn.Module):\n",
        "  def __init__(self, inp_channels, output):\n",
        "    super().__init__()\n",
        "    self.inp_channels=inp_channels\n",
        "    self.output=output\n",
        "\n",
        "    self.vgg=nn.Sequential(\n",
        "                      nn.Conv2d(self.inp_channels, 64, kernel_size=(3, 3), stride=(1, 1), padding=(1, 1)),\n",
        "                      nn.BatchNorm2d(64, eps=1e-05, momentum=0.1, affine=True, track_running_stats=True),\n",
        "                      nn.ReLU(inplace=True),\n",
        "                      nn.Conv2d(64, 64, kernel_size=(3, 3), stride=(1, 1), padding=(1, 1)),\n",
        "                      nn.BatchNorm2d(64, eps=1e-05, momentum=0.1, affine=True, track_running_stats=True),\n",
        "                      nn.ReLU(inplace=True),\n",
        "                      nn.MaxPool2d(kernel_size=2, stride=2, padding=0, dilation=1, ceil_mode=False),\n",
        "                      nn.Conv2d(64, 128, kernel_size=(3, 3), stride=(1, 1), padding=(1, 1)),\n",
        "                      nn.BatchNorm2d(128, eps=1e-05, momentum=0.1, affine=True, track_running_stats=True),\n",
        "                      nn.ReLU(inplace=True),\n",
        "                      nn.Conv2d(128, 128, kernel_size=(3, 3), stride=(1, 1), padding=(1, 1)),\n",
        "                      nn.BatchNorm2d(128, eps=1e-05, momentum=0.1, affine=True, track_running_stats=True),\n",
        "                      nn.ReLU(inplace=True),\n",
        "                      nn.MaxPool2d(kernel_size=2, stride=2, padding=0, dilation=1, ceil_mode=False),\n",
        "                      nn.Conv2d(128, 256, kernel_size=(3, 3), stride=(1, 1), padding=(1, 1)),\n",
        "                      nn.BatchNorm2d(256, eps=1e-05, momentum=0.1, affine=True, track_running_stats=True),\n",
        "                      nn.ReLU(inplace=True),\n",
        "                      nn.Conv2d(256, 256, kernel_size=(3, 3), stride=(1, 1), padding=(1, 1)),\n",
        "                      nn.BatchNorm2d(256, eps=1e-05, momentum=0.1, affine=True, track_running_stats=True),\n",
        "                      nn.ReLU(inplace=True),\n",
        "                      nn.Conv2d(256, 256, kernel_size=(3, 3), stride=(1, 1), padding=(1, 1)),\n",
        "                      nn.BatchNorm2d(256, eps=1e-05, momentum=0.1, affine=True, track_running_stats=True),\n",
        "                      nn.ReLU(inplace=True),\n",
        "                      nn.MaxPool2d(kernel_size=2, stride=2, padding=0, dilation=1, ceil_mode=False),\n",
        "                      nn.Conv2d(256, 512, kernel_size=(3, 3), stride=(1, 1), padding=(1, 1)),\n",
        "                      nn.BatchNorm2d(512, eps=1e-05, momentum=0.1, affine=True, track_running_stats=True),\n",
        "                      nn.ReLU(inplace=True),\n",
        "                      nn.Conv2d(512, 512, kernel_size=(3, 3), stride=(1, 1), padding=(1, 1)),\n",
        "                      nn.BatchNorm2d(512, eps=1e-05, momentum=0.1, affine=True, track_running_stats=True),\n",
        "                      nn.ReLU(inplace=True),\n",
        "                      nn.Conv2d(512, 512, kernel_size=(3, 3), stride=(1, 1), padding=(1, 1)),\n",
        "                      nn.BatchNorm2d(512, eps=1e-05, momentum=0.1, affine=True, track_running_stats=True),\n",
        "                      nn.ReLU(inplace=True),\n",
        "                      nn.MaxPool2d(kernel_size=2, stride=2, padding=0, dilation=1, ceil_mode=False),\n",
        "                      nn.Conv2d(512, 512, kernel_size=(3, 3), stride=(1, 1), padding=(1, 1)),\n",
        "                      nn.BatchNorm2d(512, eps=1e-05, momentum=0.1, affine=True, track_running_stats=True),\n",
        "                      nn.ReLU(inplace=True),\n",
        "                      nn.Conv2d(512, 512, kernel_size=(3, 3), stride=(1, 1), padding=(1, 1)),\n",
        "                      nn.BatchNorm2d(512, eps=1e-05, momentum=0.1, affine=True, track_running_stats=True),\n",
        "                      nn.ReLU(inplace=True),\n",
        "                      nn.Conv2d(512, 512, kernel_size=(3, 3), stride=(1, 1), padding=(1, 1)),\n",
        "                      nn.BatchNorm2d(512, eps=1e-05, momentum=0.1, affine=True, track_running_stats=True),\n",
        "                      nn.ReLU(inplace=True),\n",
        "                      nn.MaxPool2d(kernel_size=2, stride=2, padding=0, dilation=1, ceil_mode=False))                      \n",
        "                                                                                                 \n",
        "    self.avgpool=nn.AdaptiveAvgPool2d(output_size=(7, 7))\n",
        "    \n",
        "    self.classifier= nn.Sequential(\n",
        "                      nn.Flatten(),\n",
        "                      nn.Linear(in_features=25088, out_features=4096, bias=True),\n",
        "                      nn.ReLU(inplace=True),\n",
        "                      nn.Dropout(p=0.5, inplace=False),\n",
        "                      nn.Linear(in_features=4096, out_features=4096, bias=True),\n",
        "                      nn.ReLU(inplace=True),\n",
        "                      nn.Dropout(p=0.5, inplace=False),\n",
        "                      nn.Linear(in_features=4096, out_features=self.output, bias=True))\n",
        "        \n",
        "    \n",
        "\n",
        "  def forward(self, x):  \n",
        "    \n",
        "\n",
        "    x=self.vgg(x)\n",
        "    #print(f\"1: {x.shape}\")\n",
        "\n",
        "    x=self.avgpool(x)\n",
        "    #print(f\"2: {x.shape}\")\n",
        "\n",
        "    x=self.classifier(x)\n",
        "    #print(f\"3: {x.shape}\")\n",
        "\n",
        "    \n",
        "\n",
        "    return x"
      ],
      "execution_count": null,
      "outputs": []
    },
    {
      "cell_type": "code",
      "metadata": {
        "id": "qoz1sTpEdF5_",
        "colab_type": "code",
        "colab": {
          "base_uri": "https://localhost:8080/",
          "height": 1000
        },
        "outputId": "b4f2bed3-f775-4f72-dafc-eac05eecd1fe"
      },
      "source": [
        "num_input_channels=1 # since it's a black and white image\n",
        "output= 30  # number of keypoints\n",
        "model= VGG(num_input_channels, output)\n",
        "print(model)\n"
      ],
      "execution_count": null,
      "outputs": [
        {
          "output_type": "stream",
          "text": [
            "VGG(\n",
            "  (vgg): Sequential(\n",
            "    (0): Conv2d(1, 64, kernel_size=(3, 3), stride=(1, 1), padding=(1, 1))\n",
            "    (1): BatchNorm2d(64, eps=1e-05, momentum=0.1, affine=True, track_running_stats=True)\n",
            "    (2): ReLU(inplace=True)\n",
            "    (3): Conv2d(64, 64, kernel_size=(3, 3), stride=(1, 1), padding=(1, 1))\n",
            "    (4): BatchNorm2d(64, eps=1e-05, momentum=0.1, affine=True, track_running_stats=True)\n",
            "    (5): ReLU(inplace=True)\n",
            "    (6): MaxPool2d(kernel_size=2, stride=2, padding=0, dilation=1, ceil_mode=False)\n",
            "    (7): Conv2d(64, 128, kernel_size=(3, 3), stride=(1, 1), padding=(1, 1))\n",
            "    (8): BatchNorm2d(128, eps=1e-05, momentum=0.1, affine=True, track_running_stats=True)\n",
            "    (9): ReLU(inplace=True)\n",
            "    (10): Conv2d(128, 128, kernel_size=(3, 3), stride=(1, 1), padding=(1, 1))\n",
            "    (11): BatchNorm2d(128, eps=1e-05, momentum=0.1, affine=True, track_running_stats=True)\n",
            "    (12): ReLU(inplace=True)\n",
            "    (13): MaxPool2d(kernel_size=2, stride=2, padding=0, dilation=1, ceil_mode=False)\n",
            "    (14): Conv2d(128, 256, kernel_size=(3, 3), stride=(1, 1), padding=(1, 1))\n",
            "    (15): BatchNorm2d(256, eps=1e-05, momentum=0.1, affine=True, track_running_stats=True)\n",
            "    (16): ReLU(inplace=True)\n",
            "    (17): Conv2d(256, 256, kernel_size=(3, 3), stride=(1, 1), padding=(1, 1))\n",
            "    (18): BatchNorm2d(256, eps=1e-05, momentum=0.1, affine=True, track_running_stats=True)\n",
            "    (19): ReLU(inplace=True)\n",
            "    (20): Conv2d(256, 256, kernel_size=(3, 3), stride=(1, 1), padding=(1, 1))\n",
            "    (21): BatchNorm2d(256, eps=1e-05, momentum=0.1, affine=True, track_running_stats=True)\n",
            "    (22): ReLU(inplace=True)\n",
            "    (23): MaxPool2d(kernel_size=2, stride=2, padding=0, dilation=1, ceil_mode=False)\n",
            "    (24): Conv2d(256, 512, kernel_size=(3, 3), stride=(1, 1), padding=(1, 1))\n",
            "    (25): BatchNorm2d(512, eps=1e-05, momentum=0.1, affine=True, track_running_stats=True)\n",
            "    (26): ReLU(inplace=True)\n",
            "    (27): Conv2d(512, 512, kernel_size=(3, 3), stride=(1, 1), padding=(1, 1))\n",
            "    (28): BatchNorm2d(512, eps=1e-05, momentum=0.1, affine=True, track_running_stats=True)\n",
            "    (29): ReLU(inplace=True)\n",
            "    (30): Conv2d(512, 512, kernel_size=(3, 3), stride=(1, 1), padding=(1, 1))\n",
            "    (31): BatchNorm2d(512, eps=1e-05, momentum=0.1, affine=True, track_running_stats=True)\n",
            "    (32): ReLU(inplace=True)\n",
            "    (33): MaxPool2d(kernel_size=2, stride=2, padding=0, dilation=1, ceil_mode=False)\n",
            "    (34): Conv2d(512, 512, kernel_size=(3, 3), stride=(1, 1), padding=(1, 1))\n",
            "    (35): BatchNorm2d(512, eps=1e-05, momentum=0.1, affine=True, track_running_stats=True)\n",
            "    (36): ReLU(inplace=True)\n",
            "    (37): Conv2d(512, 512, kernel_size=(3, 3), stride=(1, 1), padding=(1, 1))\n",
            "    (38): BatchNorm2d(512, eps=1e-05, momentum=0.1, affine=True, track_running_stats=True)\n",
            "    (39): ReLU(inplace=True)\n",
            "    (40): Conv2d(512, 512, kernel_size=(3, 3), stride=(1, 1), padding=(1, 1))\n",
            "    (41): BatchNorm2d(512, eps=1e-05, momentum=0.1, affine=True, track_running_stats=True)\n",
            "    (42): ReLU(inplace=True)\n",
            "    (43): MaxPool2d(kernel_size=2, stride=2, padding=0, dilation=1, ceil_mode=False)\n",
            "  )\n",
            "  (avgpool): AdaptiveAvgPool2d(output_size=(7, 7))\n",
            "  (classifier): Sequential(\n",
            "    (0): Flatten()\n",
            "    (1): Linear(in_features=25088, out_features=4096, bias=True)\n",
            "    (2): ReLU(inplace=True)\n",
            "    (3): Dropout(p=0.5, inplace=False)\n",
            "    (4): Linear(in_features=4096, out_features=4096, bias=True)\n",
            "    (5): ReLU(inplace=True)\n",
            "    (6): Dropout(p=0.5, inplace=False)\n",
            "    (7): Linear(in_features=4096, out_features=30, bias=True)\n",
            "  )\n",
            ")\n"
          ],
          "name": "stdout"
        }
      ]
    },
    {
      "cell_type": "markdown",
      "metadata": {
        "id": "cU1oTmQzYpRb",
        "colab_type": "text"
      },
      "source": [
        "#Training"
      ]
    },
    {
      "cell_type": "code",
      "metadata": {
        "id": "B_ATQLQNn8BS",
        "colab_type": "code",
        "colab": {
          "base_uri": "https://localhost:8080/",
          "height": 35
        },
        "outputId": "dbf390fa-8344-4a13-9c56-22bbb3112aaa"
      },
      "source": [
        "#  model parameters\n",
        "\n",
        "model_parameters = filter(lambda p: p.requires_grad, model.parameters())\n",
        "params = sum([np.prod(p.size()) for p in model_parameters])\n",
        "print(\"Learnable parameters:\",params)"
      ],
      "execution_count": null,
      "outputs": [
        {
          "output_type": "stream",
          "text": [
            "Learnable parameters: 134390750\n"
          ],
          "name": "stdout"
        }
      ]
    },
    {
      "cell_type": "code",
      "metadata": {
        "id": "Iu7vs3CzgZhQ",
        "colab_type": "code",
        "colab": {}
      },
      "source": [
        "#criterion and optimizer\n",
        "from torch.optim.lr_scheduler import ReduceLROnPlateau\n",
        "\n",
        "lr=0.01\n",
        "criterion=nn.MSELoss(reduction=\"mean\") # loss criterion \n",
        "optim=torch.optim.Adam(model.parameters(), lr=lr, weight_decay=0.01) # optimizer \n",
        "scheduler= ReduceLROnPlateau(optim, mode=\"min\", factor=0.1, patience=5, verbose=True)"
      ],
      "execution_count": null,
      "outputs": []
    },
    {
      "cell_type": "code",
      "metadata": {
        "id": "77_ziQm4gcKV",
        "colab_type": "code",
        "colab": {}
      },
      "source": [
        "# loading training and validation data for the neural network\n",
        "\n",
        "train_loader=DataLoader(train_dataset, batch_size=16, shuffle=True, num_workers=1) \n",
        "val_loader=DataLoader(val_dataset, batch_size=16, shuffle=True, num_workers=1) "
      ],
      "execution_count": null,
      "outputs": []
    },
    {
      "cell_type": "code",
      "metadata": {
        "id": "yPFguuAIhAVw",
        "colab_type": "code",
        "colab": {
          "base_uri": "https://localhost:8080/",
          "height": 1000
        },
        "outputId": "9f259b4c-f91a-459a-8e32-0d89de23c2b7"
      },
      "source": [
        "model=Solver_NN(model, train_loader, val_loader, optim, criterion, device, scheduler, print_every=100, epoch=151, lr=lr)"
      ],
      "execution_count": null,
      "outputs": [
        {
          "output_type": "stream",
          "text": [
            "Solver Initiated\n",
            "Model successfully sent to the GPU\n",
            "\n",
            "Epoch [1/151], Step [100/354] Loss: 221.08882804870606\n",
            "Epoch [1/151], Step [200/354] Loss: 32.91346681594849\n",
            "Epoch [1/151], Step [300/354] Loss: 39.87628929138184\n",
            "Train loss in epoch 1 is 30.54349137430137\n",
            "Validation loss in epoch 1 is 30.76156559209714\n",
            " \n",
            "Epoch [2/151], Step [100/354] Loss: 26.098801059722902\n",
            "Epoch [2/151], Step [200/354] Loss: 20.155275287628175\n",
            "Epoch [2/151], Step [300/354] Loss: 18.791162071228026\n",
            "Train loss in epoch 2 is 20.929052379845224\n",
            "Validation loss in epoch 2 is 20.36911061166347\n",
            " \n",
            "Epoch [3/151], Step [100/354] Loss: 17.211749095916748\n",
            "Epoch [3/151], Step [200/354] Loss: 15.108774251937866\n",
            "Epoch [3/151], Step [300/354] Loss: 18.78422327041626\n",
            "Train loss in epoch 3 is 15.349316244071487\n",
            "Validation loss in epoch 3 is 15.25112919423772\n",
            " \n",
            "Epoch [4/151], Step [100/354] Loss: 14.997474422454834\n",
            "Epoch [4/151], Step [200/354] Loss: 15.958061866760254\n",
            "Epoch [4/151], Step [300/354] Loss: 14.640524606704712\n",
            "Train loss in epoch 4 is 14.201956142813472\n",
            "Validation loss in epoch 4 is 14.18227406205802\n",
            " \n",
            "Epoch [5/151], Step [100/354] Loss: 17.818241701126098\n",
            "Epoch [5/151], Step [200/354] Loss: 29.909224643707276\n",
            "Epoch [5/151], Step [300/354] Loss: 14.73634575843811\n",
            "Train loss in epoch 5 is 14.51765346796499\n",
            "Validation loss in epoch 5 is 14.528577782641882\n",
            " \n",
            "Epoch [6/151], Step [100/354] Loss: 14.245234375\n",
            "Epoch [6/151], Step [200/354] Loss: 14.352326545715332\n",
            "Epoch [6/151], Step [300/354] Loss: 14.247959756851197\n",
            "Train loss in epoch 6 is 14.231338676086253\n",
            "Validation loss in epoch 6 is 14.203240306898095\n",
            " \n",
            "Epoch [7/151], Step [100/354] Loss: 41.94282914161682\n",
            "Epoch [7/151], Step [200/354] Loss: 29.487396717071533\n",
            "Epoch [7/151], Step [300/354] Loss: 14.846143817901611\n",
            "Train loss in epoch 7 is 14.184351977655442\n",
            "Validation loss in epoch 7 is 14.118579261604397\n",
            " \n",
            "Epoch [8/151], Step [100/354] Loss: 14.316880416870116\n",
            "Epoch [8/151], Step [200/354] Loss: 14.285017137527467\n",
            "Epoch [8/151], Step [300/354] Loss: 30.458912439346314\n",
            "Train loss in epoch 8 is 18.62394417477193\n",
            "Validation loss in epoch 8 is 18.804595158017914\n",
            " \n",
            "Epoch [9/151], Step [100/354] Loss: 16.128882274627685\n",
            "Epoch [9/151], Step [200/354] Loss: 14.949238777160645\n",
            "Epoch [9/151], Step [300/354] Loss: 14.52012707710266\n",
            "Train loss in epoch 9 is 14.936176335070765\n",
            "Validation loss in epoch 9 is 14.984882880901468\n",
            " \n",
            "Epoch [10/151], Step [100/354] Loss: 14.419496459960937\n",
            "Epoch [10/151], Step [200/354] Loss: 14.734730291366578\n",
            "Epoch [10/151], Step [300/354] Loss: 14.272469844818115\n",
            "Train loss in epoch 10 is 14.335716401116322\n",
            "Validation loss in epoch 10 is 14.315041158391141\n",
            " \n",
            "Epoch [11/151], Step [100/354] Loss: 14.153109998703004\n",
            "Epoch [11/151], Step [200/354] Loss: 14.284250116348266\n",
            "Epoch [11/151], Step [300/354] Loss: 16.40333369255066\n",
            "Train loss in epoch 11 is 15.053980417844265\n",
            "Validation loss in epoch 11 is 14.948017219017292\n",
            " \n",
            "Epoch [12/151], Step [100/354] Loss: 15.414506711959838\n",
            "Epoch [12/151], Step [200/354] Loss: 17.1338854598999\n",
            "Epoch [12/151], Step [300/354] Loss: 21.11905902862549\n",
            "Train loss in epoch 12 is 14.673247612128824\n",
            "Validation loss in epoch 12 is 14.560201513356176\n",
            " \n",
            "Epoch [13/151], Step [100/354] Loss: 14.802232446670532\n",
            "Epoch [13/151], Step [200/354] Loss: 14.518473529815674\n",
            "Epoch [13/151], Step [300/354] Loss: 14.613276100158691\n",
            "Epoch    13: reducing learning rate of group 0 to 1.0000e-03.\n",
            "Train loss in epoch 13 is 14.15255081047446\n",
            "Validation loss in epoch 13 is 14.163789880686792\n",
            " \n",
            "Epoch [14/151], Step [100/354] Loss: 14.01902844429016\n",
            "Epoch [14/151], Step [200/354] Loss: 13.898030738830567\n",
            "Epoch [14/151], Step [300/354] Loss: 13.810128564834594\n",
            "Train loss in epoch 14 is 13.870380269605562\n",
            "Validation loss in epoch 14 is 13.82662778613211\n",
            " \n",
            "Epoch [15/151], Step [100/354] Loss: 13.841680755615235\n",
            "Epoch [15/151], Step [200/354] Loss: 13.734655113220215\n",
            "Epoch [15/151], Step [300/354] Loss: 13.684546461105347\n",
            "Train loss in epoch 15 is 13.740222136179606\n",
            "Validation loss in epoch 15 is 13.678384616457183\n",
            " \n",
            "Epoch [16/151], Step [100/354] Loss: 13.729994344711304\n",
            "Epoch [16/151], Step [200/354] Loss: 13.747788915634155\n",
            "Epoch [16/151], Step [300/354] Loss: 13.677788076400757\n",
            "Train loss in epoch 16 is 13.682115002540545\n",
            "Validation loss in epoch 16 is 13.727594364648578\n",
            " \n",
            "Epoch [17/151], Step [100/354] Loss: 13.635741968154907\n",
            "Epoch [17/151], Step [200/354] Loss: 13.567041845321656\n",
            "Epoch [17/151], Step [300/354] Loss: 13.660700931549073\n",
            "Train loss in epoch 17 is 13.746977245740299\n",
            "Validation loss in epoch 17 is 13.730691175351197\n",
            " \n",
            "Epoch [18/151], Step [100/354] Loss: 13.640899562835694\n",
            "Epoch [18/151], Step [200/354] Loss: 13.60983060836792\n",
            "Epoch [18/151], Step [300/354] Loss: 13.601485404968262\n",
            "Train loss in epoch 18 is 13.611166094656044\n",
            "Validation loss in epoch 18 is 13.640490564806708\n",
            " \n",
            "Epoch [19/151], Step [100/354] Loss: 13.606058387756347\n",
            "Epoch [19/151], Step [200/354] Loss: 13.593250131607055\n",
            "Epoch [19/151], Step [300/354] Loss: 13.476334285736083\n",
            "Train loss in epoch 19 is 13.589103165319411\n",
            "Validation loss in epoch 19 is 13.591675736438269\n",
            " \n",
            "Epoch [20/151], Step [100/354] Loss: 13.567731323242187\n",
            "Epoch [20/151], Step [200/354] Loss: 13.571920709609985\n",
            "Epoch [20/151], Step [300/354] Loss: 13.547513523101806\n",
            "Train loss in epoch 20 is 13.589657239321262\n",
            "Validation loss in epoch 20 is 13.559703037656586\n",
            " \n",
            "Epoch [21/151], Step [100/354] Loss: 13.583141794204712\n",
            "Epoch [21/151], Step [200/354] Loss: 13.575745429992676\n",
            "Epoch [21/151], Step [300/354] Loss: 13.548741426467895\n",
            "Train loss in epoch 21 is 13.600465119895288\n",
            "Validation loss in epoch 21 is 13.573807080586752\n",
            " \n",
            "Epoch [22/151], Step [100/354] Loss: 13.581869268417359\n",
            "Epoch [22/151], Step [200/354] Loss: 13.585908651351929\n",
            "Epoch [22/151], Step [300/354] Loss: 13.57329532623291\n",
            "Train loss in epoch 22 is 13.618260607207562\n",
            "Validation loss in epoch 22 is 13.572695841734436\n",
            " \n",
            "Epoch [23/151], Step [100/354] Loss: 13.5656627368927\n",
            "Epoch [23/151], Step [200/354] Loss: 13.596793432235717\n",
            "Epoch [23/151], Step [300/354] Loss: 13.540296440124513\n",
            "Train loss in epoch 23 is 13.592988674250027\n",
            "Validation loss in epoch 23 is 13.614851315816244\n",
            " \n",
            "Epoch [24/151], Step [100/354] Loss: 13.56209873199463\n",
            "Epoch [24/151], Step [200/354] Loss: 13.552984771728516\n",
            "Epoch [24/151], Step [300/354] Loss: 13.555539770126343\n",
            "Train loss in epoch 24 is 13.60160515941469\n",
            "Validation loss in epoch 24 is 13.613169001436782\n",
            " \n",
            "Epoch [25/151], Step [100/354] Loss: 13.551727952957153\n",
            "Epoch [25/151], Step [200/354] Loss: 13.522943439483642\n",
            "Epoch [25/151], Step [300/354] Loss: 13.64721384048462\n",
            "Train loss in epoch 25 is 13.59846681390105\n",
            "Validation loss in epoch 25 is 13.624855041503906\n",
            " \n",
            "Epoch [26/151], Step [100/354] Loss: 13.540592460632324\n",
            "Epoch [26/151], Step [200/354] Loss: 13.608361225128174\n",
            "Epoch [26/151], Step [300/354] Loss: 13.546523656845093\n",
            "Epoch    26: reducing learning rate of group 0 to 1.0000e-04.\n",
            "Train loss in epoch 26 is 13.528490745415121\n",
            "Validation loss in epoch 26 is 13.561578202521664\n",
            " \n",
            "Epoch [27/151], Step [100/354] Loss: 13.49153437614441\n",
            "Epoch [27/151], Step [200/354] Loss: 13.445193042755127\n",
            "Epoch [27/151], Step [300/354] Loss: 13.559204740524292\n",
            "Train loss in epoch 27 is 13.531142078550522\n",
            "Validation loss in epoch 27 is 13.510093042220193\n",
            " \n",
            "Epoch [28/151], Step [100/354] Loss: 13.438271341323853\n",
            "Epoch [28/151], Step [200/354] Loss: 13.457654838562013\n",
            "Epoch [28/151], Step [300/354] Loss: 13.489174909591675\n",
            "Train loss in epoch 28 is 13.525504430135092\n",
            "Validation loss in epoch 28 is 13.536894458463822\n",
            " \n",
            "Epoch [29/151], Step [100/354] Loss: 13.467283868789673\n",
            "Epoch [29/151], Step [200/354] Loss: 13.461455173492432\n",
            "Epoch [29/151], Step [300/354] Loss: 13.466377410888672\n",
            "Train loss in epoch 29 is 13.536812529052044\n",
            "Validation loss in epoch 29 is 13.51743779237243\n",
            " \n",
            "Epoch [30/151], Step [100/354] Loss: 13.465228443145753\n",
            "Epoch [30/151], Step [200/354] Loss: 13.479232654571533\n",
            "Epoch [30/151], Step [300/354] Loss: 13.453603610992431\n",
            "Train loss in epoch 30 is 13.517714942242467\n",
            "Validation loss in epoch 30 is 13.522033329667716\n",
            " \n",
            "Epoch [31/151], Step [100/354] Loss: 13.517415933609009\n",
            "Epoch [31/151], Step [200/354] Loss: 13.495872802734375\n",
            "Epoch [31/151], Step [300/354] Loss: 13.455379428863525\n",
            "Train loss in epoch 31 is 13.526600183066675\n",
            "Validation loss in epoch 31 is 13.485789551132028\n",
            " \n",
            "Epoch [32/151], Step [100/354] Loss: 13.551622514724732\n",
            "Epoch [32/151], Step [200/354] Loss: 13.488721504211426\n",
            "Epoch [32/151], Step [300/354] Loss: 13.452025327682495\n",
            "Train loss in epoch 32 is 13.525265828364313\n",
            "Validation loss in epoch 32 is 13.570754095055591\n",
            " \n",
            "Epoch [33/151], Step [100/354] Loss: 13.42234564781189\n",
            "Epoch [33/151], Step [200/354] Loss: 13.488375806808472\n",
            "Epoch [33/151], Step [300/354] Loss: 13.466965417861939\n",
            "Train loss in epoch 33 is 13.511495660253837\n",
            "Validation loss in epoch 33 is 13.509426741764463\n",
            " \n",
            "Epoch [34/151], Step [100/354] Loss: 13.39000012397766\n",
            "Epoch [34/151], Step [200/354] Loss: 13.476059446334839\n",
            "Epoch [34/151], Step [300/354] Loss: 13.481052875518799\n",
            "Train loss in epoch 34 is 13.515981544882564\n",
            "Validation loss in epoch 34 is 13.497066837617721\n",
            " \n",
            "Epoch [35/151], Step [100/354] Loss: 13.492476978302001\n",
            "Epoch [35/151], Step [200/354] Loss: 13.500171995162964\n",
            "Epoch [35/151], Step [300/354] Loss: 13.448688039779663\n",
            "Train loss in epoch 35 is 13.514104261236676\n",
            "Validation loss in epoch 35 is 13.512745188570571\n",
            " \n",
            "Epoch [36/151], Step [100/354] Loss: 13.491085891723634\n",
            "Epoch [36/151], Step [200/354] Loss: 13.466725072860719\n",
            "Epoch [36/151], Step [300/354] Loss: 13.437484512329101\n",
            "Train loss in epoch 36 is 13.51478128109948\n",
            "Validation loss in epoch 36 is 13.52010612926264\n",
            " \n",
            "Epoch [37/151], Step [100/354] Loss: 13.440949411392213\n",
            "Epoch [37/151], Step [200/354] Loss: 13.450029048919678\n",
            "Epoch [37/151], Step [300/354] Loss: 13.504366645812988\n",
            "Epoch    37: reducing learning rate of group 0 to 1.0000e-05.\n",
            "Train loss in epoch 37 is 13.515703206681936\n",
            "Validation loss in epoch 37 is 13.505863748747727\n",
            " \n",
            "Epoch [38/151], Step [100/354] Loss: 13.453407230377197\n",
            "Epoch [38/151], Step [200/354] Loss: 13.468330316543579\n",
            "Epoch [38/151], Step [300/354] Loss: 13.476187868118286\n",
            "Train loss in epoch 38 is 13.49531846396667\n",
            "Validation loss in epoch 38 is 13.46830787877927\n",
            " \n",
            "Epoch [39/151], Step [100/354] Loss: 13.441351919174194\n",
            "Epoch [39/151], Step [200/354] Loss: 13.516490869522094\n",
            "Epoch [39/151], Step [300/354] Loss: 13.482611846923827\n",
            "Train loss in epoch 39 is 13.521518497143761\n",
            "Validation loss in epoch 39 is 13.519842564374551\n",
            " \n",
            "Epoch [40/151], Step [100/354] Loss: 13.47075032234192\n",
            "Epoch [40/151], Step [200/354] Loss: 13.447509994506836\n",
            "Epoch [40/151], Step [300/354] Loss: 13.469052858352661\n",
            "Train loss in epoch 40 is 13.502155004921606\n",
            "Validation loss in epoch 40 is 13.486638058191058\n",
            " \n",
            "Epoch [41/151], Step [100/354] Loss: 13.4894690990448\n",
            "Epoch [41/151], Step [200/354] Loss: 13.410281162261963\n",
            "Epoch [41/151], Step [300/354] Loss: 13.428645658493043\n",
            "Train loss in epoch 41 is 13.529627409358483\n",
            "Validation loss in epoch 41 is 13.51791909097255\n",
            " \n",
            "Epoch [42/151], Step [100/354] Loss: 13.453636264801025\n",
            "Epoch [42/151], Step [200/354] Loss: 13.428066186904907\n",
            "Epoch [42/151], Step [300/354] Loss: 13.4303196144104\n",
            "Train loss in epoch 42 is 13.50461246738326\n",
            "Validation loss in epoch 42 is 13.524102035610156\n",
            " \n",
            "Epoch [43/151], Step [100/354] Loss: 13.42110327720642\n",
            "Epoch [43/151], Step [200/354] Loss: 13.430922975540161\n",
            "Epoch [43/151], Step [300/354] Loss: 13.47475643157959\n",
            "Train loss in epoch 43 is 13.500692952150679\n",
            "Validation loss in epoch 43 is 13.486709550879468\n",
            " \n",
            "Epoch [44/151], Step [100/354] Loss: 13.413333520889282\n",
            "Epoch [44/151], Step [200/354] Loss: 13.443366155624389\n",
            "Epoch [44/151], Step [300/354] Loss: 13.502305345535278\n",
            "Epoch    44: reducing learning rate of group 0 to 1.0000e-06.\n",
            "Train loss in epoch 44 is 13.517369830675717\n",
            "Validation loss in epoch 44 is 13.491011970344632\n",
            " \n",
            "Epoch [45/151], Step [100/354] Loss: 13.467932739257812\n",
            "Epoch [45/151], Step [200/354] Loss: 13.45598593711853\n",
            "Epoch [45/151], Step [300/354] Loss: 13.409722995758056\n",
            "Train loss in epoch 45 is 13.492163736267951\n",
            "Validation loss in epoch 45 is 13.486163435311154\n",
            " \n",
            "Epoch [46/151], Step [100/354] Loss: 13.412741165161133\n",
            "Epoch [46/151], Step [200/354] Loss: 13.438384189605713\n",
            "Epoch [46/151], Step [300/354] Loss: 13.475867023468018\n",
            "Train loss in epoch 46 is 13.526087284088135\n",
            "Validation loss in epoch 46 is 13.480903461061676\n",
            " \n",
            "Epoch [47/151], Step [100/354] Loss: 13.467448463439942\n",
            "Epoch [47/151], Step [200/354] Loss: 13.427644338607788\n",
            "Epoch [47/151], Step [300/354] Loss: 13.428126974105835\n",
            "Train loss in epoch 47 is 13.512017681100275\n",
            "Validation loss in epoch 47 is 13.503708324213138\n",
            " \n",
            "Epoch [48/151], Step [100/354] Loss: 13.466449432373047\n",
            "Epoch [48/151], Step [200/354] Loss: 13.45701482772827\n",
            "Epoch [48/151], Step [300/354] Loss: 13.432125673294067\n",
            "Train loss in epoch 48 is 13.51462154873347\n",
            "Validation loss in epoch 48 is 13.508229310485138\n",
            " \n",
            "Epoch [49/151], Step [100/354] Loss: 13.442642564773559\n",
            "Epoch [49/151], Step [200/354] Loss: 13.477281847000121\n",
            "Epoch [49/151], Step [300/354] Loss: 13.448184547424317\n",
            "Train loss in epoch 49 is 13.530055816564182\n",
            "Validation loss in epoch 49 is 13.477247347776917\n",
            " \n",
            "Epoch [50/151], Step [100/354] Loss: 13.453000869750976\n",
            "Epoch [50/151], Step [200/354] Loss: 13.462199277877808\n",
            "Epoch [50/151], Step [300/354] Loss: 13.535797204971313\n",
            "Epoch    50: reducing learning rate of group 0 to 1.0000e-07.\n",
            "Train loss in epoch 50 is 13.496904410884879\n",
            "Validation loss in epoch 50 is 13.514004685412878\n",
            " \n",
            "Epoch [51/151], Step [100/354] Loss: 13.416546392440797\n",
            "Epoch [51/151], Step [200/354] Loss: 13.483446712493896\n",
            "Epoch [51/151], Step [300/354] Loss: 13.407597703933716\n",
            "Train loss in epoch 51 is 13.504902788474736\n",
            "Validation loss in epoch 51 is 13.468728821853112\n",
            " \n",
            "Epoch [52/151], Step [100/354] Loss: 13.450490369796753\n",
            "Epoch [52/151], Step [200/354] Loss: 13.41278293609619\n",
            "Epoch [52/151], Step [300/354] Loss: 13.49199559211731\n",
            "Train loss in epoch 52 is 13.525616850556627\n",
            "Validation loss in epoch 52 is 13.474538825024133\n",
            " \n",
            "Epoch [53/151], Step [100/354] Loss: 13.484411811828613\n",
            "Epoch [53/151], Step [200/354] Loss: 13.44169840812683\n",
            "Epoch [53/151], Step [300/354] Loss: 13.480447158813476\n",
            "Train loss in epoch 53 is 13.500515444804046\n",
            "Validation loss in epoch 53 is 13.51092616991065\n",
            " \n",
            "Epoch [54/151], Step [100/354] Loss: 13.471240530014038\n",
            "Epoch [54/151], Step [200/354] Loss: 13.454612064361573\n",
            "Epoch [54/151], Step [300/354] Loss: 13.457136363983155\n",
            "Train loss in epoch 54 is 13.516026868658551\n",
            "Validation loss in epoch 54 is 13.529116586707104\n",
            " \n",
            "Epoch [55/151], Step [100/354] Loss: 13.45508689880371\n",
            "Epoch [55/151], Step [200/354] Loss: 13.429948453903199\n",
            "Epoch [55/151], Step [300/354] Loss: 13.468810577392578\n",
            "Train loss in epoch 55 is 13.50214008288195\n",
            "Validation loss in epoch 55 is 13.5004575444364\n",
            " \n",
            "Epoch [56/151], Step [100/354] Loss: 13.478218851089478\n",
            "Epoch [56/151], Step [200/354] Loss: 13.50054708480835\n",
            "Epoch [56/151], Step [300/354] Loss: 13.386481342315674\n",
            "Epoch    56: reducing learning rate of group 0 to 1.0000e-08.\n",
            "Train loss in epoch 56 is 13.511655513849636\n",
            "Validation loss in epoch 56 is 13.477279125959024\n",
            " \n",
            "Epoch [57/151], Step [100/354] Loss: 13.45122057914734\n",
            "Epoch [57/151], Step [200/354] Loss: 13.478200368881225\n",
            "Epoch [57/151], Step [300/354] Loss: 13.467618379592896\n",
            "Train loss in epoch 57 is 13.512687006912662\n",
            "Validation loss in epoch 57 is 13.512969795314746\n",
            " \n",
            "Epoch [58/151], Step [100/354] Loss: 13.451187210083008\n",
            "Epoch [58/151], Step [200/354] Loss: 13.452232465744018\n",
            "Epoch [58/151], Step [300/354] Loss: 13.43288164138794\n",
            "Train loss in epoch 58 is 13.512164724748686\n",
            "Validation loss in epoch 58 is 13.485912487424653\n",
            " \n",
            "Epoch [59/151], Step [100/354] Loss: 13.508675203323364\n",
            "Epoch [59/151], Step [200/354] Loss: 13.449161701202392\n",
            "Epoch [59/151], Step [300/354] Loss: 13.459691171646119\n",
            "Train loss in epoch 59 is 13.493496385671325\n",
            "Validation loss in epoch 59 is 13.497140709011035\n",
            " \n",
            "Epoch [60/151], Step [100/354] Loss: 13.467614936828614\n",
            "Epoch [60/151], Step [200/354] Loss: 13.461911897659302\n",
            "Epoch [60/151], Step [300/354] Loss: 13.451638288497925\n",
            "Train loss in epoch 60 is 13.505037423581053\n",
            "Validation loss in epoch 60 is 13.527234395345053\n",
            " \n",
            "Epoch [61/151], Step [100/354] Loss: 13.459611043930053\n",
            "Epoch [61/151], Step [200/354] Loss: 13.449447278976441\n",
            "Epoch [61/151], Step [300/354] Loss: 13.499542455673218\n",
            "Train loss in epoch 61 is 13.503923653209277\n",
            "Validation loss in epoch 61 is 13.506835575761466\n",
            " \n",
            "Epoch [62/151], Step [100/354] Loss: 13.470970268249511\n",
            "Epoch [62/151], Step [200/354] Loss: 13.432662410736084\n",
            "Epoch [62/151], Step [300/354] Loss: 13.487066659927368\n",
            "Train loss in epoch 62 is 13.505083488205733\n",
            "Validation loss in epoch 62 is 13.531892995724732\n",
            " \n",
            "Epoch [63/151], Step [100/354] Loss: 13.446040325164795\n",
            "Epoch [63/151], Step [200/354] Loss: 13.433830404281617\n",
            "Epoch [63/151], Step [300/354] Loss: 13.519072923660278\n",
            "Train loss in epoch 63 is 13.531192585573358\n",
            "Validation loss in epoch 63 is 13.499767358275665\n",
            " \n",
            "Epoch [64/151], Step [100/354] Loss: 13.502842950820924\n",
            "Epoch [64/151], Step [200/354] Loss: 13.434869003295898\n",
            "Epoch [64/151], Step [300/354] Loss: 13.447547340393067\n",
            "Train loss in epoch 64 is 13.52624119203643\n",
            "Validation loss in epoch 64 is 13.486492562568051\n",
            " \n",
            "Epoch [65/151], Step [100/354] Loss: 13.456741075515747\n",
            "Epoch [65/151], Step [200/354] Loss: 13.431858825683594\n",
            "Epoch [65/151], Step [300/354] Loss: 13.479495735168458\n",
            "Train loss in epoch 65 is 13.545436953420692\n",
            "Validation loss in epoch 65 is 13.505239738815133\n",
            " \n",
            "Epoch [66/151], Step [100/354] Loss: 13.376639785766601\n",
            "Epoch [66/151], Step [200/354] Loss: 13.4902587890625\n",
            "Epoch [66/151], Step [300/354] Loss: 13.413309297561646\n",
            "Train loss in epoch 66 is 13.52295148978799\n",
            "Validation loss in epoch 66 is 13.51333473468649\n",
            " \n",
            "Epoch [67/151], Step [100/354] Loss: 13.44400616645813\n",
            "Epoch [67/151], Step [200/354] Loss: 13.453190698623658\n",
            "Epoch [67/151], Step [300/354] Loss: 13.44200559616089\n",
            "Train loss in epoch 67 is 13.512722548791917\n",
            "Validation loss in epoch 67 is 13.52931826142059\n",
            " \n",
            "Epoch [68/151], Step [100/354] Loss: 13.491909799575806\n",
            "Epoch [68/151], Step [200/354] Loss: 13.458297719955445\n",
            "Epoch [68/151], Step [300/354] Loss: 13.450916290283203\n",
            "Train loss in epoch 68 is 13.517546545987749\n",
            "Validation loss in epoch 68 is 13.545262380578052\n",
            " \n",
            "Epoch [69/151], Step [100/354] Loss: 13.448603258132934\n",
            "Epoch [69/151], Step [200/354] Loss: 13.507512712478638\n",
            "Epoch [69/151], Step [300/354] Loss: 13.458575010299683\n",
            "Train loss in epoch 69 is 13.511280830297093\n",
            "Validation loss in epoch 69 is 13.494196157345826\n",
            " \n",
            "Epoch [70/151], Step [100/354] Loss: 13.472900514602662\n",
            "Epoch [70/151], Step [200/354] Loss: 13.425348501205445\n",
            "Epoch [70/151], Step [300/354] Loss: 13.432136335372924\n",
            "Train loss in epoch 70 is 13.5108924100628\n",
            "Validation loss in epoch 70 is 13.536671397329746\n",
            " \n",
            "Epoch [71/151], Step [100/354] Loss: 13.501022052764892\n",
            "Epoch [71/151], Step [200/354] Loss: 13.458388710021973\n",
            "Epoch [71/151], Step [300/354] Loss: 13.439622354507446\n",
            "Train loss in epoch 71 is 13.51107435980759\n",
            "Validation loss in epoch 71 is 13.499483766226932\n",
            " \n",
            "Epoch [72/151], Step [100/354] Loss: 13.452485294342042\n",
            "Epoch [72/151], Step [200/354] Loss: 13.492732791900634\n",
            "Epoch [72/151], Step [300/354] Loss: 13.475215606689453\n",
            "Train loss in epoch 72 is 13.530838333280746\n",
            "Validation loss in epoch 72 is 13.465073125115756\n",
            " \n",
            "Epoch [73/151], Step [100/354] Loss: 13.520163898468018\n",
            "Epoch [73/151], Step [200/354] Loss: 13.45430302619934\n",
            "Epoch [73/151], Step [300/354] Loss: 13.452227649688721\n",
            "Train loss in epoch 73 is 13.52053727403199\n",
            "Validation loss in epoch 73 is 13.538537792775823\n",
            " \n",
            "Epoch [74/151], Step [100/354] Loss: 13.42274525642395\n",
            "Epoch [74/151], Step [200/354] Loss: 13.465115985870362\n",
            "Epoch [74/151], Step [300/354] Loss: 13.39979992866516\n",
            "Train loss in epoch 74 is 13.51875296824396\n",
            "Validation loss in epoch 74 is 13.508931072278955\n",
            " \n",
            "Epoch [75/151], Step [100/354] Loss: 13.445211210250854\n",
            "Epoch [75/151], Step [200/354] Loss: 13.48350438117981\n",
            "Epoch [75/151], Step [300/354] Loss: 13.485759477615357\n",
            "Train loss in epoch 75 is 13.502284039211812\n",
            "Validation loss in epoch 75 is 13.525862792442584\n",
            " \n",
            "Epoch [76/151], Step [100/354] Loss: 13.437766628265381\n",
            "Epoch [76/151], Step [200/354] Loss: 13.433607473373414\n",
            "Epoch [76/151], Step [300/354] Loss: 13.467317609786987\n",
            "Train loss in epoch 76 is 13.502590675138483\n",
            "Validation loss in epoch 76 is 13.49284488853367\n",
            " \n",
            "Epoch [77/151], Step [100/354] Loss: 13.440249824523926\n",
            "Epoch [77/151], Step [200/354] Loss: 13.42725323677063\n",
            "Epoch [77/151], Step [300/354] Loss: 13.504741735458374\n",
            "Train loss in epoch 77 is 13.519738237736588\n",
            "Validation loss in epoch 77 is 13.469916771198141\n",
            " \n",
            "Epoch [78/151], Step [100/354] Loss: 13.43334704399109\n",
            "Epoch [78/151], Step [200/354] Loss: 13.485643186569213\n",
            "Epoch [78/151], Step [300/354] Loss: 13.488601026535035\n",
            "Train loss in epoch 78 is 13.505942549409166\n",
            "Validation loss in epoch 78 is 13.517400303106198\n",
            " \n",
            "Epoch [79/151], Step [100/354] Loss: 13.401831302642822\n",
            "Epoch [79/151], Step [200/354] Loss: 13.47571208000183\n",
            "Epoch [79/151], Step [300/354] Loss: 13.464802627563477\n",
            "Train loss in epoch 79 is 13.492229130308507\n",
            "Validation loss in epoch 79 is 13.498914696704382\n",
            " \n",
            "Epoch [80/151], Step [100/354] Loss: 13.437876272201539\n",
            "Epoch [80/151], Step [200/354] Loss: 13.471814823150634\n",
            "Epoch [80/151], Step [300/354] Loss: 13.446786336898803\n",
            "Train loss in epoch 80 is 13.492291736063985\n",
            "Validation loss in epoch 80 is 13.484765392610397\n",
            " \n",
            "Epoch [81/151], Step [100/354] Loss: 13.407378520965576\n",
            "Epoch [81/151], Step [200/354] Loss: 13.491285305023194\n",
            "Epoch [81/151], Step [300/354] Loss: 13.457185926437377\n",
            "Train loss in epoch 81 is 13.486031610413459\n",
            "Validation loss in epoch 81 is 13.49378899322159\n",
            " \n",
            "Epoch [82/151], Step [100/354] Loss: 13.465694456100463\n",
            "Epoch [82/151], Step [200/354] Loss: 13.470594387054444\n",
            "Epoch [82/151], Step [300/354] Loss: 13.418063888549804\n",
            "Train loss in epoch 82 is 13.493240027777892\n",
            "Validation loss in epoch 82 is 13.504527990845428\n",
            " \n",
            "Epoch [83/151], Step [100/354] Loss: 13.476309776306152\n",
            "Epoch [83/151], Step [200/354] Loss: 13.45703956604004\n",
            "Epoch [83/151], Step [300/354] Loss: 13.448611688613891\n",
            "Train loss in epoch 83 is 13.518263776423568\n",
            "Validation loss in epoch 83 is 13.52557492530209\n",
            " \n",
            "Epoch [84/151], Step [100/354] Loss: 13.493531084060669\n",
            "Epoch [84/151], Step [200/354] Loss: 13.434722671508789\n",
            "Epoch [84/151], Step [300/354] Loss: 13.474192314147949\n",
            "Train loss in epoch 84 is 13.515401279858951\n",
            "Validation loss in epoch 84 is 13.50544398954545\n",
            " \n",
            "Epoch [85/151], Step [100/354] Loss: 13.47257544517517\n",
            "Epoch [85/151], Step [200/354] Loss: 13.473092966079712\n",
            "Epoch [85/151], Step [300/354] Loss: 13.473479766845703\n",
            "Train loss in epoch 85 is 13.50080199430218\n",
            "Validation loss in epoch 85 is 13.504015166183997\n",
            " \n",
            "Epoch [86/151], Step [100/354] Loss: 13.448538732528686\n",
            "Epoch [86/151], Step [200/354] Loss: 13.464185705184937\n",
            "Epoch [86/151], Step [300/354] Loss: 13.460278520584106\n",
            "Train loss in epoch 86 is 13.517092912210583\n",
            "Validation loss in epoch 86 is 13.498294326080673\n",
            " \n",
            "Epoch [87/151], Step [100/354] Loss: 13.45734914779663\n",
            "Epoch [87/151], Step [200/354] Loss: 13.48545262336731\n",
            "Epoch [87/151], Step [300/354] Loss: 13.472393426895142\n",
            "Train loss in epoch 87 is 13.522646397520594\n",
            "Validation loss in epoch 87 is 13.47725100900935\n",
            " \n",
            "Epoch [88/151], Step [100/354] Loss: 13.490402336120605\n",
            "Epoch [88/151], Step [200/354] Loss: 13.445640087127686\n",
            "Epoch [88/151], Step [300/354] Loss: 13.421273212432862\n",
            "Train loss in epoch 88 is 13.51735523730348\n",
            "Validation loss in epoch 88 is 13.51600421160117\n",
            " \n",
            "Epoch [89/151], Step [100/354] Loss: 13.444197673797607\n",
            "Epoch [89/151], Step [200/354] Loss: 13.4967098903656\n",
            "Epoch [89/151], Step [300/354] Loss: 13.45476393699646\n",
            "Train loss in epoch 89 is 13.50314208477904\n",
            "Validation loss in epoch 89 is 13.526583441372576\n",
            " \n",
            "Epoch [90/151], Step [100/354] Loss: 13.428274545669556\n",
            "Epoch [90/151], Step [200/354] Loss: 13.475960903167724\n",
            "Epoch [90/151], Step [300/354] Loss: 13.499083623886108\n",
            "Train loss in epoch 90 is 13.525051044205489\n",
            "Validation loss in epoch 90 is 13.508284053583255\n",
            " \n",
            "Epoch [91/151], Step [100/354] Loss: 13.44466149330139\n",
            "Epoch [91/151], Step [200/354] Loss: 13.479375562667848\n",
            "Epoch [91/151], Step [300/354] Loss: 13.435791692733766\n",
            "Train loss in epoch 91 is 13.51850828343192\n",
            "Validation loss in epoch 91 is 13.478891186330511\n",
            " \n",
            "Epoch [92/151], Step [100/354] Loss: 13.466786623001099\n",
            "Epoch [92/151], Step [200/354] Loss: 13.473601016998291\n",
            "Epoch [92/151], Step [300/354] Loss: 13.44590449333191\n",
            "Train loss in epoch 92 is 13.509728674161233\n",
            "Validation loss in epoch 92 is 13.471401960000225\n",
            " \n",
            "Epoch [93/151], Step [100/354] Loss: 13.50317437171936\n",
            "Epoch [93/151], Step [200/354] Loss: 13.4390034866333\n",
            "Epoch [93/151], Step [300/354] Loss: 13.464854602813721\n",
            "Train loss in epoch 93 is 13.522710062016202\n",
            "Validation loss in epoch 93 is 13.508248175697766\n",
            " \n",
            "Epoch [94/151], Step [100/354] Loss: 13.45198314666748\n",
            "Epoch [94/151], Step [200/354] Loss: 13.485770664215089\n",
            "Epoch [94/151], Step [300/354] Loss: 13.491287059783936\n",
            "Train loss in epoch 94 is 13.50115137585139\n",
            "Validation loss in epoch 94 is 13.506110103651025\n",
            " \n",
            "Epoch [95/151], Step [100/354] Loss: 13.38844895362854\n",
            "Epoch [95/151], Step [200/354] Loss: 13.456587038040162\n",
            "Epoch [95/151], Step [300/354] Loss: 13.459696435928345\n",
            "Train loss in epoch 95 is 13.502720768168821\n",
            "Validation loss in epoch 95 is 13.480713888146411\n",
            " \n",
            "Epoch [96/151], Step [100/354] Loss: 13.482484273910522\n",
            "Epoch [96/151], Step [200/354] Loss: 13.43205948829651\n",
            "Epoch [96/151], Step [300/354] Loss: 13.47151291847229\n",
            "Train loss in epoch 96 is 13.50676602024143\n",
            "Validation loss in epoch 96 is 13.526955122235178\n",
            " \n",
            "Epoch [97/151], Step [100/354] Loss: 13.455306434631348\n",
            "Epoch [97/151], Step [200/354] Loss: 13.457657108306885\n",
            "Epoch [97/151], Step [300/354] Loss: 13.494694366455079\n",
            "Train loss in epoch 97 is 13.528492318708345\n",
            "Validation loss in epoch 97 is 13.50432379492398\n",
            " \n",
            "Epoch [98/151], Step [100/354] Loss: 13.432433519363403\n",
            "Epoch [98/151], Step [200/354] Loss: 13.466554861068726\n",
            "Epoch [98/151], Step [300/354] Loss: 13.529320974349975\n",
            "Train loss in epoch 98 is 13.512148450323417\n",
            "Validation loss in epoch 98 is 13.474301228578064\n",
            " \n",
            "Epoch [99/151], Step [100/354] Loss: 13.488428688049316\n",
            "Epoch [99/151], Step [200/354] Loss: 13.439560146331788\n",
            "Epoch [99/151], Step [300/354] Loss: 13.484208345413208\n",
            "Train loss in epoch 99 is 13.513395659667625\n",
            "Validation loss in epoch 99 is 13.491193595973925\n",
            " \n",
            "Epoch [100/151], Step [100/354] Loss: 13.456328220367432\n",
            "Epoch [100/151], Step [200/354] Loss: 13.465137825012206\n",
            "Epoch [100/151], Step [300/354] Loss: 13.428430004119873\n",
            "Train loss in epoch 100 is 13.511372660512977\n",
            "Validation loss in epoch 100 is 13.500339529980188\n",
            " \n",
            "Epoch [101/151], Step [100/354] Loss: 13.46491286277771\n",
            "Epoch [101/151], Step [200/354] Loss: 13.477946577072144\n",
            "Epoch [101/151], Step [300/354] Loss: 13.471757440567016\n",
            "Train loss in epoch 101 is 13.508624674910205\n",
            "Validation loss in epoch 101 is 13.519587867561428\n",
            " \n",
            "Epoch [102/151], Step [100/354] Loss: 13.419778699874877\n",
            "Epoch [102/151], Step [200/354] Loss: 13.486599493026734\n",
            "Epoch [102/151], Step [300/354] Loss: 13.482492904663086\n",
            "Train loss in epoch 102 is 13.50950654078338\n",
            "Validation loss in epoch 102 is 13.463586105697457\n",
            " \n",
            "Epoch [103/151], Step [100/354] Loss: 13.445791034698486\n",
            "Epoch [103/151], Step [200/354] Loss: 13.461047630310059\n",
            "Epoch [103/151], Step [300/354] Loss: 13.461337509155273\n",
            "Train loss in epoch 103 is 13.517494533021571\n",
            "Validation loss in epoch 103 is 13.56983736191673\n",
            " \n",
            "Epoch [104/151], Step [100/354] Loss: 13.421999034881592\n",
            "Epoch [104/151], Step [200/354] Loss: 13.522933473587036\n",
            "Epoch [104/151], Step [300/354] Loss: 13.40407088279724\n",
            "Train loss in epoch 104 is 13.517639469965703\n",
            "Validation loss in epoch 104 is 13.53300456343026\n",
            " \n",
            "Epoch [105/151], Step [100/354] Loss: 13.469074068069459\n",
            "Epoch [105/151], Step [200/354] Loss: 13.467588415145874\n",
            "Epoch [105/151], Step [300/354] Loss: 13.433614091873169\n",
            "Train loss in epoch 105 is 13.504334059138756\n",
            "Validation loss in epoch 105 is 13.48355673647475\n",
            " \n",
            "Epoch [106/151], Step [100/354] Loss: 13.423374099731445\n",
            "Epoch [106/151], Step [200/354] Loss: 13.505687799453735\n",
            "Epoch [106/151], Step [300/354] Loss: 13.419932556152343\n",
            "Train loss in epoch 106 is 13.513031687440172\n",
            "Validation loss in epoch 106 is 13.512309194981366\n",
            " \n",
            "Epoch [107/151], Step [100/354] Loss: 13.495851211547851\n",
            "Epoch [107/151], Step [200/354] Loss: 13.44041600227356\n",
            "Epoch [107/151], Step [300/354] Loss: 13.465778846740722\n",
            "Train loss in epoch 107 is 13.493456032316564\n",
            "Validation loss in epoch 107 is 13.487506680104925\n",
            " \n",
            "Epoch [108/151], Step [100/354] Loss: 13.46225209236145\n",
            "Epoch [108/151], Step [200/354] Loss: 13.45400011062622\n",
            "Epoch [108/151], Step [300/354] Loss: 13.407519636154175\n",
            "Train loss in epoch 108 is 13.51804720883989\n",
            "Validation loss in epoch 108 is 13.503236463700217\n",
            " \n",
            "Epoch [109/151], Step [100/354] Loss: 13.474105615615844\n",
            "Epoch [109/151], Step [200/354] Loss: 13.462018022537231\n",
            "Epoch [109/151], Step [300/354] Loss: 13.440817317962647\n",
            "Train loss in epoch 109 is 13.513796186716544\n",
            "Validation loss in epoch 109 is 13.507390614213614\n",
            " \n",
            "Epoch [110/151], Step [100/354] Loss: 13.424721240997314\n",
            "Epoch [110/151], Step [200/354] Loss: 13.48516432762146\n",
            "Epoch [110/151], Step [300/354] Loss: 13.43400037765503\n",
            "Train loss in epoch 110 is 13.517597570257673\n",
            "Validation loss in epoch 110 is 13.49799431329486\n",
            " \n",
            "Epoch [111/151], Step [100/354] Loss: 13.517546701431275\n",
            "Epoch [111/151], Step [200/354] Loss: 13.443161611557008\n",
            "Epoch [111/151], Step [300/354] Loss: 13.436054944992065\n",
            "Train loss in epoch 111 is 13.525095810324459\n",
            "Validation loss in epoch 111 is 13.512690544128418\n",
            " \n",
            "Epoch [112/151], Step [100/354] Loss: 13.481041831970215\n",
            "Epoch [112/151], Step [200/354] Loss: 13.473548164367676\n",
            "Epoch [112/151], Step [300/354] Loss: 13.422491760253907\n",
            "Train loss in epoch 112 is 13.505341360124492\n",
            "Validation loss in epoch 112 is 13.492461248375903\n",
            " \n",
            "Epoch [113/151], Step [100/354] Loss: 13.447064743041992\n",
            "Epoch [113/151], Step [200/354] Loss: 13.411445684432984\n",
            "Epoch [113/151], Step [300/354] Loss: 13.478367671966552\n",
            "Train loss in epoch 113 is 13.514970563899325\n",
            "Validation loss in epoch 113 is 13.505132412088328\n",
            " \n",
            "Epoch [114/151], Step [100/354] Loss: 13.485486297607421\n",
            "Epoch [114/151], Step [200/354] Loss: 13.480364980697631\n",
            "Epoch [114/151], Step [300/354] Loss: 13.383232984542847\n",
            "Train loss in epoch 114 is 13.507328079245184\n",
            "Validation loss in epoch 114 is 13.516620975801315\n",
            " \n",
            "Epoch [115/151], Step [100/354] Loss: 13.5068731880188\n",
            "Epoch [115/151], Step [200/354] Loss: 13.412332363128662\n",
            "Epoch [115/151], Step [300/354] Loss: 13.445859384536742\n",
            "Train loss in epoch 115 is 13.506835983297918\n",
            "Validation loss in epoch 115 is 13.496329866606613\n",
            " \n",
            "Epoch [116/151], Step [100/354] Loss: 13.439825677871704\n",
            "Epoch [116/151], Step [200/354] Loss: 13.416729106903077\n",
            "Epoch [116/151], Step [300/354] Loss: 13.524844732284546\n",
            "Train loss in epoch 116 is 13.516742867938543\n",
            "Validation loss in epoch 116 is 13.490131268556091\n",
            " \n",
            "Epoch [117/151], Step [100/354] Loss: 13.477410583496093\n",
            "Epoch [117/151], Step [200/354] Loss: 13.451614437103272\n",
            "Epoch [117/151], Step [300/354] Loss: 13.487211647033691\n",
            "Train loss in epoch 117 is 13.510019512499793\n",
            "Validation loss in epoch 117 is 13.502568113392797\n",
            " \n",
            "Epoch [118/151], Step [100/354] Loss: 13.464731740951539\n",
            "Epoch [118/151], Step [200/354] Loss: 13.446519756317139\n",
            "Epoch [118/151], Step [300/354] Loss: 13.418295412063598\n",
            "Train loss in epoch 118 is 13.497739290787003\n",
            "Validation loss in epoch 118 is 13.51015932806607\n",
            " \n",
            "Epoch [119/151], Step [100/354] Loss: 13.462358818054199\n",
            "Epoch [119/151], Step [200/354] Loss: 13.482935934066772\n",
            "Epoch [119/151], Step [300/354] Loss: 13.4353164768219\n",
            "Train loss in epoch 119 is 13.52637723610226\n",
            "Validation loss in epoch 119 is 13.526600355389474\n",
            " \n",
            "Epoch [120/151], Step [100/354] Loss: 13.444577083587646\n",
            "Epoch [120/151], Step [200/354] Loss: 13.466364040374756\n",
            "Epoch [120/151], Step [300/354] Loss: 13.453697805404664\n",
            "Train loss in epoch 120 is 13.500257376223635\n",
            "Validation loss in epoch 120 is 13.531726376763705\n",
            " \n",
            "Epoch [121/151], Step [100/354] Loss: 13.469781227111817\n",
            "Epoch [121/151], Step [200/354] Loss: 13.43498143196106\n",
            "Epoch [121/151], Step [300/354] Loss: 13.486957721710205\n",
            "Train loss in epoch 121 is 13.517165184020996\n",
            "Validation loss in epoch 121 is 13.461952691790701\n",
            " \n",
            "Epoch [122/151], Step [100/354] Loss: 13.475031328201293\n",
            "Epoch [122/151], Step [200/354] Loss: 13.479789342880249\n",
            "Epoch [122/151], Step [300/354] Loss: 13.444783458709717\n",
            "Train loss in epoch 122 is 13.522746864685232\n",
            "Validation loss in epoch 122 is 13.470641399252004\n",
            " \n",
            "Epoch [123/151], Step [100/354] Loss: 13.45176827430725\n",
            "Epoch [123/151], Step [200/354] Loss: 13.451068239212036\n",
            "Epoch [123/151], Step [300/354] Loss: 13.463276290893555\n",
            "Train loss in epoch 123 is 13.519363508386126\n",
            "Validation loss in epoch 123 is 13.502693187231305\n",
            " \n",
            "Epoch [124/151], Step [100/354] Loss: 13.445481157302856\n",
            "Epoch [124/151], Step [200/354] Loss: 13.484474706649781\n",
            "Epoch [124/151], Step [300/354] Loss: 13.483039455413818\n",
            "Train loss in epoch 124 is 13.511776231776523\n",
            "Validation loss in epoch 124 is 13.473851346421515\n",
            " \n",
            "Epoch [125/151], Step [100/354] Loss: 13.441587877273559\n",
            "Epoch [125/151], Step [200/354] Loss: 13.50398380279541\n",
            "Epoch [125/151], Step [300/354] Loss: 13.457393302917481\n",
            "Train loss in epoch 125 is 13.514958061067398\n",
            "Validation loss in epoch 125 is 13.503455348398493\n",
            " \n",
            "Epoch [126/151], Step [100/354] Loss: 13.413534927368165\n",
            "Epoch [126/151], Step [200/354] Loss: 13.430408811569214\n",
            "Epoch [126/151], Step [300/354] Loss: 13.481965045928956\n",
            "Train loss in epoch 126 is 13.508497714996338\n",
            "Validation loss in epoch 126 is 13.511955546236587\n",
            " \n",
            "Epoch [127/151], Step [100/354] Loss: 13.473795833587646\n",
            "Epoch [127/151], Step [200/354] Loss: 13.465915746688843\n",
            "Epoch [127/151], Step [300/354] Loss: 13.431983032226562\n",
            "Train loss in epoch 127 is 13.503432613308147\n",
            "Validation loss in epoch 127 is 13.55372043039607\n",
            " \n",
            "Epoch [128/151], Step [100/354] Loss: 13.48347635269165\n",
            "Epoch [128/151], Step [200/354] Loss: 13.450153923034668\n",
            "Epoch [128/151], Step [300/354] Loss: 13.425012874603272\n",
            "Train loss in epoch 128 is 13.51690159544433\n",
            "Validation loss in epoch 128 is 13.487705482833688\n",
            " \n",
            "Epoch [129/151], Step [100/354] Loss: 13.4497647190094\n",
            "Epoch [129/151], Step [200/354] Loss: 13.461139812469483\n",
            "Epoch [129/151], Step [300/354] Loss: 13.433410501480102\n",
            "Train loss in epoch 129 is 13.505906635758567\n",
            "Validation loss in epoch 129 is 13.51361311989269\n",
            " \n",
            "Epoch [130/151], Step [100/354] Loss: 13.482621946334838\n",
            "Epoch [130/151], Step [200/354] Loss: 13.426062469482423\n",
            "Epoch [130/151], Step [300/354] Loss: 13.440041484832763\n",
            "Train loss in epoch 130 is 13.507413985365528\n",
            "Validation loss in epoch 130 is 13.542858956874102\n",
            " \n",
            "Epoch [131/151], Step [100/354] Loss: 13.480169706344604\n",
            "Epoch [131/151], Step [200/354] Loss: 13.426860666275024\n",
            "Epoch [131/151], Step [300/354] Loss: 13.477508020401\n",
            "Train loss in epoch 131 is 13.511544952284819\n",
            "Validation loss in epoch 131 is 13.49643918837624\n",
            " \n",
            "Epoch [132/151], Step [100/354] Loss: 13.517997484207154\n",
            "Epoch [132/151], Step [200/354] Loss: 13.43745530128479\n",
            "Epoch [132/151], Step [300/354] Loss: 13.425969972610474\n",
            "Train loss in epoch 132 is 13.526164736451403\n",
            "Validation loss in epoch 132 is 13.47833085334164\n",
            " \n",
            "Epoch [133/151], Step [100/354] Loss: 13.443763523101806\n",
            "Epoch [133/151], Step [200/354] Loss: 13.474238891601562\n",
            "Epoch [133/151], Step [300/354] Loss: 13.50422432899475\n",
            "Train loss in epoch 133 is 13.50839548057082\n",
            "Validation loss in epoch 133 is 13.481030310707531\n",
            " \n",
            "Epoch [134/151], Step [100/354] Loss: 13.459791870117188\n",
            "Epoch [134/151], Step [200/354] Loss: 13.454199104309081\n",
            "Epoch [134/151], Step [300/354] Loss: 13.489959163665771\n",
            "Train loss in epoch 134 is 13.507905036042638\n",
            "Validation loss in epoch 134 is 13.499510337566507\n",
            " \n",
            "Epoch [135/151], Step [100/354] Loss: 13.480206136703492\n",
            "Epoch [135/151], Step [200/354] Loss: 13.461874885559082\n",
            "Epoch [135/151], Step [300/354] Loss: 13.471034030914307\n",
            "Train loss in epoch 135 is 13.50319186981115\n",
            "Validation loss in epoch 135 is 13.50048840182951\n",
            " \n",
            "Epoch [136/151], Step [100/354] Loss: 13.458552389144897\n",
            "Epoch [136/151], Step [200/354] Loss: 13.504447441101075\n",
            "Epoch [136/151], Step [300/354] Loss: 13.46550838470459\n",
            "Train loss in epoch 136 is 13.498695661792647\n",
            "Validation loss in epoch 136 is 13.495571750333939\n",
            " \n",
            "Epoch [137/151], Step [100/354] Loss: 13.45761960029602\n",
            "Epoch [137/151], Step [200/354] Loss: 13.447892150878907\n",
            "Epoch [137/151], Step [300/354] Loss: 13.411349534988403\n",
            "Train loss in epoch 137 is 13.497458250509144\n",
            "Validation loss in epoch 137 is 13.498731032185171\n",
            " \n",
            "Epoch [138/151], Step [100/354] Loss: 13.398137378692628\n",
            "Epoch [138/151], Step [200/354] Loss: 13.494564123153687\n",
            "Epoch [138/151], Step [300/354] Loss: 13.515530557632447\n",
            "Train loss in epoch 138 is 13.500788303418348\n",
            "Validation loss in epoch 138 is 13.45983609385874\n",
            " \n",
            "Epoch [139/151], Step [100/354] Loss: 13.452720346450805\n",
            "Epoch [139/151], Step [200/354] Loss: 13.435510511398315\n",
            "Epoch [139/151], Step [300/354] Loss: 13.462497053146363\n",
            "Train loss in epoch 139 is 13.528178872361694\n",
            "Validation loss in epoch 139 is 13.51119020615501\n",
            " \n",
            "Epoch [140/151], Step [100/354] Loss: 13.466118803024292\n",
            "Epoch [140/151], Step [200/354] Loss: 13.451462612152099\n",
            "Epoch [140/151], Step [300/354] Loss: 13.527075986862183\n",
            "Train loss in epoch 140 is 13.519545827208265\n",
            "Validation loss in epoch 140 is 13.516527438985891\n",
            " \n",
            "Epoch [141/151], Step [100/354] Loss: 13.466361284255981\n",
            "Epoch [141/151], Step [200/354] Loss: 13.449113416671754\n",
            "Epoch [141/151], Step [300/354] Loss: 13.475471630096436\n",
            "Train loss in epoch 141 is 13.512830095776057\n",
            "Validation loss in epoch 141 is 13.488371213277182\n",
            " \n",
            "Epoch [142/151], Step [100/354] Loss: 13.483660383224487\n",
            "Epoch [142/151], Step [200/354] Loss: 13.471393022537232\n",
            "Epoch [142/151], Step [300/354] Loss: 13.45825629234314\n",
            "Train loss in epoch 142 is 13.499749347988494\n",
            "Validation loss in epoch 142 is 13.506474385316345\n",
            " \n",
            "Epoch [143/151], Step [100/354] Loss: 13.42435712814331\n",
            "Epoch [143/151], Step [200/354] Loss: 13.466980695724487\n",
            "Epoch [143/151], Step [300/354] Loss: 13.486370649337768\n",
            "Train loss in epoch 143 is 13.52155146625756\n",
            "Validation loss in epoch 143 is 13.551931052372373\n",
            " \n",
            "Epoch [144/151], Step [100/354] Loss: 13.471922092437744\n",
            "Epoch [144/151], Step [200/354] Loss: 13.442961339950562\n",
            "Epoch [144/151], Step [300/354] Loss: 13.484736051559448\n",
            "Train loss in epoch 144 is 13.495553374963965\n",
            "Validation loss in epoch 144 is 13.49479661042663\n",
            " \n",
            "Epoch [145/151], Step [100/354] Loss: 13.46701361656189\n",
            "Epoch [145/151], Step [200/354] Loss: 13.499630804061889\n",
            "Epoch [145/151], Step [300/354] Loss: 13.45682240486145\n",
            "Train loss in epoch 145 is 13.525966493423375\n",
            "Validation loss in epoch 145 is 13.47484153440629\n",
            " \n",
            "Epoch [146/151], Step [100/354] Loss: 13.470334777832031\n",
            "Epoch [146/151], Step [200/354] Loss: 13.484025678634644\n",
            "Epoch [146/151], Step [300/354] Loss: 13.438838577270507\n",
            "Train loss in epoch 146 is 13.494204122467902\n",
            "Validation loss in epoch 146 is 13.475393700873715\n",
            " \n",
            "Epoch [147/151], Step [100/354] Loss: 13.462483501434326\n",
            "Epoch [147/151], Step [200/354] Loss: 13.465657501220702\n",
            "Epoch [147/151], Step [300/354] Loss: 13.440602197647095\n",
            "Train loss in epoch 147 is 13.50519174909861\n",
            "Validation loss in epoch 147 is 13.523404417366818\n",
            " \n",
            "Epoch [148/151], Step [100/354] Loss: 13.491617460250854\n",
            "Epoch [148/151], Step [200/354] Loss: 13.454979791641236\n",
            "Epoch [148/151], Step [300/354] Loss: 13.460828084945678\n",
            "Train loss in epoch 148 is 13.513426866908532\n",
            "Validation loss in epoch 148 is 13.506637825362985\n",
            " \n",
            "Epoch [149/151], Step [100/354] Loss: 13.459534215927125\n",
            "Epoch [149/151], Step [200/354] Loss: 13.445022449493408\n",
            "Epoch [149/151], Step [300/354] Loss: 13.475042762756347\n",
            "Train loss in epoch 149 is 13.536968578726558\n",
            "Validation loss in epoch 149 is 13.453519185384115\n",
            " \n",
            "Epoch [150/151], Step [100/354] Loss: 13.438680896759033\n",
            "Epoch [150/151], Step [200/354] Loss: 13.454378519058228\n",
            "Epoch [150/151], Step [300/354] Loss: 13.456925773620606\n",
            "Train loss in epoch 150 is 13.511163062294997\n",
            "Validation loss in epoch 150 is 13.488401676046438\n",
            " \n",
            "Epoch [151/151], Step [100/354] Loss: 13.404486255645752\n",
            "Epoch [151/151], Step [200/354] Loss: 13.46111876487732\n",
            "Epoch [151/151], Step [300/354] Loss: 13.530863323211669\n",
            "Train loss in epoch 151 is 13.502873299485547\n",
            "Validation loss in epoch 151 is 13.501282406949448\n",
            " \n"
          ],
          "name": "stdout"
        }
      ]
    },
    {
      "cell_type": "code",
      "metadata": {
        "id": "12gFOXqIWErf",
        "colab_type": "code",
        "colab": {}
      },
      "source": [
        "torch.save(model.state_dict(), '/content/gdrive/My Drive/Machine Learning/Kaggle/Facial Key Points Detection/weights_2.pkl') "
      ],
      "execution_count": null,
      "outputs": []
    },
    {
      "cell_type": "markdown",
      "metadata": {
        "id": "GRWbTQmhoP5u",
        "colab_type": "text"
      },
      "source": [
        "#Testing "
      ]
    },
    {
      "cell_type": "markdown",
      "metadata": {
        "id": "HYM4QP7fohgH",
        "colab_type": "text"
      },
      "source": [
        "Lets look at the testing data"
      ]
    },
    {
      "cell_type": "code",
      "metadata": {
        "id": "CXTnlPMbokNA",
        "colab_type": "code",
        "colab": {
          "base_uri": "https://localhost:8080/",
          "height": 202
        },
        "outputId": "53fcdad3-15f5-4e48-8b67-526c2163a3b5"
      },
      "source": [
        "test_csv.head()"
      ],
      "execution_count": null,
      "outputs": [
        {
          "output_type": "execute_result",
          "data": {
            "text/html": [
              "<div>\n",
              "<style scoped>\n",
              "    .dataframe tbody tr th:only-of-type {\n",
              "        vertical-align: middle;\n",
              "    }\n",
              "\n",
              "    .dataframe tbody tr th {\n",
              "        vertical-align: top;\n",
              "    }\n",
              "\n",
              "    .dataframe thead th {\n",
              "        text-align: right;\n",
              "    }\n",
              "</style>\n",
              "<table border=\"1\" class=\"dataframe\">\n",
              "  <thead>\n",
              "    <tr style=\"text-align: right;\">\n",
              "      <th></th>\n",
              "      <th>ImageId</th>\n",
              "      <th>Image</th>\n",
              "    </tr>\n",
              "  </thead>\n",
              "  <tbody>\n",
              "    <tr>\n",
              "      <th>0</th>\n",
              "      <td>1</td>\n",
              "      <td>182 183 182 182 180 180 176 169 156 137 124 10...</td>\n",
              "    </tr>\n",
              "    <tr>\n",
              "      <th>1</th>\n",
              "      <td>2</td>\n",
              "      <td>76 87 81 72 65 59 64 76 69 42 31 38 49 58 58 4...</td>\n",
              "    </tr>\n",
              "    <tr>\n",
              "      <th>2</th>\n",
              "      <td>3</td>\n",
              "      <td>177 176 174 170 169 169 168 166 166 166 161 14...</td>\n",
              "    </tr>\n",
              "    <tr>\n",
              "      <th>3</th>\n",
              "      <td>4</td>\n",
              "      <td>176 174 174 175 174 174 176 176 175 171 165 15...</td>\n",
              "    </tr>\n",
              "    <tr>\n",
              "      <th>4</th>\n",
              "      <td>5</td>\n",
              "      <td>50 47 44 101 144 149 120 58 48 42 35 35 37 39 ...</td>\n",
              "    </tr>\n",
              "  </tbody>\n",
              "</table>\n",
              "</div>"
            ],
            "text/plain": [
              "   ImageId                                              Image\n",
              "0        1  182 183 182 182 180 180 176 169 156 137 124 10...\n",
              "1        2  76 87 81 72 65 59 64 76 69 42 31 38 49 58 58 4...\n",
              "2        3  177 176 174 170 169 169 168 166 166 166 161 14...\n",
              "3        4  176 174 174 175 174 174 176 176 175 171 165 15...\n",
              "4        5  50 47 44 101 144 149 120 58 48 42 35 35 37 39 ..."
            ]
          },
          "metadata": {
            "tags": []
          },
          "execution_count": 42
        }
      ]
    },
    {
      "cell_type": "code",
      "metadata": {
        "id": "0QGSnjF9oRyj",
        "colab_type": "code",
        "colab": {}
      },
      "source": [
        "test_loader= DataLoader(test_dataset, batch_size= 512, shuffle=True, num_workers=16) "
      ],
      "execution_count": null,
      "outputs": []
    },
    {
      "cell_type": "code",
      "metadata": {
        "id": "Li1gkER3Emp3",
        "colab_type": "code",
        "colab": {}
      },
      "source": [
        "with torch.no_grad():\n",
        "  Y_preds=list()\n",
        "  for x in test_loader:\n",
        "    x=x=x.to(device=device, dtype=torch.float)\n",
        "    y_pred=model(x).to(device=\"cpu\")\n",
        "    Y_preds.append(y_pred)\n",
        "    \n",
        "  Y= torch.cat(Y_preds, dim=0).tolist()\n",
        "  \n",
        "  "
      ],
      "execution_count": null,
      "outputs": []
    },
    {
      "cell_type": "code",
      "metadata": {
        "id": "jPmhHHjqXoy4",
        "colab_type": "code",
        "colab": {}
      },
      "source": [
        "lookid_list = list(IdLookupTable_csv['FeatureName'])\n",
        "imageID = list(IdLookupTable_csv['ImageId']-1)\n",
        "pre_list = list(Y)"
      ],
      "execution_count": null,
      "outputs": []
    },
    {
      "cell_type": "code",
      "metadata": {
        "id": "6uVVv_J9aBSa",
        "colab_type": "code",
        "colab": {}
      },
      "source": [
        "rowid = IdLookupTable_csv['RowId']\n",
        "rowid=list(rowid)"
      ],
      "execution_count": null,
      "outputs": []
    },
    {
      "cell_type": "code",
      "metadata": {
        "id": "kEcwR1cdaOl0",
        "colab_type": "code",
        "colab": {}
      },
      "source": [
        "feature = []\n",
        "for f in list(IdLookupTable_csv['FeatureName']):\n",
        "    feature.append(lookid_list.index(f))"
      ],
      "execution_count": null,
      "outputs": []
    },
    {
      "cell_type": "code",
      "metadata": {
        "id": "HGV1v7QHap6C",
        "colab_type": "code",
        "colab": {}
      },
      "source": [
        "preded = []\n",
        "for x,y in zip(imageID,feature):\n",
        "    preded.append(pre_list[x][y])"
      ],
      "execution_count": null,
      "outputs": []
    },
    {
      "cell_type": "code",
      "metadata": {
        "id": "pz_7N8iQbGEl",
        "colab_type": "code",
        "colab": {}
      },
      "source": [
        "rowid = pd.Series(rowid,name = 'RowId')"
      ],
      "execution_count": null,
      "outputs": []
    },
    {
      "cell_type": "code",
      "metadata": {
        "id": "1KTRxG2_bJYZ",
        "colab_type": "code",
        "colab": {}
      },
      "source": [
        "loc = pd.Series(preded,name = 'Location')"
      ],
      "execution_count": null,
      "outputs": []
    },
    {
      "cell_type": "code",
      "metadata": {
        "id": "GntgJLqSbL5i",
        "colab_type": "code",
        "colab": {}
      },
      "source": [
        "submission = pd.concat([rowid,loc],axis = 1)"
      ],
      "execution_count": null,
      "outputs": []
    },
    {
      "cell_type": "code",
      "metadata": {
        "id": "1RjAewTFf8av",
        "colab_type": "code",
        "colab": {}
      },
      "source": [
        "submission.to_csv('face_key_detection_submission.csv', index = False)\n"
      ],
      "execution_count": null,
      "outputs": []
    }
  ]
}