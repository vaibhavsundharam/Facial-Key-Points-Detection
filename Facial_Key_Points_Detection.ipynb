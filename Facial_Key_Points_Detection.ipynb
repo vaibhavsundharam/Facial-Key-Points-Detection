{
  "nbformat": 4,
  "nbformat_minor": 0,
  "metadata": {
    "colab": {
      "name": "Facial Key Points Detection.ipynb",
      "provenance": [],
      "machine_shape": "hm",
      "authorship_tag": "ABX9TyPew/+sBFnUSAEcCHCOhfbe",
      "include_colab_link": true
    },
    "kernelspec": {
      "name": "python3",
      "display_name": "Python 3"
    },
    "accelerator": "GPU"
  },
  "cells": [
    {
      "cell_type": "markdown",
      "metadata": {
        "id": "view-in-github",
        "colab_type": "text"
      },
      "source": [
        "<a href=\"https://colab.research.google.com/github/vaibhavsundharam/Facial-Key-Points-Detection/blob/master/Facial_Key_Points_Detection.ipynb\" target=\"_parent\"><img src=\"https://colab.research.google.com/assets/colab-badge.svg\" alt=\"Open In Colab\"/></a>"
      ]
    },
    {
      "cell_type": "markdown",
      "metadata": {
        "id": "cNWcZ67MDTga",
        "colab_type": "text"
      },
      "source": [
        "#Facial Key Point Detection \n",
        "\n",
        "The objective of this task is to predict keypoint positions on face images. This can be used as a building block in several applications, such as:\n",
        "\n",
        "\n",
        "\n",
        "\n",
        "*   tracking faces in images and video  \n",
        "*   analysing facial expressions\n",
        "*   detecting dysmorphic facial signs for medical diagnosis\n",
        "*   biometrics / face recognition\n",
        "\n",
        "\n",
        "\n",
        "\n",
        "\n",
        "\n",
        "\n",
        "\n",
        "Detecing facial keypoints is a very challenging problem.  Facial features  ary greatly from one individual to another, and even for a single individual,  here is a large amount of variation due to 3D pose, size, position, viewing angle, and illumination conditions. Computer vision research has come a long way in addressing these difficulties, but there remain many opportunities for improvement.\n",
        "\n",
        "Acknowledgements:\n",
        "The data set for this competition was graciously provided by Dr. Yoshua Bengio of the University of Montreal. James Petterson."
      ]
    },
    {
      "cell_type": "markdown",
      "metadata": {
        "id": "RT_ajy7zEB6T",
        "colab_type": "text"
      },
      "source": [
        "#Data\n",
        "\n",
        "Each predicted keypoint is specified by an (x,y) real-valued pair in the space of pixel indices. There are 15 keypoints, which represent the following elements of the face:\n",
        "\n",
        "left_eye_center, right_eye_center, left_eye_inner_corner, left_eye_outer_corner, right_eye_inner_corner, right_eye_outer_corner, left_eyebrow_inner_end, left_eyebrow_outer_end, right_eyebrow_inner_end, right_eyebrow_outer_end, nose_tip, mouth_left_corner, mouth_right_corner, mouth_center_top_lip, mouth_center_bottom_lip\n",
        "\n",
        "Left and right here refers to the point of view of the subject.\n",
        "\n",
        "In some examples, some of the target keypoint positions are misssing (encoded as missing entries in the csv, i.e., with nothing between two commas).\n",
        "\n",
        "The input image is given in the last field of the data files, and consists of a list of pixels (ordered by row), as integers in (0,255). The images are 96x96 pixels.\n",
        "\n",
        "Data Files: kaggle competitions download -c facial-keypoints-detection\n",
        "\n",
        "\n",
        "*   training.csv: list of training 7049 images. Each row contains the (x,y) coordinates for 15 keypoints, and image data as row-ordered list of pixels.\n",
        "*   test.csv: list of 1783 test images. Each row contains ImageId and image data as row-ordered list of pixels\n",
        "\n"
      ]
    },
    {
      "cell_type": "code",
      "metadata": {
        "id": "w0O-z72HFCfF",
        "colab_type": "code",
        "colab": {
          "base_uri": "https://localhost:8080/",
          "height": 35
        },
        "outputId": "134f18a8-0341-408e-b743-3f459856864b"
      },
      "source": [
        "# Mounting drive\n",
        "from google.colab import drive\n",
        "drive.mount('/content/gdrive/')"
      ],
      "execution_count": 1,
      "outputs": [
        {
          "output_type": "stream",
          "text": [
            "Drive already mounted at /content/gdrive/; to attempt to forcibly remount, call drive.mount(\"/content/gdrive/\", force_remount=True).\n"
          ],
          "name": "stdout"
        }
      ]
    },
    {
      "cell_type": "code",
      "metadata": {
        "id": "TxUfjUBjFwdy",
        "colab_type": "code",
        "colab": {
          "base_uri": "https://localhost:8080/",
          "height": 35
        },
        "outputId": "75cf89a0-a6ad-47a4-8e0c-398adc26898e"
      },
      "source": [
        "#changing the working directory\n",
        "%cd /content/gdrive/My Drive/Machine Learning/Kaggle/Facial Key Points Detection"
      ],
      "execution_count": 2,
      "outputs": [
        {
          "output_type": "stream",
          "text": [
            "/content/gdrive/My Drive/Machine Learning/Kaggle/Facial Key Points Detection\n"
          ],
          "name": "stdout"
        }
      ]
    },
    {
      "cell_type": "code",
      "metadata": {
        "id": "yyCMhYFbFQu8",
        "colab_type": "code",
        "colab": {}
      },
      "source": [
        "#Run the following code to provide the config path to kaggle.json\n",
        "import os\n",
        "os.environ['KAGGLE_CONFIG_DIR'] = \"/content/gdrive/My Drive/Machine Learning/Kaggle\""
      ],
      "execution_count": 3,
      "outputs": []
    },
    {
      "cell_type": "code",
      "metadata": {
        "id": "_KAO16MyF07v",
        "colab_type": "code",
        "colab": {
          "base_uri": "https://localhost:8080/",
          "height": 173
        },
        "outputId": "8489a065-db90-410e-97b5-9a16f4433c0c"
      },
      "source": [
        "# download the dataset\n",
        "! kaggle competitions download -c facial-keypoints-detection"
      ],
      "execution_count": null,
      "outputs": [
        {
          "output_type": "stream",
          "text": [
            "Warning: Looks like you're using an outdated API Version, please consider updating (server 1.5.6 / client 1.5.4)\n",
            "SampleSubmission.csv: Skipping, found more recently modified local copy (use --force to force download)\n",
            "IdLookupTable.csv: Skipping, found more recently modified local copy (use --force to force download)\n",
            "Downloading training.zip to /content/gdrive/My Drive/Machine Learning/Kaggle/Facial Key Points Detection\n",
            " 72% 43.0M/60.1M [00:00<00:00, 75.3MB/s]\n",
            "100% 60.1M/60.1M [00:00<00:00, 122MB/s] \n",
            "Downloading test.zip to /content/gdrive/My Drive/Machine Learning/Kaggle/Facial Key Points Detection\n",
            " 44% 7.00M/16.0M [00:00<00:00, 69.5MB/s]\n",
            "100% 16.0M/16.0M [00:00<00:00, 77.9MB/s]\n"
          ],
          "name": "stdout"
        }
      ]
    },
    {
      "cell_type": "code",
      "metadata": {
        "id": "Zbq2IPqBI7Sf",
        "colab_type": "code",
        "colab": {
          "base_uri": "https://localhost:8080/",
          "height": 156
        },
        "outputId": "578b5135-87ea-4b2e-8e9f-cb34991e9030"
      },
      "source": [
        "#unzipping the zip files and deleting the zip files\n",
        "!unzip \\*.zip  && rm *.zip"
      ],
      "execution_count": null,
      "outputs": [
        {
          "output_type": "stream",
          "text": [
            "Archive:  training.zip\n",
            "replace training.csv? [y]es, [n]o, [A]ll, [N]one, [r]ename: A\n",
            "  inflating: training.csv            \n",
            "\n",
            "Archive:  test.zip\n",
            "  inflating: test.csv                \n",
            "\n",
            "2 archives were successfully processed.\n"
          ],
          "name": "stdout"
        }
      ]
    },
    {
      "cell_type": "markdown",
      "metadata": {
        "id": "wXFnM1WPE7gX",
        "colab_type": "text"
      },
      "source": [
        "#General initializations"
      ]
    },
    {
      "cell_type": "code",
      "metadata": {
        "id": "GxrhnWndE-K2",
        "colab_type": "code",
        "colab": {}
      },
      "source": [
        "import torch\n",
        "import sys\n",
        "import os\n",
        "from __future__ import print_function, division\n",
        "import matplotlib.pyplot as plt\n",
        "from torchvision import transforms, utils\n",
        "import torchvision.transforms as transforms\n",
        "import torchvision.models as models\n",
        "from skimage.transform import resize\n",
        "import torch.nn as nn\n",
        "import torch.nn.functional as F\n",
        "import cv2\n",
        "import re\n",
        "import pandas as pd\n",
        "import numpy as np\n",
        "\n",
        "# Ignore warnings\n",
        "import warnings\n",
        "warnings.filterwarnings(\"ignore\")\n",
        "plt.ion()   # interactive mode"
      ],
      "execution_count": 4,
      "outputs": []
    },
    {
      "cell_type": "code",
      "metadata": {
        "id": "QQZpoTl-E6-D",
        "colab_type": "code",
        "colab": {
          "base_uri": "https://localhost:8080/",
          "height": 35
        },
        "outputId": "a0451af1-f1e6-47d1-8f6e-354dc0b6182e"
      },
      "source": [
        "torch.cuda.is_available()"
      ],
      "execution_count": 5,
      "outputs": [
        {
          "output_type": "execute_result",
          "data": {
            "text/plain": [
              "True"
            ]
          },
          "metadata": {
            "tags": []
          },
          "execution_count": 5
        }
      ]
    },
    {
      "cell_type": "code",
      "metadata": {
        "id": "JWOO4NSFDQot",
        "colab_type": "code",
        "colab": {
          "base_uri": "https://localhost:8080/",
          "height": 35
        },
        "outputId": "4f92bfc3-52f3-4ef7-bd5b-be9e3d862b71"
      },
      "source": [
        "# Set device on GPU if available, else CPU\n",
        "device = torch.device('cuda' if torch.cuda.is_available() else 'cpu')\n",
        "print(device)"
      ],
      "execution_count": 6,
      "outputs": [
        {
          "output_type": "stream",
          "text": [
            "cuda\n"
          ],
          "name": "stdout"
        }
      ]
    },
    {
      "cell_type": "markdown",
      "metadata": {
        "id": "oanXylzOZPVN",
        "colab_type": "text"
      },
      "source": [
        "#Data Preprocessing"
      ]
    },
    {
      "cell_type": "code",
      "metadata": {
        "id": "7e1kwj1tZTO7",
        "colab_type": "code",
        "colab": {}
      },
      "source": [
        "# Loading the csv files (give path to your cvs files)\n",
        "train_csv=pd.read_csv(\"/content/gdrive/My Drive/Machine Learning/Kaggle/Facial Key Points Detection/training.csv\")\n",
        "test_csv=pd.read_csv(\"/content/gdrive/My Drive/Machine Learning/Kaggle/Facial Key Points Detection/test.csv\")\n",
        "IdLookupTable_csv=pd.read_csv(\"/content/gdrive/My Drive/Machine Learning/Kaggle/Facial Key Points Detection/IdLookupTable.csv\")"
      ],
      "execution_count": 7,
      "outputs": []
    },
    {
      "cell_type": "code",
      "metadata": {
        "id": "38dOIqUh2xJ5",
        "colab_type": "code",
        "colab": {
          "base_uri": "https://localhost:8080/",
          "height": 1000
        },
        "outputId": "4fa1666a-0be7-44f8-a989-ebf40c4bc850"
      },
      "source": [
        "# exploring the train data, each row is an example\n",
        "train_csv.head()"
      ],
      "execution_count": 8,
      "outputs": [
        {
          "output_type": "execute_result",
          "data": {
            "text/html": [
              "<div>\n",
              "<style scoped>\n",
              "    .dataframe tbody tr th:only-of-type {\n",
              "        vertical-align: middle;\n",
              "    }\n",
              "\n",
              "    .dataframe tbody tr th {\n",
              "        vertical-align: top;\n",
              "    }\n",
              "\n",
              "    .dataframe thead th {\n",
              "        text-align: right;\n",
              "    }\n",
              "</style>\n",
              "<table border=\"1\" class=\"dataframe\">\n",
              "  <thead>\n",
              "    <tr style=\"text-align: right;\">\n",
              "      <th></th>\n",
              "      <th>left_eye_center_x</th>\n",
              "      <th>left_eye_center_y</th>\n",
              "      <th>right_eye_center_x</th>\n",
              "      <th>right_eye_center_y</th>\n",
              "      <th>left_eye_inner_corner_x</th>\n",
              "      <th>left_eye_inner_corner_y</th>\n",
              "      <th>left_eye_outer_corner_x</th>\n",
              "      <th>left_eye_outer_corner_y</th>\n",
              "      <th>right_eye_inner_corner_x</th>\n",
              "      <th>right_eye_inner_corner_y</th>\n",
              "      <th>right_eye_outer_corner_x</th>\n",
              "      <th>right_eye_outer_corner_y</th>\n",
              "      <th>left_eyebrow_inner_end_x</th>\n",
              "      <th>left_eyebrow_inner_end_y</th>\n",
              "      <th>left_eyebrow_outer_end_x</th>\n",
              "      <th>left_eyebrow_outer_end_y</th>\n",
              "      <th>right_eyebrow_inner_end_x</th>\n",
              "      <th>right_eyebrow_inner_end_y</th>\n",
              "      <th>right_eyebrow_outer_end_x</th>\n",
              "      <th>right_eyebrow_outer_end_y</th>\n",
              "      <th>nose_tip_x</th>\n",
              "      <th>nose_tip_y</th>\n",
              "      <th>mouth_left_corner_x</th>\n",
              "      <th>mouth_left_corner_y</th>\n",
              "      <th>mouth_right_corner_x</th>\n",
              "      <th>mouth_right_corner_y</th>\n",
              "      <th>mouth_center_top_lip_x</th>\n",
              "      <th>mouth_center_top_lip_y</th>\n",
              "      <th>mouth_center_bottom_lip_x</th>\n",
              "      <th>mouth_center_bottom_lip_y</th>\n",
              "      <th>Image</th>\n",
              "    </tr>\n",
              "  </thead>\n",
              "  <tbody>\n",
              "    <tr>\n",
              "      <th>0</th>\n",
              "      <td>66.033564</td>\n",
              "      <td>39.002274</td>\n",
              "      <td>30.227008</td>\n",
              "      <td>36.421678</td>\n",
              "      <td>59.582075</td>\n",
              "      <td>39.647423</td>\n",
              "      <td>73.130346</td>\n",
              "      <td>39.969997</td>\n",
              "      <td>36.356571</td>\n",
              "      <td>37.389402</td>\n",
              "      <td>23.452872</td>\n",
              "      <td>37.389402</td>\n",
              "      <td>56.953263</td>\n",
              "      <td>29.033648</td>\n",
              "      <td>80.227128</td>\n",
              "      <td>32.228138</td>\n",
              "      <td>40.227609</td>\n",
              "      <td>29.002322</td>\n",
              "      <td>16.356379</td>\n",
              "      <td>29.647471</td>\n",
              "      <td>44.420571</td>\n",
              "      <td>57.066803</td>\n",
              "      <td>61.195308</td>\n",
              "      <td>79.970165</td>\n",
              "      <td>28.614496</td>\n",
              "      <td>77.388992</td>\n",
              "      <td>43.312602</td>\n",
              "      <td>72.935459</td>\n",
              "      <td>43.130707</td>\n",
              "      <td>84.485774</td>\n",
              "      <td>238 236 237 238 240 240 239 241 241 243 240 23...</td>\n",
              "    </tr>\n",
              "    <tr>\n",
              "      <th>1</th>\n",
              "      <td>64.332936</td>\n",
              "      <td>34.970077</td>\n",
              "      <td>29.949277</td>\n",
              "      <td>33.448715</td>\n",
              "      <td>58.856170</td>\n",
              "      <td>35.274349</td>\n",
              "      <td>70.722723</td>\n",
              "      <td>36.187166</td>\n",
              "      <td>36.034723</td>\n",
              "      <td>34.361532</td>\n",
              "      <td>24.472511</td>\n",
              "      <td>33.144443</td>\n",
              "      <td>53.987404</td>\n",
              "      <td>28.275949</td>\n",
              "      <td>78.634213</td>\n",
              "      <td>30.405923</td>\n",
              "      <td>42.728851</td>\n",
              "      <td>26.146043</td>\n",
              "      <td>16.865362</td>\n",
              "      <td>27.058860</td>\n",
              "      <td>48.206298</td>\n",
              "      <td>55.660936</td>\n",
              "      <td>56.421447</td>\n",
              "      <td>76.352000</td>\n",
              "      <td>35.122383</td>\n",
              "      <td>76.047660</td>\n",
              "      <td>46.684596</td>\n",
              "      <td>70.266553</td>\n",
              "      <td>45.467915</td>\n",
              "      <td>85.480170</td>\n",
              "      <td>219 215 204 196 204 211 212 200 180 168 178 19...</td>\n",
              "    </tr>\n",
              "    <tr>\n",
              "      <th>2</th>\n",
              "      <td>65.057053</td>\n",
              "      <td>34.909642</td>\n",
              "      <td>30.903789</td>\n",
              "      <td>34.909642</td>\n",
              "      <td>59.412000</td>\n",
              "      <td>36.320968</td>\n",
              "      <td>70.984421</td>\n",
              "      <td>36.320968</td>\n",
              "      <td>37.678105</td>\n",
              "      <td>36.320968</td>\n",
              "      <td>24.976421</td>\n",
              "      <td>36.603221</td>\n",
              "      <td>55.742526</td>\n",
              "      <td>27.570947</td>\n",
              "      <td>78.887368</td>\n",
              "      <td>32.651621</td>\n",
              "      <td>42.193895</td>\n",
              "      <td>28.135453</td>\n",
              "      <td>16.791158</td>\n",
              "      <td>32.087116</td>\n",
              "      <td>47.557263</td>\n",
              "      <td>53.538947</td>\n",
              "      <td>60.822947</td>\n",
              "      <td>73.014316</td>\n",
              "      <td>33.726316</td>\n",
              "      <td>72.732000</td>\n",
              "      <td>47.274947</td>\n",
              "      <td>70.191789</td>\n",
              "      <td>47.274947</td>\n",
              "      <td>78.659368</td>\n",
              "      <td>144 142 159 180 188 188 184 180 167 132 84 59 ...</td>\n",
              "    </tr>\n",
              "    <tr>\n",
              "      <th>3</th>\n",
              "      <td>65.225739</td>\n",
              "      <td>37.261774</td>\n",
              "      <td>32.023096</td>\n",
              "      <td>37.261774</td>\n",
              "      <td>60.003339</td>\n",
              "      <td>39.127179</td>\n",
              "      <td>72.314713</td>\n",
              "      <td>38.380967</td>\n",
              "      <td>37.618643</td>\n",
              "      <td>38.754115</td>\n",
              "      <td>25.307270</td>\n",
              "      <td>38.007903</td>\n",
              "      <td>56.433809</td>\n",
              "      <td>30.929864</td>\n",
              "      <td>77.910261</td>\n",
              "      <td>31.665725</td>\n",
              "      <td>41.671513</td>\n",
              "      <td>31.049990</td>\n",
              "      <td>20.458017</td>\n",
              "      <td>29.909343</td>\n",
              "      <td>51.885078</td>\n",
              "      <td>54.166539</td>\n",
              "      <td>65.598887</td>\n",
              "      <td>72.703722</td>\n",
              "      <td>37.245496</td>\n",
              "      <td>74.195478</td>\n",
              "      <td>50.303165</td>\n",
              "      <td>70.091687</td>\n",
              "      <td>51.561183</td>\n",
              "      <td>78.268383</td>\n",
              "      <td>193 192 193 194 194 194 193 192 168 111 50 12 ...</td>\n",
              "    </tr>\n",
              "    <tr>\n",
              "      <th>4</th>\n",
              "      <td>66.725301</td>\n",
              "      <td>39.621261</td>\n",
              "      <td>32.244810</td>\n",
              "      <td>38.042032</td>\n",
              "      <td>58.565890</td>\n",
              "      <td>39.621261</td>\n",
              "      <td>72.515926</td>\n",
              "      <td>39.884466</td>\n",
              "      <td>36.982380</td>\n",
              "      <td>39.094852</td>\n",
              "      <td>22.506110</td>\n",
              "      <td>38.305237</td>\n",
              "      <td>57.249571</td>\n",
              "      <td>30.672177</td>\n",
              "      <td>77.762945</td>\n",
              "      <td>31.737247</td>\n",
              "      <td>38.035436</td>\n",
              "      <td>30.935382</td>\n",
              "      <td>15.925870</td>\n",
              "      <td>30.672177</td>\n",
              "      <td>43.299534</td>\n",
              "      <td>64.889521</td>\n",
              "      <td>60.671411</td>\n",
              "      <td>77.523239</td>\n",
              "      <td>31.191755</td>\n",
              "      <td>76.997301</td>\n",
              "      <td>44.962748</td>\n",
              "      <td>73.707387</td>\n",
              "      <td>44.227141</td>\n",
              "      <td>86.871166</td>\n",
              "      <td>147 148 160 196 215 214 216 217 219 220 206 18...</td>\n",
              "    </tr>\n",
              "  </tbody>\n",
              "</table>\n",
              "</div>"
            ],
            "text/plain": [
              "   left_eye_center_x  ...                                              Image\n",
              "0          66.033564  ...  238 236 237 238 240 240 239 241 241 243 240 23...\n",
              "1          64.332936  ...  219 215 204 196 204 211 212 200 180 168 178 19...\n",
              "2          65.057053  ...  144 142 159 180 188 188 184 180 167 132 84 59 ...\n",
              "3          65.225739  ...  193 192 193 194 194 194 193 192 168 111 50 12 ...\n",
              "4          66.725301  ...  147 148 160 196 215 214 216 217 219 220 206 18...\n",
              "\n",
              "[5 rows x 31 columns]"
            ]
          },
          "metadata": {
            "tags": []
          },
          "execution_count": 8
        }
      ]
    },
    {
      "cell_type": "markdown",
      "metadata": {
        "id": "PU5uydzZ5NLH",
        "colab_type": "text"
      },
      "source": [
        "As mentiones in the data section the training file has some data missing. So the nect step is to figure out the number of missing values. The following code does that.\n"
      ]
    },
    {
      "cell_type": "code",
      "metadata": {
        "id": "VehZ_9MG4yel",
        "colab_type": "code",
        "colab": {
          "base_uri": "https://localhost:8080/",
          "height": 35
        },
        "outputId": "30e10a3b-cac6-46d4-e99d-d9d23c2c8d08"
      },
      "source": [
        "# total number of missing values\n",
        "print(f\"The total number of missing values in the train dataset is/are: {train_csv.isnull().sum().sum()}\")"
      ],
      "execution_count": 9,
      "outputs": [
        {
          "output_type": "stream",
          "text": [
            "The total number of missing values in the train dataset is/are: 105412\n"
          ],
          "name": "stdout"
        }
      ]
    },
    {
      "cell_type": "markdown",
      "metadata": {
        "id": "6NnLHc--5u-R",
        "colab_type": "text"
      },
      "source": [
        "Some of the most common ways of dealing with missing data are.\n",
        "\n",
        "\n",
        "*   Replacing\n",
        "*   Deleting entries with missing values (in is not usually preferred as it reduced the number of training examples)\n",
        "\n",
        "We perform replacement, in which we replace the missing value with mean.\n"
      ]
    },
    {
      "cell_type": "code",
      "metadata": {
        "id": "dF4DvVPv5HKO",
        "colab_type": "code",
        "colab": {
          "base_uri": "https://localhost:8080/",
          "height": 55
        },
        "outputId": "bc0fecc1-4253-40dc-cb3f-98e6c9d47c08"
      },
      "source": [
        "# Replace using mean and getting feature list\n",
        "key_points=list()\n",
        "for column in train_csv: # itterating over each column\n",
        "  if column!=\"Image\":      \n",
        "    key_points.append(column)\n",
        "    mean=train_csv[column].mean() \n",
        "    train_csv[column].fillna(mean, inplace=True) # replacing empty value with the mean \n",
        "   \n",
        "\n",
        "print(f\"The key point  list is: {key_points}\")"
      ],
      "execution_count": 10,
      "outputs": [
        {
          "output_type": "stream",
          "text": [
            "The key point  list is: ['left_eye_center_x', 'left_eye_center_y', 'right_eye_center_x', 'right_eye_center_y', 'left_eye_inner_corner_x', 'left_eye_inner_corner_y', 'left_eye_outer_corner_x', 'left_eye_outer_corner_y', 'right_eye_inner_corner_x', 'right_eye_inner_corner_y', 'right_eye_outer_corner_x', 'right_eye_outer_corner_y', 'left_eyebrow_inner_end_x', 'left_eyebrow_inner_end_y', 'left_eyebrow_outer_end_x', 'left_eyebrow_outer_end_y', 'right_eyebrow_inner_end_x', 'right_eyebrow_inner_end_y', 'right_eyebrow_outer_end_x', 'right_eyebrow_outer_end_y', 'nose_tip_x', 'nose_tip_y', 'mouth_left_corner_x', 'mouth_left_corner_y', 'mouth_right_corner_x', 'mouth_right_corner_y', 'mouth_center_top_lip_x', 'mouth_center_top_lip_y', 'mouth_center_bottom_lip_x', 'mouth_center_bottom_lip_y']\n"
          ],
          "name": "stdout"
        }
      ]
    },
    {
      "cell_type": "code",
      "metadata": {
        "id": "gfIyZ8rYDTBs",
        "colab_type": "code",
        "colab": {
          "base_uri": "https://localhost:8080/",
          "height": 35
        },
        "outputId": "feb30e51-dec7-452e-85ef-245742aa3242"
      },
      "source": [
        "#  Checking again to see the number of missing values\n",
        "print(f\"The total number of missing values in the train dataset is/are: {train_csv.isnull().sum().sum()}\")"
      ],
      "execution_count": 11,
      "outputs": [
        {
          "output_type": "stream",
          "text": [
            "The total number of missing values in the train dataset is/are: 0\n"
          ],
          "name": "stdout"
        }
      ]
    },
    {
      "cell_type": "markdown",
      "metadata": {
        "id": "Rkx-owxeXTXx",
        "colab_type": "text"
      },
      "source": [
        "Now we will split the training data into two parts, one will be used for training the neural network and the other will be used for validation. \n"
      ]
    },
    {
      "cell_type": "code",
      "metadata": {
        "id": "TUw9rtF8XpCV",
        "colab_type": "code",
        "colab": {}
      },
      "source": [
        "mask = np.random.rand(len(train_csv)) <=0.8  # approx 80% in training and 20% in validation\n",
        "train_split=train_csv[mask]\n",
        "val_split=train_csv[~mask]\n",
        "\n",
        "# saving the train and validation split (the files will be saved in your working directory)\n",
        "train_split.to_csv(\"train_split.csv\", index= False)\n",
        "val_split.to_csv(\"val_split.csv\", index= False)"
      ],
      "execution_count": 12,
      "outputs": []
    },
    {
      "cell_type": "markdown",
      "metadata": {
        "id": "IGCSfLiMhhOq",
        "colab_type": "text"
      },
      "source": [
        "#Data Loading and Data Augmentation"
      ]
    },
    {
      "cell_type": "code",
      "metadata": {
        "id": "mYI2-BZenQT4",
        "colab_type": "code",
        "colab": {}
      },
      "source": [
        "# custom dataset \n",
        "from torch.utils.data import Dataset, DataLoader\n",
        "\n",
        "class faces(Dataset):\n",
        "  def __init__(self, csv_loc, train=True, transform=None):\n",
        "    self.csv=pd.read_csv(csv_loc)   \n",
        "    self.transform=transform  \n",
        "    self.train=train\n",
        "\n",
        "  def __len__(self):\n",
        "    return len(self.csv)\n",
        "  \n",
        "  def __getitem__(self, idx):\n",
        "    image=self.transform(np.array(self.csv.iloc[idx][-1].split(\" \"), dtype=\"float\").reshape(96,96))   \n",
        "    if self.train == True:\n",
        "      key_points=np.array(self.csv.iloc[idx][:-1], dtype=\"float\")    \n",
        "      return image, key_points      \n",
        "    else:\n",
        "      return image"
      ],
      "execution_count": 12,
      "outputs": []
    },
    {
      "cell_type": "code",
      "metadata": {
        "id": "-lgCQsrT57ah",
        "colab_type": "code",
        "colab": {}
      },
      "source": [
        "class feature_normalize():\n",
        "\n",
        "  def __call__(self, sample):\n",
        "    mu     = 0      # mean value\n",
        "    sigma  = 0      # standard deviation\n",
        "    #####################################################################    \n",
        "    mu=np.mean(sample)\n",
        "    sigma=np.std(sample)\n",
        "    X_norm=(sample-mu)/sigma    \n",
        "    #####################################################################\n",
        "    return X_norm"
      ],
      "execution_count": 13,
      "outputs": []
    },
    {
      "cell_type": "code",
      "metadata": {
        "id": "A88bdWOhmv1E",
        "colab_type": "code",
        "colab": {}
      },
      "source": [
        "train_dataset=faces(csv_loc=\"/content/gdrive/My Drive/Machine Learning/Kaggle/Facial Key Points Detection/train_split.csv\", train=True, transform=transforms.Compose([feature_normalize(), transforms.ToTensor()]))\n",
        "val_dataset= faces(csv_loc=\"/content/gdrive/My Drive/Machine Learning/Kaggle/Facial Key Points Detection/val_split.csv\", train= True, transform=transforms.Compose([feature_normalize(), transforms.ToTensor()]))\n",
        "test_dataset= faces(csv_loc=\"/content/gdrive/My Drive/Machine Learning/Kaggle/Facial Key Points Detection/test.csv\", train= False, transform=transforms.Compose([feature_normalize(), transforms.ToTensor()]))"
      ],
      "execution_count": 14,
      "outputs": []
    },
    {
      "cell_type": "code",
      "metadata": {
        "id": "vro0Gws8n8Hv",
        "colab_type": "code",
        "colab": {
          "base_uri": "https://localhost:8080/",
          "height": 69
        },
        "outputId": "905f6b47-f31e-482d-d947-9f72260d0d37"
      },
      "source": [
        "print(f\"Number of examples in training dataset: {len(train_dataset)}\")\n",
        "print(f\"Number of examples in validation dataset: {len(val_dataset)}\")\n",
        "print(f\"Number of examples in test dataset: {len(test_dataset)}\")"
      ],
      "execution_count": 15,
      "outputs": [
        {
          "output_type": "stream",
          "text": [
            "Number of examples in training dataset: 5657\n",
            "Number of examples in validation dataset: 1392\n",
            "Number of examples in test dataset: 1783\n"
          ],
          "name": "stdout"
        }
      ]
    },
    {
      "cell_type": "markdown",
      "metadata": {
        "id": "FvaU_zFGdsH-",
        "colab_type": "text"
      },
      "source": [
        "#Data Exploration\n",
        "\n",
        "Let us look at an image in the traing dataset."
      ]
    },
    {
      "cell_type": "code",
      "metadata": {
        "id": "hifY4QWE6BRH",
        "colab_type": "code",
        "colab": {}
      },
      "source": [
        "def image_show(sample, csv_loc):\n",
        "  fig, axs= plt.subplots(1, 2) \n",
        "  csv=pd.read_csv(csv_loc)\n",
        "  image=np.array(csv.iloc[sample][-1].split(\" \"), dtype=\"float\").reshape(96,96)\n",
        "  image_keypoints=np.copy(image)\n",
        "  key_points = np.array(csv.iloc[sample][:-1], dtype=\"int32\")\n",
        "  key_points_x=np.take(key_points, range(0, 30, 2))\n",
        "  key_points_y=np.take(key_points, range(1, 30, 2))\n",
        "  x_y=zip(key_points_x, key_points_y)\n",
        "\n",
        "  for x, y in x_y:\n",
        "    image_keypoints[y][x]=255 \n",
        "\n",
        "  axs[0].imshow(image)\n",
        "  axs[0].set_title(\"Original Image\")\n",
        "  axs[1].imshow(image_keypoints)  \n",
        "  axs[1].set_title(\"Image with key points\")\n",
        "\n",
        "  return image, key_points"
      ],
      "execution_count": 16,
      "outputs": []
    },
    {
      "cell_type": "code",
      "metadata": {
        "id": "HWE-913-7P_G",
        "colab_type": "code",
        "colab": {
          "base_uri": "https://localhost:8080/",
          "height": 251
        },
        "outputId": "50c5d3ae-727d-45c6-f351-2e8280859935"
      },
      "source": [
        "sample=np.random.randint(0, len(train_dataset)) # randomly selecting an example from train_split\n",
        "print(f\"Sample image number: {sample}\\n\")\n",
        "image ,feature=image_show(sample, csv_loc=\"/content/gdrive/My Drive/Machine Learning/Kaggle/Facial Key Points Detection/train_split.csv\")"
      ],
      "execution_count": 26,
      "outputs": [
        {
          "output_type": "stream",
          "text": [
            "Sample image number: 149\n",
            "\n"
          ],
          "name": "stdout"
        },
        {
          "output_type": "display_data",
          "data": {
            "image/png": "[encoded data removed]",
            "text/plain": [
              "<Figure size 432x288 with 2 Axes>"
            ]
          },
          "metadata": {
            "tags": [],
            "needs_background": "light"
          }
        }
      ]
    },
    {
      "cell_type": "markdown",
      "metadata": {
        "id": "3uJ52XXEWjxU",
        "colab_type": "text"
      },
      "source": [
        "#Helper functions"
      ]
    },
    {
      "cell_type": "code",
      "metadata": {
        "id": "p4turugtcWCq",
        "colab_type": "code",
        "colab": {}
      },
      "source": [
        "def cal_loss(model, loader, criterion, eps=1e-6):\n",
        "  loss_total=0 \n",
        "  total_step=len(loader)\n",
        "\n",
        "  for x, y in loader:\n",
        "    x=x.to(device=device, dtype=torch.float)\n",
        "    y=y.to(device=device, dtype=torch.long)\n",
        "    y_pred=model(x)                  \n",
        "    loss=torch.sqrt(criterion(y_pred, y) + eps) \n",
        "    loss_total+=loss.item()\n",
        "  \n",
        "  return (loss_total/total_step)"
      ],
      "execution_count": 27,
      "outputs": []
    },
    {
      "cell_type": "code",
      "metadata": {
        "id": "2Wm-Y9wFWnrf",
        "colab_type": "code",
        "colab": {}
      },
      "source": [
        "# solver function for Neural Network\n",
        "\n",
        "def Solver_NN(model, train_loader, val_loader, optim, criterion, device, scheduler, print_every=10, epoch=51, lr=1e-1):\n",
        "  print(\"Solver Initiated\")  \n",
        "  model=model.to(device) # sending model to GPU\n",
        "  if device ==\"cpu\":\n",
        "    print(\"Cuda unavailable, model successfully sent to the CPU\\n\")\n",
        "  else:\n",
        "    print(\"Model successfully sent to the GPU\\n\")\n",
        "\n",
        "  print_every=print_every\n",
        "  total_step = len(train_loader)\n",
        "  counter=0\n",
        "\n",
        "  for e in range(epoch):\n",
        "    running_loss = 0.0    \n",
        "    epoch_loss=0.0\n",
        "    for i, (x,y) in enumerate(train_loader):\n",
        "      optim.zero_grad()\n",
        "          \n",
        "      x=x.to(device=device, dtype=torch.float)\n",
        "      y=y.to(device=device, dtype=torch.float)\n",
        "     \n",
        "      #forward pass########\n",
        "      y_pred=model(x)                  \n",
        "      loss=criterion(y_pred, y)   \n",
        "      ####################\n",
        "      \n",
        "      # backward pass#######     \n",
        "      loss.backward()\n",
        "      optim.step()\n",
        "      ####################      \n",
        "      running_loss += loss.item()      \n",
        "      if (i+1) % print_every == 0:       # print every 10\n",
        "        print (\"Epoch [{}/{}], Step [{}/{}] Loss: {}\".format(counter+1, epoch, i+1, total_step, running_loss/print_every))\n",
        "        running_loss = 0.0    \n",
        "    counter+=1     \n",
        "\n",
        "    with torch.no_grad():            \n",
        "      train_loss= cal_loss(model, train_loader, criterion)\n",
        "      val_loss= cal_loss(model, val_loader, criterion)\n",
        "      scheduler.step(val_loss)\n",
        "      print(f\"Train loss in epoch {e+1} is {train_loss}\") \n",
        "      print(f\"Validation loss in epoch {e+1} is {val_loss}\\n \")         \n",
        "  return model"
      ],
      "execution_count": 28,
      "outputs": []
    },
    {
      "cell_type": "markdown",
      "metadata": {
        "id": "4BuEtrSKfU2E",
        "colab_type": "text"
      },
      "source": [
        "# Neural Network"
      ]
    },
    {
      "cell_type": "code",
      "metadata": {
        "id": "gby0iCi_fXUd",
        "colab_type": "code",
        "colab": {}
      },
      "source": [
        "class Resnet(nn.Module):\n",
        "  def __init__(self, inp_channels, output, model):\n",
        "    super().__init__()\n",
        "    self.inp_channels=inp_channels\n",
        "    self.output=output\n",
        "    self.first=nn.Sequential(nn.Conv2d(self.inp_channels, 64, kernel_size=(7, 7), stride=(2, 2), padding=(3, 3), bias=False), nn.ReLU(inplace=True))\n",
        "    self.cnn=nn.Sequential(*(list(model.children())[1:-1]), nn.Flatten())    \n",
        "    self.fc = nn.Sequential(nn.Linear(512, 512), nn.ReLU(inplace= True), nn.Linear(512, 128), nn.ReLU(inplace=True), nn.Linear(128, self.output))\n",
        "      \n",
        "\n",
        "  def forward(self, x):  \n",
        "\n",
        "    x=self.first(x)\n",
        "    #print(f\"1: {x.shape}\")\n",
        "\n",
        "    x=self.cnn(x)\n",
        "   #print(f\"2: {x.shape}\")\n",
        "\n",
        "    x=self.fc(x)\n",
        "    #print(f\"3 {x.shape}\")\n",
        "\n",
        "    return x"
      ],
      "execution_count": 29,
      "outputs": []
    },
    {
      "cell_type": "code",
      "metadata": {
        "id": "FiS_QCULfbDy",
        "colab_type": "code",
        "colab": {
          "base_uri": "https://localhost:8080/",
          "height": 1000
        },
        "outputId": "b73fdcc7-ff10-41c1-fd90-8617560f03db"
      },
      "source": [
        "resnet=torch.hub.load('pytorch/vision:v0.6.0', 'resnet18', pretrained=False)\n",
        "num_input_channels=1 # since it's a black and white image\n",
        "output= 30  # number of keypoints\n",
        "model= Resnet(num_input_channels, output, resnet)\n",
        "print(model)\n"
      ],
      "execution_count": 30,
      "outputs": [
        {
          "output_type": "stream",
          "text": [
            "Resnet(\n",
            "  (first): Sequential(\n",
            "    (0): Conv2d(1, 64, kernel_size=(7, 7), stride=(2, 2), padding=(3, 3), bias=False)\n",
            "    (1): ReLU(inplace=True)\n",
            "  )\n",
            "  (cnn): Sequential(\n",
            "    (0): BatchNorm2d(64, eps=1e-05, momentum=0.1, affine=True, track_running_stats=True)\n",
            "    (1): ReLU(inplace=True)\n",
            "    (2): MaxPool2d(kernel_size=3, stride=2, padding=1, dilation=1, ceil_mode=False)\n",
            "    (3): Sequential(\n",
            "      (0): BasicBlock(\n",
            "        (conv1): Conv2d(64, 64, kernel_size=(3, 3), stride=(1, 1), padding=(1, 1), bias=False)\n",
            "        (bn1): BatchNorm2d(64, eps=1e-05, momentum=0.1, affine=True, track_running_stats=True)\n",
            "        (relu): ReLU(inplace=True)\n",
            "        (conv2): Conv2d(64, 64, kernel_size=(3, 3), stride=(1, 1), padding=(1, 1), bias=False)\n",
            "        (bn2): BatchNorm2d(64, eps=1e-05, momentum=0.1, affine=True, track_running_stats=True)\n",
            "      )\n",
            "      (1): BasicBlock(\n",
            "        (conv1): Conv2d(64, 64, kernel_size=(3, 3), stride=(1, 1), padding=(1, 1), bias=False)\n",
            "        (bn1): BatchNorm2d(64, eps=1e-05, momentum=0.1, affine=True, track_running_stats=True)\n",
            "        (relu): ReLU(inplace=True)\n",
            "        (conv2): Conv2d(64, 64, kernel_size=(3, 3), stride=(1, 1), padding=(1, 1), bias=False)\n",
            "        (bn2): BatchNorm2d(64, eps=1e-05, momentum=0.1, affine=True, track_running_stats=True)\n",
            "      )\n",
            "    )\n",
            "    (4): Sequential(\n",
            "      (0): BasicBlock(\n",
            "        (conv1): Conv2d(64, 128, kernel_size=(3, 3), stride=(2, 2), padding=(1, 1), bias=False)\n",
            "        (bn1): BatchNorm2d(128, eps=1e-05, momentum=0.1, affine=True, track_running_stats=True)\n",
            "        (relu): ReLU(inplace=True)\n",
            "        (conv2): Conv2d(128, 128, kernel_size=(3, 3), stride=(1, 1), padding=(1, 1), bias=False)\n",
            "        (bn2): BatchNorm2d(128, eps=1e-05, momentum=0.1, affine=True, track_running_stats=True)\n",
            "        (downsample): Sequential(\n",
            "          (0): Conv2d(64, 128, kernel_size=(1, 1), stride=(2, 2), bias=False)\n",
            "          (1): BatchNorm2d(128, eps=1e-05, momentum=0.1, affine=True, track_running_stats=True)\n",
            "        )\n",
            "      )\n",
            "      (1): BasicBlock(\n",
            "        (conv1): Conv2d(128, 128, kernel_size=(3, 3), stride=(1, 1), padding=(1, 1), bias=False)\n",
            "        (bn1): BatchNorm2d(128, eps=1e-05, momentum=0.1, affine=True, track_running_stats=True)\n",
            "        (relu): ReLU(inplace=True)\n",
            "        (conv2): Conv2d(128, 128, kernel_size=(3, 3), stride=(1, 1), padding=(1, 1), bias=False)\n",
            "        (bn2): BatchNorm2d(128, eps=1e-05, momentum=0.1, affine=True, track_running_stats=True)\n",
            "      )\n",
            "    )\n",
            "    (5): Sequential(\n",
            "      (0): BasicBlock(\n",
            "        (conv1): Conv2d(128, 256, kernel_size=(3, 3), stride=(2, 2), padding=(1, 1), bias=False)\n",
            "        (bn1): BatchNorm2d(256, eps=1e-05, momentum=0.1, affine=True, track_running_stats=True)\n",
            "        (relu): ReLU(inplace=True)\n",
            "        (conv2): Conv2d(256, 256, kernel_size=(3, 3), stride=(1, 1), padding=(1, 1), bias=False)\n",
            "        (bn2): BatchNorm2d(256, eps=1e-05, momentum=0.1, affine=True, track_running_stats=True)\n",
            "        (downsample): Sequential(\n",
            "          (0): Conv2d(128, 256, kernel_size=(1, 1), stride=(2, 2), bias=False)\n",
            "          (1): BatchNorm2d(256, eps=1e-05, momentum=0.1, affine=True, track_running_stats=True)\n",
            "        )\n",
            "      )\n",
            "      (1): BasicBlock(\n",
            "        (conv1): Conv2d(256, 256, kernel_size=(3, 3), stride=(1, 1), padding=(1, 1), bias=False)\n",
            "        (bn1): BatchNorm2d(256, eps=1e-05, momentum=0.1, affine=True, track_running_stats=True)\n",
            "        (relu): ReLU(inplace=True)\n",
            "        (conv2): Conv2d(256, 256, kernel_size=(3, 3), stride=(1, 1), padding=(1, 1), bias=False)\n",
            "        (bn2): BatchNorm2d(256, eps=1e-05, momentum=0.1, affine=True, track_running_stats=True)\n",
            "      )\n",
            "    )\n",
            "    (6): Sequential(\n",
            "      (0): BasicBlock(\n",
            "        (conv1): Conv2d(256, 512, kernel_size=(3, 3), stride=(2, 2), padding=(1, 1), bias=False)\n",
            "        (bn1): BatchNorm2d(512, eps=1e-05, momentum=0.1, affine=True, track_running_stats=True)\n",
            "        (relu): ReLU(inplace=True)\n",
            "        (conv2): Conv2d(512, 512, kernel_size=(3, 3), stride=(1, 1), padding=(1, 1), bias=False)\n",
            "        (bn2): BatchNorm2d(512, eps=1e-05, momentum=0.1, affine=True, track_running_stats=True)\n",
            "        (downsample): Sequential(\n",
            "          (0): Conv2d(256, 512, kernel_size=(1, 1), stride=(2, 2), bias=False)\n",
            "          (1): BatchNorm2d(512, eps=1e-05, momentum=0.1, affine=True, track_running_stats=True)\n",
            "        )\n",
            "      )\n",
            "      (1): BasicBlock(\n",
            "        (conv1): Conv2d(512, 512, kernel_size=(3, 3), stride=(1, 1), padding=(1, 1), bias=False)\n",
            "        (bn1): BatchNorm2d(512, eps=1e-05, momentum=0.1, affine=True, track_running_stats=True)\n",
            "        (relu): ReLU(inplace=True)\n",
            "        (conv2): Conv2d(512, 512, kernel_size=(3, 3), stride=(1, 1), padding=(1, 1), bias=False)\n",
            "        (bn2): BatchNorm2d(512, eps=1e-05, momentum=0.1, affine=True, track_running_stats=True)\n",
            "      )\n",
            "    )\n",
            "    (7): AdaptiveAvgPool2d(output_size=(1, 1))\n",
            "    (8): Flatten()\n",
            "  )\n",
            "  (fc): Sequential(\n",
            "    (0): Linear(in_features=512, out_features=512, bias=True)\n",
            "    (1): ReLU(inplace=True)\n",
            "    (2): Linear(in_features=512, out_features=128, bias=True)\n",
            "    (3): ReLU(inplace=True)\n",
            "    (4): Linear(in_features=128, out_features=30, bias=True)\n",
            "  )\n",
            ")\n"
          ],
          "name": "stdout"
        },
        {
          "output_type": "stream",
          "text": [
            "Using cache found in /root/.cache/torch/hub/pytorch_vision_v0.6.0\n"
          ],
          "name": "stderr"
        }
      ]
    },
    {
      "cell_type": "code",
      "metadata": {
        "id": "B_ATQLQNn8BS",
        "colab_type": "code",
        "colab": {
          "base_uri": "https://localhost:8080/",
          "height": 35
        },
        "outputId": "5f683808-ac32-4d3b-e2c6-a8d1e54ba1b5"
      },
      "source": [
        "#  model parameters\n",
        "\n",
        "model_parameters = filter(lambda p: p.requires_grad, model.parameters())\n",
        "params = sum([np.prod(p.size()) for p in model_parameters])\n",
        "print(\"Learnable parameters:\",params)"
      ],
      "execution_count": 31,
      "outputs": [
        {
          "output_type": "stream",
          "text": [
            "Learnable parameters: 11502430\n"
          ],
          "name": "stdout"
        }
      ]
    },
    {
      "cell_type": "code",
      "metadata": {
        "id": "Iu7vs3CzgZhQ",
        "colab_type": "code",
        "colab": {}
      },
      "source": [
        "#criterion and optimizer\n",
        "from torch.optim.lr_scheduler import ReduceLROnPlateau\n",
        "\n",
        "lr=0.01\n",
        "criterion=nn.MSELoss(reduction=\"mean\") # loss criterion \n",
        "optim=torch.optim.Adam(model.parameters(), lr=lr, weight_decay=0.01) # optimizer \n",
        "scheduler= ReduceLROnPlateau(optim, mode=\"min\", factor=0.1, patience=5, verbose=True)"
      ],
      "execution_count": 32,
      "outputs": []
    },
    {
      "cell_type": "code",
      "metadata": {
        "id": "77_ziQm4gcKV",
        "colab_type": "code",
        "colab": {}
      },
      "source": [
        "# loading training and validation data for the neural network\n",
        "\n",
        "train_loader=DataLoader(train_dataset, batch_size=1024, shuffle=True, num_workers=16) \n",
        "val_loader=DataLoader(val_dataset, batch_size=1024, shuffle=True, num_workers=16) "
      ],
      "execution_count": 33,
      "outputs": []
    },
    {
      "cell_type": "code",
      "metadata": {
        "id": "yPFguuAIhAVw",
        "colab_type": "code",
        "colab": {
          "base_uri": "https://localhost:8080/",
          "height": 1000
        },
        "outputId": "556b0aff-53b0-4937-bd9e-c09de0602156"
      },
      "source": [
        "model=Solver_NN(model, train_loader, val_loader, optim, criterion, device, scheduler, print_every=3, epoch=101, lr=lr)"
      ],
      "execution_count": 34,
      "outputs": [
        {
          "output_type": "stream",
          "text": [
            "Solver Initiated\n",
            "Model successfully sent to the GPU\n",
            "\n",
            "Epoch [1/101], Step [3/6] Loss: 1704.8924357096355\n",
            "Epoch [1/101], Step [6/6] Loss: 295.16770935058594\n",
            "Train loss in epoch 1 is 12.727835178375244\n",
            "Validation loss in epoch 1 is 12.886943817138672\n",
            " \n",
            "Epoch [2/101], Step [3/6] Loss: 138.63362630208334\n",
            "Epoch [2/101], Step [6/6] Loss: 87.31894810994466\n",
            "Train loss in epoch 2 is 8.032175699869791\n",
            "Validation loss in epoch 2 is 8.212685108184814\n",
            " \n",
            "Epoch [3/101], Step [3/6] Loss: 64.46205520629883\n",
            "Epoch [3/101], Step [6/6] Loss: 35.384237925211586\n",
            "Train loss in epoch 3 is 3.9158987998962402\n",
            "Validation loss in epoch 3 is 3.699015498161316\n",
            " \n",
            "Epoch [4/101], Step [3/6] Loss: 25.51181157430013\n",
            "Epoch [4/101], Step [6/6] Loss: 20.198536554972332\n",
            "Train loss in epoch 4 is 4.819905042648315\n",
            "Validation loss in epoch 4 is 4.4202656745910645\n",
            " \n",
            "Epoch [5/101], Step [3/6] Loss: 14.726483662923178\n",
            "Epoch [5/101], Step [6/6] Loss: 13.359866778055826\n",
            "Train loss in epoch 5 is 3.5938188632329306\n",
            "Validation loss in epoch 5 is 3.340521216392517\n",
            " \n",
            "Epoch [6/101], Step [3/6] Loss: 10.553940773010254\n",
            "Epoch [6/101], Step [6/6] Loss: 9.616402943929037\n",
            "Train loss in epoch 6 is 3.0763619343439736\n",
            "Validation loss in epoch 6 is 2.863934636116028\n",
            " \n",
            "Epoch [7/101], Step [3/6] Loss: 9.741447766621908\n",
            "Epoch [7/101], Step [6/6] Loss: 9.144450187683105\n",
            "Train loss in epoch 7 is 3.0822536945343018\n",
            "Validation loss in epoch 7 is 2.8246761560440063\n",
            " \n",
            "Epoch [8/101], Step [3/6] Loss: 8.554554462432861\n",
            "Epoch [8/101], Step [6/6] Loss: 8.555134773254395\n",
            "Train loss in epoch 8 is 2.970997174580892\n",
            "Validation loss in epoch 8 is 2.794672966003418\n",
            " \n",
            "Epoch [9/101], Step [3/6] Loss: 8.678813775380453\n",
            "Epoch [9/101], Step [6/6] Loss: 8.706938743591309\n",
            "Train loss in epoch 9 is 2.936418374379476\n",
            "Validation loss in epoch 9 is 2.69530987739563\n",
            " \n",
            "Epoch [10/101], Step [3/6] Loss: 8.00808048248291\n",
            "Epoch [10/101], Step [6/6] Loss: 9.82284418741862\n",
            "Train loss in epoch 10 is 2.904743750890096\n",
            "Validation loss in epoch 10 is 2.6463135480880737\n",
            " \n",
            "Epoch [11/101], Step [3/6] Loss: 9.44984245300293\n",
            "Epoch [11/101], Step [6/6] Loss: 9.765835762023926\n",
            "Train loss in epoch 11 is 3.151521603266398\n",
            "Validation loss in epoch 11 is 2.8760262727737427\n",
            " \n",
            "Epoch [12/101], Step [3/6] Loss: 8.304192066192627\n",
            "Epoch [12/101], Step [6/6] Loss: 9.015116373697916\n",
            "Train loss in epoch 12 is 2.9418879747390747\n",
            "Validation loss in epoch 12 is 2.793424963951111\n",
            " \n",
            "Epoch [13/101], Step [3/6] Loss: 9.018856684366861\n",
            "Epoch [13/101], Step [6/6] Loss: 9.56352424621582\n",
            "Train loss in epoch 13 is 3.136833151181539\n",
            "Validation loss in epoch 13 is 2.868842601776123\n",
            " \n",
            "Epoch [14/101], Step [3/6] Loss: 11.083093961079916\n",
            "Epoch [14/101], Step [6/6] Loss: 10.445090929667154\n",
            "Train loss in epoch 14 is 3.0452769994735718\n",
            "Validation loss in epoch 14 is 2.864976644515991\n",
            " \n",
            "Epoch [15/101], Step [3/6] Loss: 9.420902570088705\n",
            "Epoch [15/101], Step [6/6] Loss: 8.550318082173666\n",
            "Train loss in epoch 15 is 3.133408784866333\n",
            "Validation loss in epoch 15 is 2.838136911392212\n",
            " \n",
            "Epoch [16/101], Step [3/6] Loss: 10.439771970113119\n",
            "Epoch [16/101], Step [6/6] Loss: 9.72910706202189\n",
            "Train loss in epoch 16 is 2.84289813041687\n",
            "Validation loss in epoch 16 is 2.624632716178894\n",
            " \n",
            "Epoch [17/101], Step [3/6] Loss: 8.007811069488525\n",
            "Epoch [17/101], Step [6/6] Loss: 11.671849568684896\n",
            "Train loss in epoch 17 is 3.206927021344503\n",
            "Validation loss in epoch 17 is 2.85885488986969\n",
            " \n",
            "Epoch [18/101], Step [3/6] Loss: 12.140312512715658\n",
            "Epoch [18/101], Step [6/6] Loss: 17.9479767481486\n",
            "Train loss in epoch 18 is 8.075657526652018\n",
            "Validation loss in epoch 18 is 7.974685430526733\n",
            " \n",
            "Epoch [19/101], Step [3/6] Loss: 75.09932200113933\n",
            "Epoch [19/101], Step [6/6] Loss: 416.30405680338544\n",
            "Train loss in epoch 19 is 4.643320480982463\n",
            "Validation loss in epoch 19 is 4.583695888519287\n",
            " \n",
            "Epoch [20/101], Step [3/6] Loss: 163.73642539978027\n",
            "Epoch [20/101], Step [6/6] Loss: 173.26717376708984\n",
            "Train loss in epoch 20 is 14.793305079142252\n",
            "Validation loss in epoch 20 is 14.491025924682617\n",
            " \n",
            "Epoch [21/101], Step [3/6] Loss: 126.28573354085286\n",
            "Epoch [21/101], Step [6/6] Loss: 89.41134897867839\n",
            "Train loss in epoch 21 is 3.889607866605123\n",
            "Validation loss in epoch 21 is 3.755612850189209\n",
            " \n",
            "Epoch [22/101], Step [3/6] Loss: 52.45456059773763\n",
            "Epoch [22/101], Step [6/6] Loss: 37.44298712412516\n",
            "Epoch    22: reducing learning rate of group 0 to 1.0000e-03.\n",
            "Train loss in epoch 22 is 3.7114115953445435\n",
            "Validation loss in epoch 22 is 3.559366822242737\n",
            " \n",
            "Epoch [23/101], Step [3/6] Loss: 16.253618558247883\n",
            "Epoch [23/101], Step [6/6] Loss: 15.606635093688965\n",
            "Train loss in epoch 23 is 3.385961651802063\n",
            "Validation loss in epoch 23 is 3.239595890045166\n",
            " \n",
            "Epoch [24/101], Step [3/6] Loss: 11.024504025777182\n",
            "Epoch [24/101], Step [6/6] Loss: 11.571811040242514\n",
            "Train loss in epoch 24 is 3.6605462233225503\n",
            "Validation loss in epoch 24 is 3.447247862815857\n",
            " \n",
            "Epoch [25/101], Step [3/6] Loss: 11.158167203267416\n",
            "Epoch [25/101], Step [6/6] Loss: 9.120241006215414\n",
            "Train loss in epoch 25 is 3.0069875717163086\n",
            "Validation loss in epoch 25 is 2.7189013957977295\n",
            " \n",
            "Epoch [26/101], Step [3/6] Loss: 8.993646621704102\n",
            "Epoch [26/101], Step [6/6] Loss: 10.189642588297525\n",
            "Train loss in epoch 26 is 2.97178848584493\n",
            "Validation loss in epoch 26 is 2.8495876789093018\n",
            " \n",
            "Epoch [27/101], Step [3/6] Loss: 8.82768980662028\n",
            "Epoch [27/101], Step [6/6] Loss: 8.851176261901855\n",
            "Train loss in epoch 27 is 3.1953921715418496\n",
            "Validation loss in epoch 27 is 2.9024637937545776\n",
            " \n",
            "Epoch [28/101], Step [3/6] Loss: 8.667084058125814\n",
            "Epoch [28/101], Step [6/6] Loss: 9.476180076599121\n",
            "Epoch    28: reducing learning rate of group 0 to 1.0000e-04.\n",
            "Train loss in epoch 28 is 2.9954445362091064\n",
            "Validation loss in epoch 28 is 2.805721640586853\n",
            " \n",
            "Epoch [29/101], Step [3/6] Loss: 9.036651929219564\n",
            "Epoch [29/101], Step [6/6] Loss: 8.286780198415121\n",
            "Train loss in epoch 29 is 2.9754080375035605\n",
            "Validation loss in epoch 29 is 2.7359570264816284\n",
            " \n",
            "Epoch [30/101], Step [3/6] Loss: 9.01376756032308\n",
            "Epoch [30/101], Step [6/6] Loss: 8.37059497833252\n",
            "Train loss in epoch 30 is 2.9659444093704224\n",
            "Validation loss in epoch 30 is 2.812353491783142\n",
            " \n",
            "Epoch [31/101], Step [3/6] Loss: 8.606598854064941\n",
            "Epoch [31/101], Step [6/6] Loss: 8.962331453959147\n",
            "Train loss in epoch 31 is 2.99571164449056\n",
            "Validation loss in epoch 31 is 2.799317717552185\n",
            " \n",
            "Epoch [32/101], Step [3/6] Loss: 8.675064086914062\n",
            "Epoch [32/101], Step [6/6] Loss: 8.812405904134115\n",
            "Train loss in epoch 32 is 2.9982133706410727\n",
            "Validation loss in epoch 32 is 2.7486636638641357\n",
            " \n",
            "Epoch [33/101], Step [3/6] Loss: 8.695839881896973\n",
            "Epoch [33/101], Step [6/6] Loss: 8.713570753733316\n",
            "Train loss in epoch 33 is 3.020109454790751\n",
            "Validation loss in epoch 33 is 2.805208683013916\n",
            " \n",
            "Epoch [34/101], Step [3/6] Loss: 8.616135915120443\n",
            "Epoch [34/101], Step [6/6] Loss: 9.056696891784668\n",
            "Epoch    34: reducing learning rate of group 0 to 1.0000e-05.\n",
            "Train loss in epoch 34 is 2.9896042744318643\n",
            "Validation loss in epoch 34 is 2.8048598766326904\n",
            " \n",
            "Epoch [35/101], Step [3/6] Loss: 9.010247866312662\n",
            "Epoch [35/101], Step [6/6] Loss: 8.100127855936686\n",
            "Train loss in epoch 35 is 2.997835715611776\n",
            "Validation loss in epoch 35 is 2.779375672340393\n",
            " \n",
            "Epoch [36/101], Step [3/6] Loss: 8.454934120178223\n",
            "Epoch [36/101], Step [6/6] Loss: 8.8812837600708\n",
            "Train loss in epoch 36 is 3.012520352999369\n",
            "Validation loss in epoch 36 is 2.7508713006973267\n",
            " \n",
            "Epoch [37/101], Step [3/6] Loss: 8.835530598958334\n",
            "Epoch [37/101], Step [6/6] Loss: 8.464374542236328\n",
            "Train loss in epoch 37 is 2.998207132021586\n",
            "Validation loss in epoch 37 is 2.792274236679077\n",
            " \n",
            "Epoch [38/101], Step [3/6] Loss: 8.47129742304484\n",
            "Epoch [38/101], Step [6/6] Loss: 8.66129461924235\n",
            "Train loss in epoch 38 is 2.995981454849243\n",
            "Validation loss in epoch 38 is 2.798764705657959\n",
            " \n",
            "Epoch [39/101], Step [3/6] Loss: 8.672587712605795\n",
            "Epoch [39/101], Step [6/6] Loss: 8.586820602416992\n",
            "Train loss in epoch 39 is 3.0034166177113852\n",
            "Validation loss in epoch 39 is 2.766383647918701\n",
            " \n",
            "Epoch [40/101], Step [3/6] Loss: 8.704984347025553\n",
            "Epoch [40/101], Step [6/6] Loss: 8.48123582204183\n",
            "Epoch    40: reducing learning rate of group 0 to 1.0000e-06.\n",
            "Train loss in epoch 40 is 3.008377989133199\n",
            "Validation loss in epoch 40 is 2.8182486295700073\n",
            " \n",
            "Epoch [41/101], Step [3/6] Loss: 8.358312924702963\n",
            "Epoch [41/101], Step [6/6] Loss: 9.022466341654459\n",
            "Train loss in epoch 41 is 3.008625308672587\n",
            "Validation loss in epoch 41 is 2.7902361154556274\n",
            " \n",
            "Epoch [42/101], Step [3/6] Loss: 8.369582176208496\n",
            "Epoch [42/101], Step [6/6] Loss: 9.116717974344889\n",
            "Train loss in epoch 42 is 3.0084269841512046\n",
            "Validation loss in epoch 42 is 2.7799692153930664\n",
            " \n",
            "Epoch [43/101], Step [3/6] Loss: 8.916563987731934\n",
            "Epoch [43/101], Step [6/6] Loss: 8.312817573547363\n",
            "Train loss in epoch 43 is 3.012275497118632\n",
            "Validation loss in epoch 43 is 2.7672194242477417\n",
            " \n",
            "Epoch [44/101], Step [3/6] Loss: 8.643894990285238\n",
            "Epoch [44/101], Step [6/6] Loss: 8.700688044230143\n",
            "Train loss in epoch 44 is 2.9992844263712564\n",
            "Validation loss in epoch 44 is 2.7613935470581055\n",
            " \n",
            "Epoch [45/101], Step [3/6] Loss: 8.404182116190592\n",
            "Epoch [45/101], Step [6/6] Loss: 9.122715950012207\n",
            "Train loss in epoch 45 is 3.0263834794362388\n",
            "Validation loss in epoch 45 is 2.8330711126327515\n",
            " \n",
            "Epoch [46/101], Step [3/6] Loss: 8.336410840352377\n",
            "Epoch [46/101], Step [6/6] Loss: 8.76464573542277\n",
            "Epoch    46: reducing learning rate of group 0 to 1.0000e-07.\n",
            "Train loss in epoch 46 is 3.030212680498759\n",
            "Validation loss in epoch 46 is 2.7892847061157227\n",
            " \n",
            "Epoch [47/101], Step [3/6] Loss: 8.94198989868164\n",
            "Epoch [47/101], Step [6/6] Loss: 8.129664103190104\n",
            "Train loss in epoch 47 is 3.017224113146464\n",
            "Validation loss in epoch 47 is 2.8182584047317505\n",
            " \n",
            "Epoch [48/101], Step [3/6] Loss: 8.32625675201416\n",
            "Epoch [48/101], Step [6/6] Loss: 8.993241628011068\n",
            "Train loss in epoch 48 is 2.9974902470906577\n",
            "Validation loss in epoch 48 is 2.8371901512145996\n",
            " \n",
            "Epoch [49/101], Step [3/6] Loss: 8.34023634592692\n",
            "Epoch [49/101], Step [6/6] Loss: 8.83403730392456\n",
            "Train loss in epoch 49 is 3.0044329166412354\n",
            "Validation loss in epoch 49 is 2.7775059938430786\n",
            " \n",
            "Epoch [50/101], Step [3/6] Loss: 8.748096783955893\n",
            "Epoch [50/101], Step [6/6] Loss: 8.901269594828287\n",
            "Train loss in epoch 50 is 2.998003045717875\n",
            "Validation loss in epoch 50 is 2.8096314668655396\n",
            " \n",
            "Epoch [51/101], Step [3/6] Loss: 8.26438045501709\n",
            "Epoch [51/101], Step [6/6] Loss: 8.863048076629639\n",
            "Train loss in epoch 51 is 2.996302366256714\n",
            "Validation loss in epoch 51 is 2.8181127309799194\n",
            " \n",
            "Epoch [52/101], Step [3/6] Loss: 8.695483843485514\n",
            "Epoch [52/101], Step [6/6] Loss: 8.598004341125488\n",
            "Epoch    52: reducing learning rate of group 0 to 1.0000e-08.\n",
            "Train loss in epoch 52 is 2.991416891415914\n",
            "Validation loss in epoch 52 is 2.790447473526001\n",
            " \n",
            "Epoch [53/101], Step [3/6] Loss: 8.587182680765787\n",
            "Epoch [53/101], Step [6/6] Loss: 8.619379679361979\n",
            "Train loss in epoch 53 is 3.009450912475586\n",
            "Validation loss in epoch 53 is 2.779555320739746\n",
            " \n",
            "Epoch [54/101], Step [3/6] Loss: 8.58630657196045\n",
            "Epoch [54/101], Step [6/6] Loss: 8.65666421254476\n",
            "Train loss in epoch 54 is 2.9873518149058023\n",
            "Validation loss in epoch 54 is 2.7577528953552246\n",
            " \n",
            "Epoch [55/101], Step [3/6] Loss: 8.536290804545084\n",
            "Epoch [55/101], Step [6/6] Loss: 8.979249318440756\n",
            "Train loss in epoch 55 is 3.00694731871287\n",
            "Validation loss in epoch 55 is 2.8216798305511475\n",
            " \n",
            "Epoch [56/101], Step [3/6] Loss: 8.850871721903482\n",
            "Epoch [56/101], Step [6/6] Loss: 8.259701410929361\n",
            "Train loss in epoch 56 is 3.012475768725077\n",
            "Validation loss in epoch 56 is 2.799881935119629\n",
            " \n",
            "Epoch [57/101], Step [3/6] Loss: 8.585054397583008\n",
            "Epoch [57/101], Step [6/6] Loss: 9.009091059366861\n",
            "Train loss in epoch 57 is 2.994536797205607\n",
            "Validation loss in epoch 57 is 2.753923535346985\n",
            " \n",
            "Epoch [58/101], Step [3/6] Loss: 8.550382137298584\n",
            "Epoch [58/101], Step [6/6] Loss: 8.859707832336426\n",
            "Train loss in epoch 58 is 2.9938265482584634\n",
            "Validation loss in epoch 58 is 2.7973135709762573\n",
            " \n",
            "Epoch [59/101], Step [3/6] Loss: 8.468247095743815\n",
            "Epoch [59/101], Step [6/6] Loss: 8.675891399383545\n",
            "Train loss in epoch 59 is 2.99360728263855\n",
            "Validation loss in epoch 59 is 2.8243778944015503\n",
            " \n",
            "Epoch [60/101], Step [3/6] Loss: 8.321160952250162\n",
            "Epoch [60/101], Step [6/6] Loss: 8.998627344767252\n",
            "Train loss in epoch 60 is 3.0052316983540854\n",
            "Validation loss in epoch 60 is 2.792593240737915\n",
            " \n",
            "Epoch [61/101], Step [3/6] Loss: 8.478233178456625\n",
            "Epoch [61/101], Step [6/6] Loss: 8.69814364115397\n",
            "Train loss in epoch 61 is 2.994202176729838\n",
            "Validation loss in epoch 61 is 2.8026100397109985\n",
            " \n",
            "Epoch [62/101], Step [3/6] Loss: 8.833206494649252\n",
            "Epoch [62/101], Step [6/6] Loss: 8.589690208435059\n",
            "Train loss in epoch 62 is 3.013403336207072\n",
            "Validation loss in epoch 62 is 2.794483184814453\n",
            " \n",
            "Epoch [63/101], Step [3/6] Loss: 8.680835723876953\n",
            "Epoch [63/101], Step [6/6] Loss: 8.521710395812988\n",
            "Train loss in epoch 63 is 2.988096912701925\n",
            "Validation loss in epoch 63 is 2.7754048109054565\n",
            " \n",
            "Epoch [64/101], Step [3/6] Loss: 8.755716641743978\n",
            "Epoch [64/101], Step [6/6] Loss: 8.372812747955322\n",
            "Train loss in epoch 64 is 3.0154560804367065\n",
            "Validation loss in epoch 64 is 2.784180164337158\n",
            " \n",
            "Epoch [65/101], Step [3/6] Loss: 8.481527010599772\n",
            "Epoch [65/101], Step [6/6] Loss: 8.799596786499023\n",
            "Train loss in epoch 65 is 3.010837197303772\n",
            "Validation loss in epoch 65 is 2.797627091407776\n",
            " \n",
            "Epoch [66/101], Step [3/6] Loss: 8.550853729248047\n",
            "Epoch [66/101], Step [6/6] Loss: 8.715210914611816\n",
            "Train loss in epoch 66 is 2.9927162329355874\n",
            "Validation loss in epoch 66 is 2.7945406436920166\n",
            " \n",
            "Epoch [67/101], Step [3/6] Loss: 8.661393801371256\n",
            "Epoch [67/101], Step [6/6] Loss: 8.783275922139486\n",
            "Train loss in epoch 67 is 3.0048362414042153\n",
            "Validation loss in epoch 67 is 2.8333311080932617\n",
            " \n",
            "Epoch [68/101], Step [3/6] Loss: 8.214162508646647\n",
            "Epoch [68/101], Step [6/6] Loss: 8.935115337371826\n",
            "Train loss in epoch 68 is 3.01596466700236\n",
            "Validation loss in epoch 68 is 2.8011436462402344\n",
            " \n",
            "Epoch [69/101], Step [3/6] Loss: 8.238295555114746\n",
            "Epoch [69/101], Step [6/6] Loss: 9.346871693929037\n",
            "Train loss in epoch 69 is 2.9915043910344443\n",
            "Validation loss in epoch 69 is 2.7811168432235718\n",
            " \n",
            "Epoch [70/101], Step [3/6] Loss: 8.808473269144693\n",
            "Epoch [70/101], Step [6/6] Loss: 8.469374815622965\n",
            "Train loss in epoch 70 is 2.997899572054545\n",
            "Validation loss in epoch 70 is 2.850895404815674\n",
            " \n",
            "Epoch [71/101], Step [3/6] Loss: 8.490614096323648\n",
            "Epoch [71/101], Step [6/6] Loss: 8.953721364339193\n",
            "Train loss in epoch 71 is 2.990363836288452\n",
            "Validation loss in epoch 71 is 2.823920249938965\n",
            " \n",
            "Epoch [72/101], Step [3/6] Loss: 8.833565394083658\n",
            "Epoch [72/101], Step [6/6] Loss: 8.189331531524658\n",
            "Train loss in epoch 72 is 2.998938957850138\n",
            "Validation loss in epoch 72 is 2.82302188873291\n",
            " \n",
            "Epoch [73/101], Step [3/6] Loss: 8.84774080912272\n",
            "Epoch [73/101], Step [6/6] Loss: 8.446706771850586\n",
            "Train loss in epoch 73 is 2.995684345563253\n",
            "Validation loss in epoch 73 is 2.813567280769348\n",
            " \n",
            "Epoch [74/101], Step [3/6] Loss: 8.424193700154623\n",
            "Epoch [74/101], Step [6/6] Loss: 8.921884854634603\n",
            "Train loss in epoch 74 is 3.0215373039245605\n",
            "Validation loss in epoch 74 is 2.831673741340637\n",
            " \n",
            "Epoch [75/101], Step [3/6] Loss: 9.040924072265625\n",
            "Epoch [75/101], Step [6/6] Loss: 7.9741129875183105\n",
            "Train loss in epoch 75 is 3.000397562980652\n",
            "Validation loss in epoch 75 is 2.727891206741333\n",
            " \n",
            "Epoch [76/101], Step [3/6] Loss: 8.824518203735352\n",
            "Epoch [76/101], Step [6/6] Loss: 8.249491532643637\n",
            "Train loss in epoch 76 is 2.993731458981832\n",
            "Validation loss in epoch 76 is 2.7921128273010254\n",
            " \n",
            "Epoch [77/101], Step [3/6] Loss: 8.724574406941732\n",
            "Epoch [77/101], Step [6/6] Loss: 8.277259667714437\n",
            "Train loss in epoch 77 is 2.9786640803019204\n",
            "Validation loss in epoch 77 is 2.790260076522827\n",
            " \n",
            "Epoch [78/101], Step [3/6] Loss: 8.916372934977213\n",
            "Epoch [78/101], Step [6/6] Loss: 8.253039360046387\n",
            "Train loss in epoch 78 is 2.988231897354126\n",
            "Validation loss in epoch 78 is 2.7841800451278687\n",
            " \n",
            "Epoch [79/101], Step [3/6] Loss: 8.709744135538736\n",
            "Epoch [79/101], Step [6/6] Loss: 8.597650210062662\n",
            "Train loss in epoch 79 is 3.0087815125783286\n",
            "Validation loss in epoch 79 is 2.846625804901123\n",
            " \n",
            "Epoch [80/101], Step [3/6] Loss: 8.897599856058756\n",
            "Epoch [80/101], Step [6/6] Loss: 8.339303175608316\n",
            "Train loss in epoch 80 is 3.020990014076233\n",
            "Validation loss in epoch 80 is 2.772508978843689\n",
            " \n",
            "Epoch [81/101], Step [3/6] Loss: 8.831716219584147\n",
            "Epoch [81/101], Step [6/6] Loss: 8.489909172058105\n",
            "Train loss in epoch 81 is 3.0430625279744468\n",
            "Validation loss in epoch 81 is 2.796084403991699\n",
            " \n",
            "Epoch [82/101], Step [3/6] Loss: 9.3003568649292\n",
            "Epoch [82/101], Step [6/6] Loss: 7.8240993817647295\n",
            "Train loss in epoch 82 is 3.005560358365377\n",
            "Validation loss in epoch 82 is 2.8124457597732544\n",
            " \n",
            "Epoch [83/101], Step [3/6] Loss: 8.384876569112143\n",
            "Epoch [83/101], Step [6/6] Loss: 8.918043613433838\n",
            "Train loss in epoch 83 is 3.029978553454081\n",
            "Validation loss in epoch 83 is 2.808060884475708\n",
            " \n",
            "Epoch [84/101], Step [3/6] Loss: 8.556557973225912\n",
            "Epoch [84/101], Step [6/6] Loss: 8.89735476175944\n",
            "Train loss in epoch 84 is 2.9930038849512735\n",
            "Validation loss in epoch 84 is 2.7575671672821045\n",
            " \n",
            "Epoch [85/101], Step [3/6] Loss: 8.609729448954264\n",
            "Epoch [85/101], Step [6/6] Loss: 8.962230682373047\n",
            "Train loss in epoch 85 is 2.984625975290934\n",
            "Validation loss in epoch 85 is 2.8102811574935913\n",
            " \n",
            "Epoch [86/101], Step [3/6] Loss: 8.498262405395508\n",
            "Epoch [86/101], Step [6/6] Loss: 8.824409166971842\n",
            "Train loss in epoch 86 is 2.987857937812805\n",
            "Validation loss in epoch 86 is 2.7597752809524536\n",
            " \n",
            "Epoch [87/101], Step [3/6] Loss: 8.44196859995524\n",
            "Epoch [87/101], Step [6/6] Loss: 8.878411293029785\n",
            "Train loss in epoch 87 is 2.987856467564901\n",
            "Validation loss in epoch 87 is 2.7383700609207153\n",
            " \n",
            "Epoch [88/101], Step [3/6] Loss: 8.920522371927897\n",
            "Epoch [88/101], Step [6/6] Loss: 8.288150787353516\n",
            "Train loss in epoch 88 is 2.989994525909424\n",
            "Validation loss in epoch 88 is 2.79346239566803\n",
            " \n",
            "Epoch [89/101], Step [3/6] Loss: 8.805900891621908\n",
            "Epoch [89/101], Step [6/6] Loss: 8.488109906514486\n",
            "Train loss in epoch 89 is 3.001915216445923\n",
            "Validation loss in epoch 89 is 2.756801724433899\n",
            " \n",
            "Epoch [90/101], Step [3/6] Loss: 8.694302876790365\n",
            "Epoch [90/101], Step [6/6] Loss: 8.707159360249838\n",
            "Train loss in epoch 90 is 3.007598559061686\n",
            "Validation loss in epoch 90 is 2.8105968236923218\n",
            " \n",
            "Epoch [91/101], Step [3/6] Loss: 8.255415916442871\n",
            "Epoch [91/101], Step [6/6] Loss: 8.879379749298096\n",
            "Train loss in epoch 91 is 3.0145660241444907\n",
            "Validation loss in epoch 91 is 2.7883963584899902\n",
            " \n",
            "Epoch [92/101], Step [3/6] Loss: 8.723501205444336\n",
            "Epoch [92/101], Step [6/6] Loss: 8.724308331807455\n",
            "Train loss in epoch 92 is 2.9930532773335776\n",
            "Validation loss in epoch 92 is 2.8117122650146484\n",
            " \n",
            "Epoch [93/101], Step [3/6] Loss: 8.425976435343424\n",
            "Epoch [93/101], Step [6/6] Loss: 8.872488339742025\n",
            "Train loss in epoch 93 is 2.9944647550582886\n",
            "Validation loss in epoch 93 is 2.771738886833191\n",
            " \n",
            "Epoch [94/101], Step [3/6] Loss: 8.914523442586264\n",
            "Epoch [94/101], Step [6/6] Loss: 8.611780325571695\n",
            "Train loss in epoch 94 is 2.999861200650533\n",
            "Validation loss in epoch 94 is 2.7775163650512695\n",
            " \n",
            "Epoch [95/101], Step [3/6] Loss: 9.23260466257731\n",
            "Epoch [95/101], Step [6/6] Loss: 7.953670660654704\n",
            "Train loss in epoch 95 is 3.004952629407247\n",
            "Validation loss in epoch 95 is 2.762958288192749\n",
            " \n",
            "Epoch [96/101], Step [3/6] Loss: 8.777206420898438\n",
            "Epoch [96/101], Step [6/6] Loss: 8.599642117818197\n",
            "Train loss in epoch 96 is 2.9773250818252563\n",
            "Validation loss in epoch 96 is 2.83147132396698\n",
            " \n",
            "Epoch [97/101], Step [3/6] Loss: 8.448163986206055\n",
            "Epoch [97/101], Step [6/6] Loss: 9.017480532328287\n",
            "Train loss in epoch 97 is 3.0054799715677896\n",
            "Validation loss in epoch 97 is 2.746972441673279\n",
            " \n",
            "Epoch [98/101], Step [3/6] Loss: 9.091596603393555\n",
            "Epoch [98/101], Step [6/6] Loss: 8.122329235076904\n",
            "Train loss in epoch 98 is 2.9929572343826294\n",
            "Validation loss in epoch 98 is 2.8048641681671143\n",
            " \n",
            "Epoch [99/101], Step [3/6] Loss: 8.859707355499268\n",
            "Epoch [99/101], Step [6/6] Loss: 8.32847229639689\n",
            "Train loss in epoch 99 is 3.0159348249435425\n",
            "Validation loss in epoch 99 is 2.8091989755630493\n",
            " \n",
            "Epoch [100/101], Step [3/6] Loss: 8.617548942565918\n",
            "Epoch [100/101], Step [6/6] Loss: 8.560662269592285\n",
            "Train loss in epoch 100 is 2.9997777938842773\n",
            "Validation loss in epoch 100 is 2.8064486980438232\n",
            " \n",
            "Epoch [101/101], Step [3/6] Loss: 8.472101529439291\n",
            "Epoch [101/101], Step [6/6] Loss: 8.909795761108398\n",
            "Train loss in epoch 101 is 3.0042755206425986\n",
            "Validation loss in epoch 101 is 2.772410035133362\n",
            " \n"
          ],
          "name": "stdout"
        }
      ]
    },
    {
      "cell_type": "code",
      "metadata": {
        "id": "12gFOXqIWErf",
        "colab_type": "code",
        "colab": {}
      },
      "source": [
        "torch.save(model.state_dict(), '/content/gdrive/My Drive/Machine Learning/Kaggle/Facial Key Points Detection/weights/weights.pkl') "
      ],
      "execution_count": 53,
      "outputs": []
    },
    {
      "cell_type": "markdown",
      "metadata": {
        "id": "GRWbTQmhoP5u",
        "colab_type": "text"
      },
      "source": [
        "#Testing "
      ]
    },
    {
      "cell_type": "markdown",
      "metadata": {
        "id": "HYM4QP7fohgH",
        "colab_type": "text"
      },
      "source": [
        "Lets look at the testing data"
      ]
    },
    {
      "cell_type": "code",
      "metadata": {
        "id": "CXTnlPMbokNA",
        "colab_type": "code",
        "colab": {
          "base_uri": "https://localhost:8080/",
          "height": 202
        },
        "outputId": "8a7aa7ff-5f52-44a9-fa5a-a267a07b7118"
      },
      "source": [
        "test_csv.head()"
      ],
      "execution_count": 35,
      "outputs": [
        {
          "output_type": "execute_result",
          "data": {
            "text/html": [
              "<div>\n",
              "<style scoped>\n",
              "    .dataframe tbody tr th:only-of-type {\n",
              "        vertical-align: middle;\n",
              "    }\n",
              "\n",
              "    .dataframe tbody tr th {\n",
              "        vertical-align: top;\n",
              "    }\n",
              "\n",
              "    .dataframe thead th {\n",
              "        text-align: right;\n",
              "    }\n",
              "</style>\n",
              "<table border=\"1\" class=\"dataframe\">\n",
              "  <thead>\n",
              "    <tr style=\"text-align: right;\">\n",
              "      <th></th>\n",
              "      <th>ImageId</th>\n",
              "      <th>Image</th>\n",
              "    </tr>\n",
              "  </thead>\n",
              "  <tbody>\n",
              "    <tr>\n",
              "      <th>0</th>\n",
              "      <td>1</td>\n",
              "      <td>182 183 182 182 180 180 176 169 156 137 124 10...</td>\n",
              "    </tr>\n",
              "    <tr>\n",
              "      <th>1</th>\n",
              "      <td>2</td>\n",
              "      <td>76 87 81 72 65 59 64 76 69 42 31 38 49 58 58 4...</td>\n",
              "    </tr>\n",
              "    <tr>\n",
              "      <th>2</th>\n",
              "      <td>3</td>\n",
              "      <td>177 176 174 170 169 169 168 166 166 166 161 14...</td>\n",
              "    </tr>\n",
              "    <tr>\n",
              "      <th>3</th>\n",
              "      <td>4</td>\n",
              "      <td>176 174 174 175 174 174 176 176 175 171 165 15...</td>\n",
              "    </tr>\n",
              "    <tr>\n",
              "      <th>4</th>\n",
              "      <td>5</td>\n",
              "      <td>50 47 44 101 144 149 120 58 48 42 35 35 37 39 ...</td>\n",
              "    </tr>\n",
              "  </tbody>\n",
              "</table>\n",
              "</div>"
            ],
            "text/plain": [
              "   ImageId                                              Image\n",
              "0        1  182 183 182 182 180 180 176 169 156 137 124 10...\n",
              "1        2  76 87 81 72 65 59 64 76 69 42 31 38 49 58 58 4...\n",
              "2        3  177 176 174 170 169 169 168 166 166 166 161 14...\n",
              "3        4  176 174 174 175 174 174 176 176 175 171 165 15...\n",
              "4        5  50 47 44 101 144 149 120 58 48 42 35 35 37 39 ..."
            ]
          },
          "metadata": {
            "tags": []
          },
          "execution_count": 35
        }
      ]
    },
    {
      "cell_type": "code",
      "metadata": {
        "id": "0QGSnjF9oRyj",
        "colab_type": "code",
        "colab": {}
      },
      "source": [
        "test_loader= DataLoader(test_dataset, batch_size= 512, shuffle=True, num_workers=16) "
      ],
      "execution_count": 36,
      "outputs": []
    },
    {
      "cell_type": "code",
      "metadata": {
        "id": "Li1gkER3Emp3",
        "colab_type": "code",
        "colab": {}
      },
      "source": [
        "with torch.no_grad():\n",
        "  Y_preds=list()\n",
        "  for x in test_loader:\n",
        "    x=x=x.to(device=device, dtype=torch.float)\n",
        "    y_pred=model(x).to(device=\"cpu\")\n",
        "    Y_preds.append(y_pred)\n",
        "    \n",
        "  Y= torch.cat(Y_preds, dim=0).tolist()\n",
        "  \n",
        "  "
      ],
      "execution_count": 37,
      "outputs": []
    },
    {
      "cell_type": "code",
      "metadata": {
        "id": "jPmhHHjqXoy4",
        "colab_type": "code",
        "colab": {}
      },
      "source": [
        "lookid_list = list(IdLookupTable_csv['FeatureName'])\n",
        "imageID = list(IdLookupTable_csv['ImageId']-1)\n",
        "pre_list = list(Y)"
      ],
      "execution_count": 38,
      "outputs": []
    },
    {
      "cell_type": "code",
      "metadata": {
        "id": "6uVVv_J9aBSa",
        "colab_type": "code",
        "colab": {}
      },
      "source": [
        "rowid = IdLookupTable_csv['RowId']\n",
        "rowid=list(rowid)"
      ],
      "execution_count": 39,
      "outputs": []
    },
    {
      "cell_type": "code",
      "metadata": {
        "id": "kEcwR1cdaOl0",
        "colab_type": "code",
        "colab": {}
      },
      "source": [
        "feature = []\n",
        "for f in list(IdLookupTable_csv['FeatureName']):\n",
        "    feature.append(lookid_list.index(f))"
      ],
      "execution_count": 40,
      "outputs": []
    },
    {
      "cell_type": "code",
      "metadata": {
        "id": "HGV1v7QHap6C",
        "colab_type": "code",
        "colab": {}
      },
      "source": [
        "preded = []\n",
        "for x,y in zip(imageID,feature):\n",
        "    preded.append(pre_list[x][y])"
      ],
      "execution_count": 41,
      "outputs": []
    },
    {
      "cell_type": "code",
      "metadata": {
        "id": "pz_7N8iQbGEl",
        "colab_type": "code",
        "colab": {}
      },
      "source": [
        "rowid = pd.Series(rowid,name = 'RowId')"
      ],
      "execution_count": 42,
      "outputs": []
    },
    {
      "cell_type": "code",
      "metadata": {
        "id": "1KTRxG2_bJYZ",
        "colab_type": "code",
        "colab": {}
      },
      "source": [
        "loc = pd.Series(preded,name = 'Location')"
      ],
      "execution_count": 43,
      "outputs": []
    },
    {
      "cell_type": "code",
      "metadata": {
        "id": "GntgJLqSbL5i",
        "colab_type": "code",
        "colab": {}
      },
      "source": [
        "submission = pd.concat([rowid,loc],axis = 1)"
      ],
      "execution_count": 44,
      "outputs": []
    },
    {
      "cell_type": "code",
      "metadata": {
        "id": "1RjAewTFf8av",
        "colab_type": "code",
        "colab": {}
      },
      "source": [
        "submission.to_csv('face_key_detection_submission_2.csv', index = False)\n"
      ],
      "execution_count": 45,
      "outputs": []
    },
    {
      "cell_type": "markdown",
      "metadata": {
        "id": "rZj4i1EA0LCO",
        "colab_type": "text"
      },
      "source": [
        "Final submission score:\n",
        "\n",
        "\n",
        "*   Private Score : 3.80930\n",
        "*   Public Score: 4.00275\n",
        "\n"
      ]
    }
  ]
}